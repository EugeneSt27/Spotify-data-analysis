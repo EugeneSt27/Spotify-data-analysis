{
 "cells": [
  {
   "cell_type": "markdown",
   "id": "9ed7acaa",
   "metadata": {
    "heading_collapsed": true
   },
   "source": [
    "## 0. Импорт библиотек, определение функций"
   ]
  },
  {
   "cell_type": "code",
   "execution_count": 1,
   "id": "f6939530",
   "metadata": {
    "hidden": true
   },
   "outputs": [],
   "source": [
    "import pandas as pd\n",
    "\n",
    "import seaborn as sns\n",
    "\n",
    "import matplotlib\n",
    "import matplotlib.pyplot as plt\n",
    "%matplotlib inline\n",
    "matplotlib.style.use('ggplot')\n",
    "\n",
    "import numpy as np\n",
    "from scipy.stats import kstest, spearmanr, mannwhitneyu, levene, kruskal\n",
    "\n",
    "from sklearn.model_selection import train_test_split, GridSearchCV, KFold\n",
    "from sklearn.linear_model import LogisticRegression\n",
    "from sklearn.metrics import mean_absolute_percentage_error, mean_squared_error\n",
    "from sklearn.metrics import r2_score\n",
    "\n",
    "from sklearn.preprocessing import StandardScaler, MinMaxScaler,  PolynomialFeatures\n",
    "from sklearn.pipeline import make_pipeline\n",
    "\n",
    "import statsmodels.api as sm\n",
    "\n",
    "import operator\n",
    "\n",
    "from datetime import datetime\n",
    "\n",
    "from collections import Counter\n",
    "\n",
    "from matplotlib.colors import ListedColormap \n",
    "\n",
    "from sklearn.metrics import confusion_matrix, accuracy_score, precision_score, recall_score, f1_score, classification_report, auc, classification_report, precision_recall_curve, auc, classification_report\n",
    "from sklearn.utils import shuffle\n"
   ]
  },
  {
   "cell_type": "code",
   "execution_count": 2,
   "id": "8e776a18",
   "metadata": {
    "hidden": true
   },
   "outputs": [],
   "source": [
    "def get_spearman(data_1, data_2):\n",
    "    correlation = spearmanr(data_1, data_2)\n",
    "    return '{0:.2f}\\n{1:.2f}'.format(*correlation)"
   ]
  },
  {
   "cell_type": "code",
   "execution_count": 3,
   "id": "43afac61",
   "metadata": {
    "hidden": true
   },
   "outputs": [],
   "source": [
    "def conf_matrix(fact, pred):\n",
    "    conf_test = confusion_matrix(fact, pred, normalize='true')\n",
    "    sns.heatmap(conf_test, annot=True, fmt='.2f', cmap='binary')\n",
    "    plt.xlabel('Predicted', size=14)\n",
    "    plt.ylabel('Actual', size=14)\n",
    "    plt.show()"
   ]
  },
  {
   "cell_type": "markdown",
   "id": "5645a729",
   "metadata": {
    "heading_collapsed": true
   },
   "source": [
    "## 1. Импорт данных и предобработка"
   ]
  },
  {
   "cell_type": "code",
   "execution_count": 4,
   "id": "02dbf9a2",
   "metadata": {
    "hidden": true
   },
   "outputs": [
    {
     "data": {
      "text/html": [
       "<div>\n",
       "<style scoped>\n",
       "    .dataframe tbody tr th:only-of-type {\n",
       "        vertical-align: middle;\n",
       "    }\n",
       "\n",
       "    .dataframe tbody tr th {\n",
       "        vertical-align: top;\n",
       "    }\n",
       "\n",
       "    .dataframe thead th {\n",
       "        text-align: right;\n",
       "    }\n",
       "</style>\n",
       "<table border=\"1\" class=\"dataframe\">\n",
       "  <thead>\n",
       "    <tr style=\"text-align: right;\">\n",
       "      <th></th>\n",
       "      <th>artist_name</th>\n",
       "      <th>track_name</th>\n",
       "      <th>track_id</th>\n",
       "      <th>popularity</th>\n",
       "      <th>year</th>\n",
       "      <th>genre</th>\n",
       "      <th>danceability</th>\n",
       "      <th>energy</th>\n",
       "      <th>key</th>\n",
       "      <th>loudness</th>\n",
       "      <th>mode</th>\n",
       "      <th>speechiness</th>\n",
       "      <th>acousticness</th>\n",
       "      <th>instrumentalness</th>\n",
       "      <th>liveness</th>\n",
       "      <th>valence</th>\n",
       "      <th>tempo</th>\n",
       "      <th>duration_ms</th>\n",
       "      <th>time_signature</th>\n",
       "    </tr>\n",
       "  </thead>\n",
       "  <tbody>\n",
       "    <tr>\n",
       "      <th>0</th>\n",
       "      <td>Jason Mraz</td>\n",
       "      <td>I Won't Give Up</td>\n",
       "      <td>53QF56cjZA9RTuuMZDrSA6</td>\n",
       "      <td>68</td>\n",
       "      <td>2012</td>\n",
       "      <td>acoustic</td>\n",
       "      <td>0.483</td>\n",
       "      <td>0.303</td>\n",
       "      <td>4</td>\n",
       "      <td>-10.058</td>\n",
       "      <td>1</td>\n",
       "      <td>0.0429</td>\n",
       "      <td>0.6940</td>\n",
       "      <td>0.000000</td>\n",
       "      <td>0.1150</td>\n",
       "      <td>0.139</td>\n",
       "      <td>133.406</td>\n",
       "      <td>240166</td>\n",
       "      <td>3</td>\n",
       "    </tr>\n",
       "    <tr>\n",
       "      <th>1</th>\n",
       "      <td>Jason Mraz</td>\n",
       "      <td>93 Million Miles</td>\n",
       "      <td>1s8tP3jP4GZcyHDsjvw218</td>\n",
       "      <td>50</td>\n",
       "      <td>2012</td>\n",
       "      <td>acoustic</td>\n",
       "      <td>0.572</td>\n",
       "      <td>0.454</td>\n",
       "      <td>3</td>\n",
       "      <td>-10.286</td>\n",
       "      <td>1</td>\n",
       "      <td>0.0258</td>\n",
       "      <td>0.4770</td>\n",
       "      <td>0.000014</td>\n",
       "      <td>0.0974</td>\n",
       "      <td>0.515</td>\n",
       "      <td>140.182</td>\n",
       "      <td>216387</td>\n",
       "      <td>4</td>\n",
       "    </tr>\n",
       "    <tr>\n",
       "      <th>2</th>\n",
       "      <td>Joshua Hyslop</td>\n",
       "      <td>Do Not Let Me Go</td>\n",
       "      <td>7BRCa8MPiyuvr2VU3O9W0F</td>\n",
       "      <td>57</td>\n",
       "      <td>2012</td>\n",
       "      <td>acoustic</td>\n",
       "      <td>0.409</td>\n",
       "      <td>0.234</td>\n",
       "      <td>3</td>\n",
       "      <td>-13.711</td>\n",
       "      <td>1</td>\n",
       "      <td>0.0323</td>\n",
       "      <td>0.3380</td>\n",
       "      <td>0.000050</td>\n",
       "      <td>0.0895</td>\n",
       "      <td>0.145</td>\n",
       "      <td>139.832</td>\n",
       "      <td>158960</td>\n",
       "      <td>4</td>\n",
       "    </tr>\n",
       "    <tr>\n",
       "      <th>3</th>\n",
       "      <td>Boyce Avenue</td>\n",
       "      <td>Fast Car</td>\n",
       "      <td>63wsZUhUZLlh1OsyrZq7sz</td>\n",
       "      <td>58</td>\n",
       "      <td>2012</td>\n",
       "      <td>acoustic</td>\n",
       "      <td>0.392</td>\n",
       "      <td>0.251</td>\n",
       "      <td>10</td>\n",
       "      <td>-9.845</td>\n",
       "      <td>1</td>\n",
       "      <td>0.0363</td>\n",
       "      <td>0.8070</td>\n",
       "      <td>0.000000</td>\n",
       "      <td>0.0797</td>\n",
       "      <td>0.508</td>\n",
       "      <td>204.961</td>\n",
       "      <td>304293</td>\n",
       "      <td>4</td>\n",
       "    </tr>\n",
       "    <tr>\n",
       "      <th>4</th>\n",
       "      <td>Andrew Belle</td>\n",
       "      <td>Sky's Still Blue</td>\n",
       "      <td>6nXIYClvJAfi6ujLiKqEq8</td>\n",
       "      <td>54</td>\n",
       "      <td>2012</td>\n",
       "      <td>acoustic</td>\n",
       "      <td>0.430</td>\n",
       "      <td>0.791</td>\n",
       "      <td>6</td>\n",
       "      <td>-5.419</td>\n",
       "      <td>0</td>\n",
       "      <td>0.0302</td>\n",
       "      <td>0.0726</td>\n",
       "      <td>0.019300</td>\n",
       "      <td>0.1100</td>\n",
       "      <td>0.217</td>\n",
       "      <td>171.864</td>\n",
       "      <td>244320</td>\n",
       "      <td>4</td>\n",
       "    </tr>\n",
       "  </tbody>\n",
       "</table>\n",
       "</div>"
      ],
      "text/plain": [
       "     artist_name        track_name                track_id  popularity  year  \\\n",
       "0     Jason Mraz   I Won't Give Up  53QF56cjZA9RTuuMZDrSA6          68  2012   \n",
       "1     Jason Mraz  93 Million Miles  1s8tP3jP4GZcyHDsjvw218          50  2012   \n",
       "2  Joshua Hyslop  Do Not Let Me Go  7BRCa8MPiyuvr2VU3O9W0F          57  2012   \n",
       "3   Boyce Avenue          Fast Car  63wsZUhUZLlh1OsyrZq7sz          58  2012   \n",
       "4   Andrew Belle  Sky's Still Blue  6nXIYClvJAfi6ujLiKqEq8          54  2012   \n",
       "\n",
       "      genre  danceability  energy  key  loudness  mode  speechiness  \\\n",
       "0  acoustic         0.483   0.303    4   -10.058     1       0.0429   \n",
       "1  acoustic         0.572   0.454    3   -10.286     1       0.0258   \n",
       "2  acoustic         0.409   0.234    3   -13.711     1       0.0323   \n",
       "3  acoustic         0.392   0.251   10    -9.845     1       0.0363   \n",
       "4  acoustic         0.430   0.791    6    -5.419     0       0.0302   \n",
       "\n",
       "   acousticness  instrumentalness  liveness  valence    tempo  duration_ms  \\\n",
       "0        0.6940          0.000000    0.1150    0.139  133.406       240166   \n",
       "1        0.4770          0.000014    0.0974    0.515  140.182       216387   \n",
       "2        0.3380          0.000050    0.0895    0.145  139.832       158960   \n",
       "3        0.8070          0.000000    0.0797    0.508  204.961       304293   \n",
       "4        0.0726          0.019300    0.1100    0.217  171.864       244320   \n",
       "\n",
       "   time_signature  \n",
       "0               3  \n",
       "1               4  \n",
       "2               4  \n",
       "3               4  \n",
       "4               4  "
      ]
     },
     "execution_count": 4,
     "metadata": {},
     "output_type": "execute_result"
    }
   ],
   "source": [
    "ds = pd.read_csv('data/spotify_data.csv', index_col='Unnamed: 0')\n",
    "ds.head()"
   ]
  },
  {
   "cell_type": "markdown",
   "id": "52c8fe4e",
   "metadata": {
    "hidden": true
   },
   "source": [
    "Создание новых признаков: \n",
    "- возраст трека;\n",
    "- длительность в минутах;\n",
    "- популярность, как качественный показатель: если исходная популярность больше 50, то трек считается популярным."
   ]
  },
  {
   "cell_type": "code",
   "execution_count": 5,
   "id": "6c30ce71",
   "metadata": {
    "hidden": true
   },
   "outputs": [],
   "source": [
    "ds['age'] = (datetime.today().year - ds['year']).astype('int')"
   ]
  },
  {
   "cell_type": "code",
   "execution_count": 6,
   "id": "c61e20e9",
   "metadata": {
    "hidden": true
   },
   "outputs": [],
   "source": [
    "ds['duration_min'] = ds['duration_ms']//1000//60"
   ]
  },
  {
   "cell_type": "code",
   "execution_count": 7,
   "id": "5a810041",
   "metadata": {
    "hidden": true
   },
   "outputs": [],
   "source": [
    "ds['popularity'] = ds['popularity'].apply(lambda x: 1 if x>=50 else 0)"
   ]
  },
  {
   "cell_type": "markdown",
   "id": "4c6d18b9",
   "metadata": {
    "hidden": true
   },
   "source": [
    "Разделение признаков на группы."
   ]
  },
  {
   "cell_type": "code",
   "execution_count": 8,
   "id": "e4ee6601",
   "metadata": {
    "hidden": true
   },
   "outputs": [],
   "source": [
    "categorial_data = ['popularity','artist_name', 'track_name', 'track_id', 'year', 'genre', 'key', 'mode','time_signature']\n",
    "metric = ['danceability', 'energy', 'loudness','speechiness', 'acousticness', 'instrumentalness', 'liveness', 'valence', 'tempo', 'duration_min', 'age' ]"
   ]
  },
  {
   "cell_type": "markdown",
   "id": "b4b45239",
   "metadata": {
    "heading_collapsed": true
   },
   "source": [
    "## 2. Описательные статистики"
   ]
  },
  {
   "cell_type": "markdown",
   "id": "0f98b42d",
   "metadata": {
    "hidden": true
   },
   "source": [
    "**Задание 1.** Вывести описательные статистики катеригориальных и количественных признаков. Удалить неинформативные признаки."
   ]
  },
  {
   "cell_type": "markdown",
   "id": "11713516",
   "metadata": {
    "hidden": true
   },
   "source": [
    "### 2.1 Категориальные"
   ]
  },
  {
   "cell_type": "code",
   "execution_count": 9,
   "id": "269601ef",
   "metadata": {},
   "outputs": [
    {
     "data": {
      "text/html": [
       "<div>\n",
       "<style scoped>\n",
       "    .dataframe tbody tr th:only-of-type {\n",
       "        vertical-align: middle;\n",
       "    }\n",
       "\n",
       "    .dataframe tbody tr th {\n",
       "        vertical-align: top;\n",
       "    }\n",
       "\n",
       "    .dataframe thead th {\n",
       "        text-align: right;\n",
       "    }\n",
       "</style>\n",
       "<table border=\"1\" class=\"dataframe\">\n",
       "  <thead>\n",
       "    <tr style=\"text-align: right;\">\n",
       "      <th></th>\n",
       "      <th>popularity</th>\n",
       "      <th>year</th>\n",
       "      <th>key</th>\n",
       "      <th>mode</th>\n",
       "      <th>time_signature</th>\n",
       "    </tr>\n",
       "  </thead>\n",
       "  <tbody>\n",
       "    <tr>\n",
       "      <th>count</th>\n",
       "      <td>1.159764e+06</td>\n",
       "      <td>1.159764e+06</td>\n",
       "      <td>1.159764e+06</td>\n",
       "      <td>1.159764e+06</td>\n",
       "      <td>1.159764e+06</td>\n",
       "    </tr>\n",
       "    <tr>\n",
       "      <th>mean</th>\n",
       "      <td>4.569033e-02</td>\n",
       "      <td>2.011955e+03</td>\n",
       "      <td>5.287778e+00</td>\n",
       "      <td>6.346533e-01</td>\n",
       "      <td>3.885879e+00</td>\n",
       "    </tr>\n",
       "    <tr>\n",
       "      <th>std</th>\n",
       "      <td>2.088127e-01</td>\n",
       "      <td>6.803901e+00</td>\n",
       "      <td>3.555197e+00</td>\n",
       "      <td>4.815275e-01</td>\n",
       "      <td>4.676967e-01</td>\n",
       "    </tr>\n",
       "    <tr>\n",
       "      <th>min</th>\n",
       "      <td>0.000000e+00</td>\n",
       "      <td>2.000000e+03</td>\n",
       "      <td>0.000000e+00</td>\n",
       "      <td>0.000000e+00</td>\n",
       "      <td>0.000000e+00</td>\n",
       "    </tr>\n",
       "    <tr>\n",
       "      <th>25%</th>\n",
       "      <td>0.000000e+00</td>\n",
       "      <td>2.006000e+03</td>\n",
       "      <td>2.000000e+00</td>\n",
       "      <td>0.000000e+00</td>\n",
       "      <td>4.000000e+00</td>\n",
       "    </tr>\n",
       "    <tr>\n",
       "      <th>50%</th>\n",
       "      <td>0.000000e+00</td>\n",
       "      <td>2.012000e+03</td>\n",
       "      <td>5.000000e+00</td>\n",
       "      <td>1.000000e+00</td>\n",
       "      <td>4.000000e+00</td>\n",
       "    </tr>\n",
       "    <tr>\n",
       "      <th>75%</th>\n",
       "      <td>0.000000e+00</td>\n",
       "      <td>2.018000e+03</td>\n",
       "      <td>8.000000e+00</td>\n",
       "      <td>1.000000e+00</td>\n",
       "      <td>4.000000e+00</td>\n",
       "    </tr>\n",
       "    <tr>\n",
       "      <th>max</th>\n",
       "      <td>1.000000e+00</td>\n",
       "      <td>2.023000e+03</td>\n",
       "      <td>1.100000e+01</td>\n",
       "      <td>1.000000e+00</td>\n",
       "      <td>5.000000e+00</td>\n",
       "    </tr>\n",
       "  </tbody>\n",
       "</table>\n",
       "</div>"
      ],
      "text/plain": [
       "         popularity          year           key          mode  time_signature\n",
       "count  1.159764e+06  1.159764e+06  1.159764e+06  1.159764e+06    1.159764e+06\n",
       "mean   4.569033e-02  2.011955e+03  5.287778e+00  6.346533e-01    3.885879e+00\n",
       "std    2.088127e-01  6.803901e+00  3.555197e+00  4.815275e-01    4.676967e-01\n",
       "min    0.000000e+00  2.000000e+03  0.000000e+00  0.000000e+00    0.000000e+00\n",
       "25%    0.000000e+00  2.006000e+03  2.000000e+00  0.000000e+00    4.000000e+00\n",
       "50%    0.000000e+00  2.012000e+03  5.000000e+00  1.000000e+00    4.000000e+00\n",
       "75%    0.000000e+00  2.018000e+03  8.000000e+00  1.000000e+00    4.000000e+00\n",
       "max    1.000000e+00  2.023000e+03  1.100000e+01  1.000000e+00    5.000000e+00"
      ]
     },
     "execution_count": 9,
     "metadata": {},
     "output_type": "execute_result"
    }
   ],
   "source": [
    "ds[categorial_data].describe()"
   ]
  },
  {
   "cell_type": "code",
   "execution_count": 10,
   "id": "46a63359",
   "metadata": {},
   "outputs": [
    {
     "data": {
      "text/html": [
       "<div>\n",
       "<style scoped>\n",
       "    .dataframe tbody tr th:only-of-type {\n",
       "        vertical-align: middle;\n",
       "    }\n",
       "\n",
       "    .dataframe tbody tr th {\n",
       "        vertical-align: top;\n",
       "    }\n",
       "\n",
       "    .dataframe thead th {\n",
       "        text-align: right;\n",
       "    }\n",
       "</style>\n",
       "<table border=\"1\" class=\"dataframe\">\n",
       "  <thead>\n",
       "    <tr style=\"text-align: right;\">\n",
       "      <th></th>\n",
       "      <th>artist_name</th>\n",
       "      <th>track_name</th>\n",
       "      <th>track_id</th>\n",
       "      <th>genre</th>\n",
       "    </tr>\n",
       "  </thead>\n",
       "  <tbody>\n",
       "    <tr>\n",
       "      <th>count</th>\n",
       "      <td>1159764</td>\n",
       "      <td>1159764</td>\n",
       "      <td>1159764</td>\n",
       "      <td>1159764</td>\n",
       "    </tr>\n",
       "    <tr>\n",
       "      <th>unique</th>\n",
       "      <td>64159</td>\n",
       "      <td>882361</td>\n",
       "      <td>1159764</td>\n",
       "      <td>82</td>\n",
       "    </tr>\n",
       "    <tr>\n",
       "      <th>top</th>\n",
       "      <td>Traditional</td>\n",
       "      <td>Intro</td>\n",
       "      <td>53QF56cjZA9RTuuMZDrSA6</td>\n",
       "      <td>black-metal</td>\n",
       "    </tr>\n",
       "    <tr>\n",
       "      <th>freq</th>\n",
       "      <td>4058</td>\n",
       "      <td>466</td>\n",
       "      <td>1</td>\n",
       "      <td>21852</td>\n",
       "    </tr>\n",
       "  </tbody>\n",
       "</table>\n",
       "</div>"
      ],
      "text/plain": [
       "        artist_name track_name                track_id        genre\n",
       "count       1159764    1159764                 1159764      1159764\n",
       "unique        64159     882361                 1159764           82\n",
       "top     Traditional      Intro  53QF56cjZA9RTuuMZDrSA6  black-metal\n",
       "freq           4058        466                       1        21852"
      ]
     },
     "execution_count": 10,
     "metadata": {},
     "output_type": "execute_result"
    }
   ],
   "source": [
    "ds[categorial_data].describe(include = 'O')"
   ]
  },
  {
   "cell_type": "code",
   "execution_count": 11,
   "id": "455de356",
   "metadata": {},
   "outputs": [
    {
     "data": {
      "text/plain": [
       "64159"
      ]
     },
     "execution_count": 11,
     "metadata": {},
     "output_type": "execute_result"
    }
   ],
   "source": [
    "ds['artist_name'].nunique() # количество артистов все равно очень велико"
   ]
  },
  {
   "cell_type": "code",
   "execution_count": null,
   "id": "b3e237e9",
   "metadata": {},
   "outputs": [],
   "source": []
  },
  {
   "cell_type": "markdown",
   "id": "9b144192",
   "metadata": {},
   "source": [
    "В качестве неинформативных категориальных признаков были выделены track_id, track_name и artist_name, поэтому они исключаются из дальнейшего рассмотрения"
   ]
  },
  {
   "cell_type": "markdown",
   "id": "314fab56",
   "metadata": {
    "hidden": true
   },
   "source": [
    "### 2.2 Количественные"
   ]
  },
  {
   "cell_type": "code",
   "execution_count": 25,
   "id": "4a2c85ed",
   "metadata": {},
   "outputs": [
    {
     "data": {
      "text/html": [
       "<div>\n",
       "<style scoped>\n",
       "    .dataframe tbody tr th:only-of-type {\n",
       "        vertical-align: middle;\n",
       "    }\n",
       "\n",
       "    .dataframe tbody tr th {\n",
       "        vertical-align: top;\n",
       "    }\n",
       "\n",
       "    .dataframe thead th {\n",
       "        text-align: right;\n",
       "    }\n",
       "</style>\n",
       "<table border=\"1\" class=\"dataframe\">\n",
       "  <thead>\n",
       "    <tr style=\"text-align: right;\">\n",
       "      <th></th>\n",
       "      <th>danceability</th>\n",
       "      <th>energy</th>\n",
       "      <th>loudness</th>\n",
       "      <th>speechiness</th>\n",
       "      <th>acousticness</th>\n",
       "      <th>instrumentalness</th>\n",
       "      <th>liveness</th>\n",
       "      <th>valence</th>\n",
       "      <th>tempo</th>\n",
       "      <th>duration_min</th>\n",
       "      <th>age</th>\n",
       "    </tr>\n",
       "  </thead>\n",
       "  <tbody>\n",
       "    <tr>\n",
       "      <th>count</th>\n",
       "      <td>1.159764e+06</td>\n",
       "      <td>1.159764e+06</td>\n",
       "      <td>1.159764e+06</td>\n",
       "      <td>1.159764e+06</td>\n",
       "      <td>1.159764e+06</td>\n",
       "      <td>1.159764e+06</td>\n",
       "      <td>1.159764e+06</td>\n",
       "      <td>1.159764e+06</td>\n",
       "      <td>1.159764e+06</td>\n",
       "      <td>1.159764e+06</td>\n",
       "      <td>1.159764e+06</td>\n",
       "    </tr>\n",
       "    <tr>\n",
       "      <th>mean</th>\n",
       "      <td>5.374382e-01</td>\n",
       "      <td>6.396699e-01</td>\n",
       "      <td>-8.981353e+00</td>\n",
       "      <td>9.281477e-02</td>\n",
       "      <td>3.215370e-01</td>\n",
       "      <td>2.523489e-01</td>\n",
       "      <td>2.230189e-01</td>\n",
       "      <td>4.555636e-01</td>\n",
       "      <td>1.213771e+02</td>\n",
       "      <td>3.662524e+00</td>\n",
       "      <td>1.104500e+01</td>\n",
       "    </tr>\n",
       "    <tr>\n",
       "      <th>std</th>\n",
       "      <td>1.844780e-01</td>\n",
       "      <td>2.705009e-01</td>\n",
       "      <td>5.682215e+00</td>\n",
       "      <td>1.268409e-01</td>\n",
       "      <td>3.549872e-01</td>\n",
       "      <td>3.650731e-01</td>\n",
       "      <td>2.010707e-01</td>\n",
       "      <td>2.685190e-01</td>\n",
       "      <td>2.977975e+01</td>\n",
       "      <td>2.507313e+00</td>\n",
       "      <td>6.803901e+00</td>\n",
       "    </tr>\n",
       "    <tr>\n",
       "      <th>min</th>\n",
       "      <td>0.000000e+00</td>\n",
       "      <td>0.000000e+00</td>\n",
       "      <td>-5.810000e+01</td>\n",
       "      <td>0.000000e+00</td>\n",
       "      <td>0.000000e+00</td>\n",
       "      <td>0.000000e+00</td>\n",
       "      <td>0.000000e+00</td>\n",
       "      <td>0.000000e+00</td>\n",
       "      <td>0.000000e+00</td>\n",
       "      <td>0.000000e+00</td>\n",
       "      <td>0.000000e+00</td>\n",
       "    </tr>\n",
       "    <tr>\n",
       "      <th>25%</th>\n",
       "      <td>4.130000e-01</td>\n",
       "      <td>4.540000e-01</td>\n",
       "      <td>-1.082900e+01</td>\n",
       "      <td>3.710000e-02</td>\n",
       "      <td>6.400000e-03</td>\n",
       "      <td>1.050000e-06</td>\n",
       "      <td>9.790000e-02</td>\n",
       "      <td>2.260000e-01</td>\n",
       "      <td>9.879700e+01</td>\n",
       "      <td>3.000000e+00</td>\n",
       "      <td>5.000000e+00</td>\n",
       "    </tr>\n",
       "    <tr>\n",
       "      <th>50%</th>\n",
       "      <td>5.500000e-01</td>\n",
       "      <td>6.940000e-01</td>\n",
       "      <td>-7.450000e+00</td>\n",
       "      <td>5.070000e-02</td>\n",
       "      <td>1.470000e-01</td>\n",
       "      <td>1.760000e-03</td>\n",
       "      <td>1.340000e-01</td>\n",
       "      <td>4.380000e-01</td>\n",
       "      <td>1.219310e+02</td>\n",
       "      <td>3.000000e+00</td>\n",
       "      <td>1.100000e+01</td>\n",
       "    </tr>\n",
       "    <tr>\n",
       "      <th>75%</th>\n",
       "      <td>6.770000e-01</td>\n",
       "      <td>8.730000e-01</td>\n",
       "      <td>-5.276000e+00</td>\n",
       "      <td>8.900000e-02</td>\n",
       "      <td>6.400000e-01</td>\n",
       "      <td>6.140000e-01</td>\n",
       "      <td>2.920000e-01</td>\n",
       "      <td>6.740000e-01</td>\n",
       "      <td>1.399030e+02</td>\n",
       "      <td>4.000000e+00</td>\n",
       "      <td>1.700000e+01</td>\n",
       "    </tr>\n",
       "    <tr>\n",
       "      <th>max</th>\n",
       "      <td>9.930000e-01</td>\n",
       "      <td>1.000000e+00</td>\n",
       "      <td>6.172000e+00</td>\n",
       "      <td>9.710000e-01</td>\n",
       "      <td>9.960000e-01</td>\n",
       "      <td>1.000000e+00</td>\n",
       "      <td>1.000000e+00</td>\n",
       "      <td>1.000000e+00</td>\n",
       "      <td>2.499930e+02</td>\n",
       "      <td>1.000000e+02</td>\n",
       "      <td>2.300000e+01</td>\n",
       "    </tr>\n",
       "  </tbody>\n",
       "</table>\n",
       "</div>"
      ],
      "text/plain": [
       "       danceability        energy      loudness   speechiness  acousticness  \\\n",
       "count  1.159764e+06  1.159764e+06  1.159764e+06  1.159764e+06  1.159764e+06   \n",
       "mean   5.374382e-01  6.396699e-01 -8.981353e+00  9.281477e-02  3.215370e-01   \n",
       "std    1.844780e-01  2.705009e-01  5.682215e+00  1.268409e-01  3.549872e-01   \n",
       "min    0.000000e+00  0.000000e+00 -5.810000e+01  0.000000e+00  0.000000e+00   \n",
       "25%    4.130000e-01  4.540000e-01 -1.082900e+01  3.710000e-02  6.400000e-03   \n",
       "50%    5.500000e-01  6.940000e-01 -7.450000e+00  5.070000e-02  1.470000e-01   \n",
       "75%    6.770000e-01  8.730000e-01 -5.276000e+00  8.900000e-02  6.400000e-01   \n",
       "max    9.930000e-01  1.000000e+00  6.172000e+00  9.710000e-01  9.960000e-01   \n",
       "\n",
       "       instrumentalness      liveness       valence         tempo  \\\n",
       "count      1.159764e+06  1.159764e+06  1.159764e+06  1.159764e+06   \n",
       "mean       2.523489e-01  2.230189e-01  4.555636e-01  1.213771e+02   \n",
       "std        3.650731e-01  2.010707e-01  2.685190e-01  2.977975e+01   \n",
       "min        0.000000e+00  0.000000e+00  0.000000e+00  0.000000e+00   \n",
       "25%        1.050000e-06  9.790000e-02  2.260000e-01  9.879700e+01   \n",
       "50%        1.760000e-03  1.340000e-01  4.380000e-01  1.219310e+02   \n",
       "75%        6.140000e-01  2.920000e-01  6.740000e-01  1.399030e+02   \n",
       "max        1.000000e+00  1.000000e+00  1.000000e+00  2.499930e+02   \n",
       "\n",
       "       duration_min           age  \n",
       "count  1.159764e+06  1.159764e+06  \n",
       "mean   3.662524e+00  1.104500e+01  \n",
       "std    2.507313e+00  6.803901e+00  \n",
       "min    0.000000e+00  0.000000e+00  \n",
       "25%    3.000000e+00  5.000000e+00  \n",
       "50%    3.000000e+00  1.100000e+01  \n",
       "75%    4.000000e+00  1.700000e+01  \n",
       "max    1.000000e+02  2.300000e+01  "
      ]
     },
     "execution_count": 25,
     "metadata": {},
     "output_type": "execute_result"
    }
   ],
   "source": [
    "ds[metric].describe()"
   ]
  },
  {
   "cell_type": "markdown",
   "id": "c57dc6cf",
   "metadata": {
    "heading_collapsed": true
   },
   "source": [
    "## 3. Результирующий показатель"
   ]
  },
  {
   "cell_type": "markdown",
   "id": "51b8e19c",
   "metadata": {
    "hidden": true
   },
   "source": [
    "**Задание 2.** Проанализировать результирующий показатель. Определить количество наблюдений, относящихся к каждой группе. Построить круговую диаграмму, на которой отображено количество наблюдений в каждой группе и процент этих наблюдений."
   ]
  },
  {
   "cell_type": "code",
   "execution_count": 10,
   "id": "f7d981e2",
   "metadata": {},
   "outputs": [
    {
     "data": {
      "text/plain": [
       "0    0.95431\n",
       "1    0.04569\n",
       "Name: popularity, dtype: float64"
      ]
     },
     "execution_count": 10,
     "metadata": {},
     "output_type": "execute_result"
    }
   ],
   "source": [
    "ds['popularity'].value_counts(normalize = True)"
   ]
  },
  {
   "cell_type": "markdown",
   "id": "3863fc70",
   "metadata": {},
   "source": [
    "Больше 95% наблюдений относится к первой группе"
   ]
  },
  {
   "cell_type": "markdown",
   "id": "cef6dd8d",
   "metadata": {},
   "source": [
    "ВИЗУАЛИЗИРУЕМ"
   ]
  },
  {
   "cell_type": "code",
   "execution_count": 44,
   "id": "a2395e06",
   "metadata": {},
   "outputs": [
    {
     "data": {
      "image/png": "[encoded data removed]",
      "text/plain": [
       "<Figure size 640x480 with 1 Axes>"
      ]
     },
     "metadata": {},
     "output_type": "display_data"
    }
   ],
   "source": [
    "vc = ds['popularity'].value_counts()\n",
    "plt.pie(vc, labels = vc.index, colors = ['yellow', 'red'], autopct=lambda p: '{:.0f} ({:.1f}%)'.format(p * sum(vc)/100, p))\n",
    "plt.show()"
   ]
  },
  {
   "cell_type": "markdown",
   "id": "a33254cb",
   "metadata": {
    "heading_collapsed": true
   },
   "source": [
    "## 4. EDA"
   ]
  },
  {
   "cell_type": "markdown",
   "id": "b2bb9cce",
   "metadata": {
    "hidden": true
   },
   "source": [
    "### 4.1. Рассмотрим количественные показатели"
   ]
  },
  {
   "cell_type": "markdown",
   "id": "58168e4d",
   "metadata": {
    "hidden": true
   },
   "source": [
    "**Задание 3.** Отбор количественных показателей: \n",
    "- Определить с помощью тестов для двух независимых выборок, если ли влияние количественных показателей на результат. Сделать выводы.\n",
    "- Определить с помощью корреляционной матрицы, есть ли зависимость между количественнными показателями. \n",
    "- Сдедать выводы: отобрать признаки."
   ]
  },
  {
   "cell_type": "code",
   "execution_count": 25,
   "id": "9d7832d2",
   "metadata": {},
   "outputs": [
    {
     "data": {
      "text/plain": [
       "['danceability',\n",
       " 'energy',\n",
       " 'loudness',\n",
       " 'speechiness',\n",
       " 'acousticness',\n",
       " 'instrumentalness',\n",
       " 'liveness',\n",
       " 'valence',\n",
       " 'tempo',\n",
       " 'duration_min',\n",
       " 'age']"
      ]
     },
     "execution_count": 25,
     "metadata": {},
     "output_type": "execute_result"
    }
   ],
   "source": [
    "metric"
   ]
  },
  {
   "cell_type": "code",
   "execution_count": 12,
   "id": "8bf5bf5c",
   "metadata": {},
   "outputs": [],
   "source": [
    "ds_0 = ds[ds['popularity'] == 0]\n",
    "ds_1 = ds[ds['popularity'] == 1]"
   ]
  },
  {
   "cell_type": "code",
   "execution_count": 8,
   "id": "d084712f",
   "metadata": {},
   "outputs": [
    {
     "data": {
      "text/plain": [
       "{'danceability': 0.0,\n",
       " 'energy': 0.0,\n",
       " 'loudness': 0.0,\n",
       " 'speechiness': 0.0,\n",
       " 'acousticness': 0.0,\n",
       " 'instrumentalness': 0.0,\n",
       " 'liveness': 0.0,\n",
       " 'valence': 0.0,\n",
       " 'tempo': 0.0,\n",
       " 'duration_min': 0.0,\n",
       " 'age': 0.0}"
      ]
     },
     "execution_count": 8,
     "metadata": {},
     "output_type": "execute_result"
    }
   ],
   "source": [
    "{i: kstest(ds_0[i].values, 'norm').pvalue for i in metric}"
   ]
  },
  {
   "cell_type": "code",
   "execution_count": 9,
   "id": "2db93973",
   "metadata": {},
   "outputs": [
    {
     "data": {
      "text/plain": [
       "{'danceability': 0.0,\n",
       " 'energy': 0.0,\n",
       " 'loudness': 0.0,\n",
       " 'speechiness': 0.0,\n",
       " 'acousticness': 0.0,\n",
       " 'instrumentalness': 0.0,\n",
       " 'liveness': 0.0,\n",
       " 'valence': 0.0,\n",
       " 'tempo': 0.0,\n",
       " 'duration_min': 0.0,\n",
       " 'age': 0.0}"
      ]
     },
     "execution_count": 9,
     "metadata": {},
     "output_type": "execute_result"
    }
   ],
   "source": [
    "{i: kstest(ds_1[i].values, 'norm').pvalue for i in metric}"
   ]
  },
  {
   "cell_type": "markdown",
   "id": "fb4c0e61",
   "metadata": {},
   "source": [
    "ни один из признаков не имеет нормального распределения"
   ]
  },
  {
   "cell_type": "markdown",
   "id": "66e87ad1",
   "metadata": {},
   "source": [
    "поэтому применяем критерий манна-уитни для сравнения медиан двух независимых выборок и критерий Левина для сравнения дисперсий"
   ]
  },
  {
   "cell_type": "markdown",
   "id": "6e01cd7a",
   "metadata": {},
   "source": [
    "**Тест Манна-Уитни**   \n",
    "Н0: медианы равны"
   ]
  },
  {
   "cell_type": "markdown",
   "id": "75c6c264",
   "metadata": {},
   "source": [
    "**Тест Левина:**   \n",
    "Н0: дисперсии равны"
   ]
  },
  {
   "cell_type": "code",
   "execution_count": 23,
   "id": "24d73ee0",
   "metadata": {},
   "outputs": [],
   "source": [
    "result = {}\n",
    "for column in metric:\n",
    "    groups = [ds[ds['popularity'] == i][column].values for i in ds['popularity'].unique() ]\n",
    "    result[column] = [mannwhitneyu(*groups), levene(*groups, center='median'), levene(*groups, center='mean')]"
   ]
  },
  {
   "cell_type": "code",
   "execution_count": 24,
   "id": "da23f55c",
   "metadata": {},
   "outputs": [
    {
     "data": {
      "text/plain": [
       "{'danceability': [MannwhitneyuResult(statistic=37143344617.5, pvalue=0.0),\n",
       "  LeveneResult(statistic=2398.437442475381, pvalue=0.0),\n",
       "  LeveneResult(statistic=2417.0147252478323, pvalue=0.0)],\n",
       " 'energy': [MannwhitneyuResult(statistic=27933540947.0, pvalue=3.705113560902627e-76),\n",
       "  LeveneResult(statistic=4644.0203128417725, pvalue=0.0),\n",
       "  LeveneResult(statistic=6174.160143297275, pvalue=0.0)],\n",
       " 'loudness': [MannwhitneyuResult(statistic=35154726293.0, pvalue=0.0),\n",
       "  LeveneResult(statistic=3013.3198284785844, pvalue=0.0),\n",
       "  LeveneResult(statistic=4203.8648154278735, pvalue=0.0)],\n",
       " 'speechiness': [MannwhitneyuResult(statistic=30738362177.0, pvalue=9.727261263107518e-79),\n",
       "  LeveneResult(statistic=87.65309455542854, pvalue=7.813463736864858e-21),\n",
       "  LeveneResult(statistic=45.740503842201484, pvalue=1.3506576415956128e-11)],\n",
       " 'acousticness': [MannwhitneyuResult(statistic=30099587154.0, pvalue=6.899088333464532e-25),\n",
       "  LeveneResult(statistic=3074.15930761311, pvalue=0.0),\n",
       "  LeveneResult(statistic=9343.753995680228, pvalue=0.0)],\n",
       " 'instrumentalness': [MannwhitneyuResult(statistic=19442248175.0, pvalue=0.0),\n",
       "  LeveneResult(statistic=12334.954160107915, pvalue=0.0),\n",
       "  LeveneResult(statistic=65658.63954885979, pvalue=0.0)],\n",
       " 'liveness': [MannwhitneyuResult(statistic=27507175794.5, pvalue=1.158912317206174e-128),\n",
       "  LeveneResult(statistic=1818.8551913003892, pvalue=0.0),\n",
       "  LeveneResult(statistic=3725.183248295312, pvalue=0.0)],\n",
       " 'valence': [MannwhitneyuResult(statistic=31450946681.5, pvalue=1.3662636747587298e-175),\n",
       "  LeveneResult(statistic=2371.8502174694167, pvalue=0.0),\n",
       "  LeveneResult(statistic=2491.183624885865, pvalue=0.0)],\n",
       " 'tempo': [MannwhitneyuResult(statistic=29348939413.5, pvalue=0.7402207420077465),\n",
       "  LeveneResult(statistic=1.3769189582793366, pvalue=0.24062689976066573),\n",
       "  LeveneResult(statistic=1.4205602505327606, pvalue=0.23331145450470567)],\n",
       " 'duration_min': [MannwhitneyuResult(statistic=22976494214.0, pvalue=0.0),\n",
       "  LeveneResult(statistic=4187.873259957683, pvalue=0.0),\n",
       "  LeveneResult(statistic=6123.135599849167, pvalue=0.0)],\n",
       " 'age': [MannwhitneyuResult(statistic=16600802494.5, pvalue=0.0),\n",
       "  LeveneResult(statistic=9489.90127361231, pvalue=0.0),\n",
       "  LeveneResult(statistic=6608.447383770618, pvalue=0.0)]}"
      ]
     },
     "execution_count": 24,
     "metadata": {},
     "output_type": "execute_result"
    }
   ],
   "source": [
    "result"
   ]
  },
  {
   "cell_type": "markdown",
   "id": "4f3e8983",
   "metadata": {},
   "source": [
    "Из всех факторов подтвердилась статистическое равенство средних и дисперсий показателя Tempo, значит его стоит исключить из доальнейшего исследования. "
   ]
  },
  {
   "cell_type": "markdown",
   "id": "82606883",
   "metadata": {},
   "source": [
    "У всех остальных факторов средние и дисперсии в двух группах статистически различаются"
   ]
  },
  {
   "cell_type": "code",
   "execution_count": 13,
   "id": "9b873614",
   "metadata": {},
   "outputs": [
    {
     "data": {
      "text/plain": [
       "['danceability',\n",
       " 'energy',\n",
       " 'loudness',\n",
       " 'speechiness',\n",
       " 'acousticness',\n",
       " 'instrumentalness',\n",
       " 'liveness',\n",
       " 'valence',\n",
       " 'duration_min',\n",
       " 'age']"
      ]
     },
     "execution_count": 13,
     "metadata": {},
     "output_type": "execute_result"
    }
   ],
   "source": [
    "metric.remove('tempo')\n",
    "metric"
   ]
  },
  {
   "cell_type": "code",
   "execution_count": 10,
   "id": "9c0450a7",
   "metadata": {},
   "outputs": [],
   "source": [
    "correlation = ds[metric].corr(method = 'spearman')"
   ]
  },
  {
   "cell_type": "code",
   "execution_count": 11,
   "id": "a9918f18",
   "metadata": {},
   "outputs": [],
   "source": [
    "table = [[get_spearman(ds[i], ds[j]) for i in metric] for j in metric]"
   ]
  },
  {
   "cell_type": "code",
   "execution_count": 12,
   "id": "aa44f1f0",
   "metadata": {},
   "outputs": [
    {
     "data": {
      "image/png": "[encoded data removed]",
      "text/plain": [
       "<Figure size 1600x600 with 2 Axes>"
      ]
     },
     "metadata": {},
     "output_type": "display_data"
    }
   ],
   "source": [
    "plt.figure(figsize=(16, 6))\n",
    "heatmap = sns.heatmap(correlation, vmin=-1, vmax=1, annot=table, fmt='' )\n",
    "heatmap.set_title('Correlation Heatmap', fontdict ={'fontsize':15}, pad=20);"
   ]
  },
  {
   "cell_type": "markdown",
   "id": "c60c1b28",
   "metadata": {},
   "source": [
    "Обнаружена высокая достоверная корреляция между признаками:\n",
    "energy и acousticness (-0,73)   \n",
    "energy и loudness (0,73)   \n",
    "energy и speechiness (0,36)   \n",
    "loudness и acousticness (-0,57)   \n",
    "danceability и valence (0,51)   \n",
    "instrumentalness и valence (-0,35)   "
   ]
  },
  {
   "cell_type": "markdown",
   "id": "8a5b0a97",
   "metadata": {},
   "source": [
    "   Выберем age, liveness, acousticness и valence"
   ]
  },
  {
   "cell_type": "markdown",
   "id": "0ceceb91",
   "metadata": {
    "heading_collapsed": true,
    "hidden": true
   },
   "source": [
    "### 4.2. Рассмотрим качественные показатели"
   ]
  },
  {
   "cell_type": "markdown",
   "id": "f4f7793b",
   "metadata": {
    "hidden": true
   },
   "source": [
    "**Задание 4.** Используя критерий согласия Пирсона определить есть ли зависимость между **качественными** признаками и результатом. Выбрать **качественные** признаки, которые влияют на результат."
   ]
  },
  {
   "cell_type": "code",
   "execution_count": 14,
   "id": "387a3df6",
   "metadata": {},
   "outputs": [],
   "source": [
    "from scipy.stats import chi2_contingency\n",
    "crit_1 = 'popularity'\n",
    "category = ['genre', 'key', 'mode','time_signature']"
   ]
  },
  {
   "cell_type": "code",
   "execution_count": 15,
   "id": "c8a9e52b",
   "metadata": {},
   "outputs": [
    {
     "name": "stdout",
     "output_type": "stream",
     "text": [
      "genre 0.0\n",
      "key 0.0\n",
      "mode 0.0\n",
      "time_signature 0.0\n"
     ]
    }
   ],
   "source": [
    "for crit_2 in category:\n",
    "    ct = pd.crosstab(\n",
    "        ds[crit_1],\n",
    "        ds[crit_2])\n",
    "    print( crit_2, round(chi2_contingency(ct)[1],2))"
   ]
  },
  {
   "cell_type": "markdown",
   "id": "39b80e93",
   "metadata": {},
   "source": [
    "Отвергаем нулевую гипотезу о независимости результата от каждого из факторов, т.е. каждый фактор оказывает влияние на популярность песни"
   ]
  },
  {
   "cell_type": "markdown",
   "id": "cd594df0",
   "metadata": {
    "heading_collapsed": true
   },
   "source": [
    "## 5. Построение базовой модели"
   ]
  },
  {
   "cell_type": "markdown",
   "id": "58186026",
   "metadata": {
    "heading_collapsed": true,
    "hidden": true
   },
   "source": [
    "### 5.0. Модель 0"
   ]
  },
  {
   "cell_type": "markdown",
   "id": "9fde3b3b",
   "metadata": {
    "hidden": true
   },
   "source": [
    "**Задание 5.** Построить модель логистической регрессии зависимости возраста песни и популярности трека. Оценить качество модели."
   ]
  },
  {
   "cell_type": "code",
   "execution_count": 16,
   "id": "380a8cf8",
   "metadata": {},
   "outputs": [],
   "source": [
    "ds_y = ds['popularity']\n",
    "ds_x = ds['age']"
   ]
  },
  {
   "cell_type": "code",
   "execution_count": 17,
   "id": "3ed9a90a",
   "metadata": {},
   "outputs": [],
   "source": [
    "X_train, X_test, y_train, y_test = train_test_split(\n",
    "    ds_x, \n",
    "    ds_y, \n",
    "    test_size=0.2, \n",
    "    random_state=21)\n",
    "X_train_1, X_test_1 = X_train.values.reshape(-1,1), X_test.values.reshape(-1,1)"
   ]
  },
  {
   "cell_type": "code",
   "execution_count": 18,
   "id": "1e67b121",
   "metadata": {},
   "outputs": [
    {
     "name": "stderr",
     "output_type": "stream",
     "text": [
      "D:\\anaconda\\Lib\\site-packages\\sklearn\\linear_model\\_logistic.py:1182: FutureWarning: `penalty='none'`has been deprecated in 1.2 and will be removed in 1.4. To keep the past behaviour, set `penalty=None`.\n",
      "  warnings.warn(\n"
     ]
    },
    {
     "data": {
      "text/plain": [
       "array([[-0.12728956]])"
      ]
     },
     "execution_count": 18,
     "metadata": {},
     "output_type": "execute_result"
    }
   ],
   "source": [
    "log_reg_1 = LogisticRegression(penalty='none')\n",
    "log_reg_1.fit(X_train_1, y_train)\n",
    "y_approx_1 = log_reg_1.predict(X_train_1)\n",
    "y_pred_1 = log_reg_1.predict(X_test_1)\n",
    "\n",
    "log_reg_1.coef_"
   ]
  },
  {
   "cell_type": "code",
   "execution_count": 19,
   "id": "1d6f540f",
   "metadata": {},
   "outputs": [
    {
     "data": {
      "text/plain": [
       "0    885330\n",
       "1     42481\n",
       "Name: popularity, dtype: int64"
      ]
     },
     "execution_count": 19,
     "metadata": {},
     "output_type": "execute_result"
    }
   ],
   "source": [
    "y_train.value_counts()"
   ]
  },
  {
   "cell_type": "code",
   "execution_count": 20,
   "id": "a5c7f0a7",
   "metadata": {},
   "outputs": [],
   "source": [
    "target_names = y_train.unique()"
   ]
  },
  {
   "cell_type": "code",
   "execution_count": 21,
   "id": "93c36d25",
   "metadata": {},
   "outputs": [
    {
     "data": {
      "text/html": [
       "<div>\n",
       "<style scoped>\n",
       "    .dataframe tbody tr th:only-of-type {\n",
       "        vertical-align: middle;\n",
       "    }\n",
       "\n",
       "    .dataframe tbody tr th {\n",
       "        vertical-align: top;\n",
       "    }\n",
       "\n",
       "    .dataframe thead th {\n",
       "        text-align: right;\n",
       "    }\n",
       "</style>\n",
       "<table border=\"1\" class=\"dataframe\">\n",
       "  <thead>\n",
       "    <tr style=\"text-align: right;\">\n",
       "      <th></th>\n",
       "      <th>0</th>\n",
       "      <th>1</th>\n",
       "    </tr>\n",
       "  </thead>\n",
       "  <tbody>\n",
       "    <tr>\n",
       "      <th>0</th>\n",
       "      <td>221444</td>\n",
       "      <td>0</td>\n",
       "    </tr>\n",
       "    <tr>\n",
       "      <th>1</th>\n",
       "      <td>10509</td>\n",
       "      <td>0</td>\n",
       "    </tr>\n",
       "  </tbody>\n",
       "</table>\n",
       "</div>"
      ],
      "text/plain": [
       "        0  1\n",
       "0  221444  0\n",
       "1   10509  0"
      ]
     },
     "execution_count": 21,
     "metadata": {},
     "output_type": "execute_result"
    }
   ],
   "source": [
    "cm = confusion_matrix(y_test, y_pred_1, labels=log_reg_1.classes_)\n",
    "pd.DataFrame(cm, index=log_reg_1.classes_, columns=log_reg_1.classes_)"
   ]
  },
  {
   "cell_type": "code",
   "execution_count": 19,
   "id": "8ef9ea60",
   "metadata": {},
   "outputs": [
    {
     "data": {
      "image/png": "[encoded data removed]",
      "text/plain": [
       "<Figure size 640x480 with 2 Axes>"
      ]
     },
     "metadata": {},
     "output_type": "display_data"
    }
   ],
   "source": [
    "conf_matrix(y_test, y_pred_1)"
   ]
  },
  {
   "cell_type": "code",
   "execution_count": 22,
   "id": "3cd9f317",
   "metadata": {},
   "outputs": [
    {
     "name": "stdout",
     "output_type": "stream",
     "text": [
      "              precision    recall  f1-score   support\n",
      "\n",
      "           0       0.95      1.00      0.98    221444\n",
      "           1       0.00      0.00      0.00     10509\n",
      "\n",
      "    accuracy                           0.95    231953\n",
      "   macro avg       0.48      0.50      0.49    231953\n",
      "weighted avg       0.91      0.95      0.93    231953\n",
      "\n"
     ]
    },
    {
     "name": "stderr",
     "output_type": "stream",
     "text": [
      "D:\\anaconda\\Lib\\site-packages\\sklearn\\metrics\\_classification.py:1469: UndefinedMetricWarning: Precision and F-score are ill-defined and being set to 0.0 in labels with no predicted samples. Use `zero_division` parameter to control this behavior.\n",
      "  _warn_prf(average, modifier, msg_start, len(result))\n",
      "D:\\anaconda\\Lib\\site-packages\\sklearn\\metrics\\_classification.py:1469: UndefinedMetricWarning: Precision and F-score are ill-defined and being set to 0.0 in labels with no predicted samples. Use `zero_division` parameter to control this behavior.\n",
      "  _warn_prf(average, modifier, msg_start, len(result))\n",
      "D:\\anaconda\\Lib\\site-packages\\sklearn\\metrics\\_classification.py:1469: UndefinedMetricWarning: Precision and F-score are ill-defined and being set to 0.0 in labels with no predicted samples. Use `zero_division` parameter to control this behavior.\n",
      "  _warn_prf(average, modifier, msg_start, len(result))\n"
     ]
    }
   ],
   "source": [
    "print(classification_report(y_test, y_pred_1, labels=target_names))"
   ]
  },
  {
   "cell_type": "markdown",
   "id": "625d3e1f",
   "metadata": {},
   "source": [
    "**Краткий вывод:**    \n",
    "ВСЕ ПЛОХО    \n",
    "Модель не может предсказать 1, слишком большой дисбаланс, будем исправлять"
   ]
  },
  {
   "cell_type": "markdown",
   "id": "a95b96b7",
   "metadata": {
    "heading_collapsed": true,
    "hidden": true
   },
   "source": [
    "## 5.1. Модель 1"
   ]
  },
  {
   "cell_type": "markdown",
   "id": "da22bdcc",
   "metadata": {
    "hidden": true
   },
   "source": [
    "Основная проблема, с которой вы столкнетесь -- сильный дисбаланс классов. "
   ]
  },
  {
   "cell_type": "markdown",
   "id": "b6132b4b",
   "metadata": {
    "hidden": true
   },
   "source": [
    "Для борьбы с дисбалансом классов есть несколько методов: \n",
    "1. Взвешивание классов.\n",
    "2. Уменьшение/увеличение выборки. \n",
    "3. Изменение порога классификации."
   ]
  },
  {
   "cell_type": "markdown",
   "id": "e39c1927",
   "metadata": {
    "hidden": true
   },
   "source": [
    "#### Взвешивание классов"
   ]
  },
  {
   "cell_type": "markdown",
   "id": "d9e2ad12",
   "metadata": {
    "hidden": true
   },
   "source": [
    "Логистическая регрессия считает все объекты обучающей выборки равнозначными по умолчанию: классификация объектов класса 0 также важна, как и классификация объетов класса 1. \n",
    "В данной задаче нам важнее определить будет ли трек популярным или нет. Если важно указать, что какие-то объекты важнее, их классу присваивается вес. В алгоритме логистической регрессии библиотеке sklearn есть аргумент class_weight. По умолчанию он равен None, т. е. классы равнозначны. \n",
    "Если указать class_weight='balanced', алгоритм посчитает, во сколько раз класс «0» встречается чаще класса «1» (обозначим это число как $N$). \n",
    "- `вес класса \"0\":` $1.0$\n",
    "- `вес класса \"1\":` $N$"
   ]
  },
  {
   "cell_type": "markdown",
   "id": "288acde5",
   "metadata": {
    "hidden": true
   },
   "source": [
    "Бóльший вес будет у редкого класса."
   ]
  },
  {
   "cell_type": "markdown",
   "id": "23aaca11",
   "metadata": {
    "hidden": true
   },
   "source": [
    "**Задание 6:** построить новую модель для классификации, в которой для каждого класса будет задан вес. Оценить качество полученной модели."
   ]
  },
  {
   "cell_type": "code",
   "execution_count": 23,
   "id": "d336137a",
   "metadata": {},
   "outputs": [
    {
     "name": "stderr",
     "output_type": "stream",
     "text": [
      "D:\\anaconda\\Lib\\site-packages\\sklearn\\linear_model\\_logistic.py:1182: FutureWarning: `penalty='none'`has been deprecated in 1.2 and will be removed in 1.4. To keep the past behaviour, set `penalty=None`.\n",
      "  warnings.warn(\n"
     ]
    },
    {
     "data": {
      "text/plain": [
       "array([[-0.12137328]])"
      ]
     },
     "execution_count": 23,
     "metadata": {},
     "output_type": "execute_result"
    }
   ],
   "source": [
    "log_reg_2 = LogisticRegression(penalty='none', class_weight='balanced')\n",
    "log_reg_2.fit(X_train_1, y_train)\n",
    "y_approx_2 = log_reg_2.predict(X_train_1)\n",
    "y_pred_2 = log_reg_2.predict(X_test_1)\n",
    "\n",
    "log_reg_2.coef_"
   ]
  },
  {
   "cell_type": "code",
   "execution_count": 24,
   "id": "8bb31248",
   "metadata": {},
   "outputs": [
    {
     "data": {
      "text/html": [
       "<div>\n",
       "<style scoped>\n",
       "    .dataframe tbody tr th:only-of-type {\n",
       "        vertical-align: middle;\n",
       "    }\n",
       "\n",
       "    .dataframe tbody tr th {\n",
       "        vertical-align: top;\n",
       "    }\n",
       "\n",
       "    .dataframe thead th {\n",
       "        text-align: right;\n",
       "    }\n",
       "</style>\n",
       "<table border=\"1\" class=\"dataframe\">\n",
       "  <thead>\n",
       "    <tr style=\"text-align: right;\">\n",
       "      <th></th>\n",
       "      <th>0</th>\n",
       "      <th>1</th>\n",
       "    </tr>\n",
       "  </thead>\n",
       "  <tbody>\n",
       "    <tr>\n",
       "      <th>0</th>\n",
       "      <td>136574</td>\n",
       "      <td>84870</td>\n",
       "    </tr>\n",
       "    <tr>\n",
       "      <th>1</th>\n",
       "      <td>2756</td>\n",
       "      <td>7753</td>\n",
       "    </tr>\n",
       "  </tbody>\n",
       "</table>\n",
       "</div>"
      ],
      "text/plain": [
       "        0      1\n",
       "0  136574  84870\n",
       "1    2756   7753"
      ]
     },
     "execution_count": 24,
     "metadata": {},
     "output_type": "execute_result"
    }
   ],
   "source": [
    "cm = confusion_matrix(y_test, y_pred_2, labels=log_reg_2.classes_)\n",
    "pd.DataFrame(cm, index=log_reg_2.classes_, columns=log_reg_2.classes_)"
   ]
  },
  {
   "cell_type": "code",
   "execution_count": 25,
   "id": "f621b21a",
   "metadata": {},
   "outputs": [
    {
     "data": {
      "image/png": "[encoded data removed]",
      "text/plain": [
       "<Figure size 640x480 with 2 Axes>"
      ]
     },
     "metadata": {},
     "output_type": "display_data"
    }
   ],
   "source": [
    "conf_matrix(y_test, y_pred_2)"
   ]
  },
  {
   "cell_type": "code",
   "execution_count": 26,
   "id": "4a195cf2",
   "metadata": {},
   "outputs": [
    {
     "name": "stdout",
     "output_type": "stream",
     "text": [
      "              precision    recall  f1-score   support\n",
      "\n",
      "           0       0.98      0.62      0.76    221444\n",
      "           1       0.08      0.74      0.15     10509\n",
      "\n",
      "    accuracy                           0.62    231953\n",
      "   macro avg       0.53      0.68      0.45    231953\n",
      "weighted avg       0.94      0.62      0.73    231953\n",
      "\n"
     ]
    }
   ],
   "source": [
    "print(classification_report(y_test, y_pred_2, labels=target_names))"
   ]
  },
  {
   "cell_type": "markdown",
   "id": "2343265d",
   "metadata": {},
   "source": [
    "Модель улучшилась, она научилась распознавать класс 1, но делает это достаточно плохо.    \n",
    "Метрика precision для класса 1 равна 0.08, что является плохим результатом, модель слишком часто выдает 1 там, где его быть не должно."
   ]
  },
  {
   "cell_type": "markdown",
   "id": "6a22e204",
   "metadata": {},
   "source": [
    "## 5.1. Модель 2"
   ]
  },
  {
   "cell_type": "markdown",
   "id": "f760062f",
   "metadata": {
    "hidden": true
   },
   "source": [
    "#### Изменение размера выборки"
   ]
  },
  {
   "cell_type": "markdown",
   "id": "389e34f4",
   "metadata": {
    "hidden": true
   },
   "source": [
    "Когда обучают модели, чтобы сбалансировать классы путём увеличения числа, такая техника называется **upsampling**.\n",
    "Преобразование проходит в несколько этапов:\n",
    "- Разделить обучающую выборку на объекты по классам;\n",
    "- Определить тот класс, который содержит меньше объектов. Назовём его меньшим классом;\n",
    "- Скопировать несколько раз объекты меньшего класса;\n",
    "- С учётом полученных данных создать новую обучающую выборку;\n",
    "- Перемешать данные."
   ]
  },
  {
   "cell_type": "markdown",
   "id": "8535d498",
   "metadata": {
    "hidden": true
   },
   "source": [
    "Вместо повторения объектов меньшего класса можно убрать часть объетов большего класса. Такая процедура называется **downsampling**. Преобразование происходит в несколько этапов:"
   ]
  },
  {
   "cell_type": "markdown",
   "id": "2398195c",
   "metadata": {
    "hidden": true
   },
   "source": [
    "- Разделить обучающую выборку на объекты по классам;\n",
    "- Определить тот класс, который содержит больше объектов. Назовём его большим классом;\n",
    "- Случайным образом отбросить часть из объектов большего класса;\n",
    "- С учётом полученных данных создать новую обучающую выборку;\n",
    "- Перемешать данные."
   ]
  },
  {
   "cell_type": "markdown",
   "id": "c1e1017f",
   "metadata": {
    "hidden": true
   },
   "source": [
    "**Задание 7:** для тренировочной данных реализуйте алгоритм уменьшения выборки. Обучите новую модель на уменьшенной выборке. Оцените качество модели на тестовой выборке. "
   ]
  },
  {
   "cell_type": "code",
   "execution_count": 27,
   "id": "2da9540a",
   "metadata": {},
   "outputs": [
    {
     "data": {
      "text/html": [
       "<div>\n",
       "<style scoped>\n",
       "    .dataframe tbody tr th:only-of-type {\n",
       "        vertical-align: middle;\n",
       "    }\n",
       "\n",
       "    .dataframe tbody tr th {\n",
       "        vertical-align: top;\n",
       "    }\n",
       "\n",
       "    .dataframe thead th {\n",
       "        text-align: right;\n",
       "    }\n",
       "</style>\n",
       "<table border=\"1\" class=\"dataframe\">\n",
       "  <thead>\n",
       "    <tr style=\"text-align: right;\">\n",
       "      <th></th>\n",
       "      <th>age</th>\n",
       "      <th>popularity</th>\n",
       "    </tr>\n",
       "  </thead>\n",
       "  <tbody>\n",
       "    <tr>\n",
       "      <th>233768</th>\n",
       "      <td>7</td>\n",
       "      <td>0</td>\n",
       "    </tr>\n",
       "    <tr>\n",
       "      <th>167947</th>\n",
       "      <td>8</td>\n",
       "      <td>0</td>\n",
       "    </tr>\n",
       "    <tr>\n",
       "      <th>1289706</th>\n",
       "      <td>14</td>\n",
       "      <td>0</td>\n",
       "    </tr>\n",
       "    <tr>\n",
       "      <th>566665</th>\n",
       "      <td>1</td>\n",
       "      <td>0</td>\n",
       "    </tr>\n",
       "    <tr>\n",
       "      <th>40989</th>\n",
       "      <td>11</td>\n",
       "      <td>0</td>\n",
       "    </tr>\n",
       "    <tr>\n",
       "      <th>...</th>\n",
       "      <td>...</td>\n",
       "      <td>...</td>\n",
       "    </tr>\n",
       "    <tr>\n",
       "      <th>566392</th>\n",
       "      <td>1</td>\n",
       "      <td>0</td>\n",
       "    </tr>\n",
       "    <tr>\n",
       "      <th>63856</th>\n",
       "      <td>10</td>\n",
       "      <td>0</td>\n",
       "    </tr>\n",
       "    <tr>\n",
       "      <th>1424580</th>\n",
       "      <td>12</td>\n",
       "      <td>0</td>\n",
       "    </tr>\n",
       "    <tr>\n",
       "      <th>731955</th>\n",
       "      <td>23</td>\n",
       "      <td>0</td>\n",
       "    </tr>\n",
       "    <tr>\n",
       "      <th>202552</th>\n",
       "      <td>8</td>\n",
       "      <td>0</td>\n",
       "    </tr>\n",
       "  </tbody>\n",
       "</table>\n",
       "<p>927811 rows × 2 columns</p>\n",
       "</div>"
      ],
      "text/plain": [
       "         age  popularity\n",
       "233768     7           0\n",
       "167947     8           0\n",
       "1289706   14           0\n",
       "566665     1           0\n",
       "40989     11           0\n",
       "...      ...         ...\n",
       "566392     1           0\n",
       "63856     10           0\n",
       "1424580   12           0\n",
       "731955    23           0\n",
       "202552     8           0\n",
       "\n",
       "[927811 rows x 2 columns]"
      ]
     },
     "execution_count": 27,
     "metadata": {},
     "output_type": "execute_result"
    }
   ],
   "source": [
    "train_data = pd.concat([X_train, y_train], axis = 1)\n",
    "train_data"
   ]
  },
  {
   "cell_type": "code",
   "execution_count": 28,
   "id": "6f21c183",
   "metadata": {},
   "outputs": [],
   "source": [
    "neg_class = train_data[train_data['popularity'] == 0]\n",
    "pos_class = train_data[train_data['popularity'] == 1]"
   ]
  },
  {
   "cell_type": "code",
   "execution_count": 29,
   "id": "32160a59",
   "metadata": {},
   "outputs": [],
   "source": [
    "neg_downsampled = neg_class.sample(frac=0.05, random_state = 1) "
   ]
  },
  {
   "cell_type": "code",
   "execution_count": 30,
   "id": "1f779a2a",
   "metadata": {},
   "outputs": [
    {
     "data": {
      "text/plain": [
       "array([[15,  0],\n",
       "       [16,  0],\n",
       "       [15,  0],\n",
       "       ...,\n",
       "       [ 1,  1],\n",
       "       [ 6,  1],\n",
       "       [ 1,  1]], dtype=int64)"
      ]
     },
     "execution_count": 30,
     "metadata": {},
     "output_type": "execute_result"
    }
   ],
   "source": [
    "downsampled_data = np.concatenate((neg_downsampled, pos_class))\n",
    "downsampled_data"
   ]
  },
  {
   "cell_type": "code",
   "execution_count": 31,
   "id": "9f3c40a6",
   "metadata": {},
   "outputs": [
    {
     "name": "stderr",
     "output_type": "stream",
     "text": [
      "D:\\anaconda\\Lib\\site-packages\\sklearn\\linear_model\\_logistic.py:1182: FutureWarning: `penalty='none'`has been deprecated in 1.2 and will be removed in 1.4. To keep the past behaviour, set `penalty=None`.\n",
      "  warnings.warn(\n"
     ]
    },
    {
     "data": {
      "text/plain": [
       "array([[-0.12082354]])"
      ]
     },
     "execution_count": 31,
     "metadata": {},
     "output_type": "execute_result"
    }
   ],
   "source": [
    "log_reg_3 = LogisticRegression(penalty='none', random_state=42)\n",
    "log_reg_3.fit(downsampled_data[:, :-1], downsampled_data[:, -1])\n",
    "y_approx_3 = log_reg_3.predict(downsampled_data[:, :-1])\n",
    "y_pred_3 = log_reg_3.predict(X_test_1)\n",
    "\n",
    "log_reg_3.coef_"
   ]
  },
  {
   "cell_type": "code",
   "execution_count": 32,
   "id": "411007c7",
   "metadata": {},
   "outputs": [
    {
     "data": {
      "text/html": [
       "<div>\n",
       "<style scoped>\n",
       "    .dataframe tbody tr th:only-of-type {\n",
       "        vertical-align: middle;\n",
       "    }\n",
       "\n",
       "    .dataframe tbody tr th {\n",
       "        vertical-align: top;\n",
       "    }\n",
       "\n",
       "    .dataframe thead th {\n",
       "        text-align: right;\n",
       "    }\n",
       "</style>\n",
       "<table border=\"1\" class=\"dataframe\">\n",
       "  <thead>\n",
       "    <tr style=\"text-align: right;\">\n",
       "      <th></th>\n",
       "      <th>0</th>\n",
       "      <th>1</th>\n",
       "    </tr>\n",
       "  </thead>\n",
       "  <tbody>\n",
       "    <tr>\n",
       "      <th>0</th>\n",
       "      <td>136574</td>\n",
       "      <td>84870</td>\n",
       "    </tr>\n",
       "    <tr>\n",
       "      <th>1</th>\n",
       "      <td>2756</td>\n",
       "      <td>7753</td>\n",
       "    </tr>\n",
       "  </tbody>\n",
       "</table>\n",
       "</div>"
      ],
      "text/plain": [
       "        0      1\n",
       "0  136574  84870\n",
       "1    2756   7753"
      ]
     },
     "execution_count": 32,
     "metadata": {},
     "output_type": "execute_result"
    }
   ],
   "source": [
    "cm = confusion_matrix(y_test, y_pred_3, labels=log_reg_3.classes_)\n",
    "pd.DataFrame(cm, index=log_reg_3.classes_, columns=log_reg_3.classes_)"
   ]
  },
  {
   "cell_type": "code",
   "execution_count": 33,
   "id": "14e82897",
   "metadata": {},
   "outputs": [
    {
     "data": {
      "image/png": "[encoded data removed]",
      "text/plain": [
       "<Figure size 640x480 with 2 Axes>"
      ]
     },
     "metadata": {},
     "output_type": "display_data"
    }
   ],
   "source": [
    "conf_matrix(y_test, y_pred_3)"
   ]
  },
  {
   "cell_type": "code",
   "execution_count": 34,
   "id": "d3187a3b",
   "metadata": {},
   "outputs": [
    {
     "name": "stdout",
     "output_type": "stream",
     "text": [
      "              precision    recall  f1-score   support\n",
      "\n",
      "           0       0.98      0.62      0.76    221444\n",
      "           1       0.08      0.74      0.15     10509\n",
      "\n",
      "    accuracy                           0.62    231953\n",
      "   macro avg       0.53      0.68      0.45    231953\n",
      "weighted avg       0.94      0.62      0.73    231953\n",
      "\n"
     ]
    }
   ],
   "source": [
    "print(classification_report(y_test, y_pred_3, labels=target_names))"
   ]
  },
  {
   "cell_type": "markdown",
   "id": "1b8b45dc",
   "metadata": {},
   "source": [
    "**downsampling не повлек за собой никаких изменений, precision для единиц по-прежнему очень мал.**   \n",
    "Увеличение Выборки относительно размера выборки с 1 с 0 приводит к незначительному росту precision и сильному снижению recall   \n",
    "Уменьшение выборки с 0 лишь уменьшает метрику precision"
   ]
  },
  {
   "cell_type": "markdown",
   "id": "f8087f8d",
   "metadata": {},
   "source": [
    "## 5.1. Модель 3"
   ]
  },
  {
   "cell_type": "markdown",
   "id": "7836d8eb",
   "metadata": {
    "hidden": true
   },
   "source": [
    "#### Изменение порога классификации"
   ]
  },
  {
   "cell_type": "markdown",
   "id": "85374b56",
   "metadata": {
    "hidden": true
   },
   "source": [
    "Изменение порога классификации -- метод, при котором изменяется пороговое значение вероятности, согласно которому наблюдения относятся к одному из двух классов. "
   ]
  },
  {
   "cell_type": "markdown",
   "id": "9564f39c",
   "metadata": {
    "hidden": true
   },
   "source": [
    "Для определения оптимального порога нужно задать критерий его определения, т.к. в разных задачах присутствует своя оптимальная стратегия. Критериями выбора порога отсечения могут выступать:\n",
    "1. Требование минимальной величины точности (полноты) модели. Например, нужно обеспечить точность теста не менее 80%. В этом случае оптимальным порогом будет максимальная полнота (точность), которая достигается при 80% (или значение, близкое к нему «справа» из-за дискретности ряда) точности (полноты).\n",
    "2. Требование максимальной суммарной точности и полноты модели, т.е. $Cutt_off_0=max_k(precision+recall)$\n",
    "3. Требование баланса между точностью и полнотой модели, т.е. $Cutt_off_0=max_k|precision-recall|$"
   ]
  },
  {
   "cell_type": "markdown",
   "id": "3b13fc91",
   "metadata": {
    "hidden": true
   },
   "source": [
    "**Задание 8.** Определить для всех построенных моделей оптимальный порог классификации. Последовательность действий для каждой модели:\n",
    "1. определить множество значений порога вероятности: от 0 до 1, n значений. \n",
    "2. определить вероятности принадлежности классу для модели (использовать метод predict_proba). \n",
    "3. для каждого значения вероятности определить величины: точность, полнота, f1-мера.\n",
    "4. построить на одном графике линии зависимости точности, полноты и f1-меры для заданных значений порога вероятности.\n",
    "Калибровку проводить на обучающей выборке. \n",
    "На тестовой выборке оценить качество полученных моделей с учетом выбранных порогов."
   ]
  },
  {
   "cell_type": "code",
   "execution_count": 35,
   "id": "e0878b38",
   "metadata": {},
   "outputs": [
    {
     "data": {
      "text/plain": [
       "array([[0.94450003, 0.05549997],\n",
       "       [0.95080714, 0.04919286],\n",
       "       [0.97646155, 0.02353845],\n",
       "       ...,\n",
       "       [0.96984311, 0.03015689],\n",
       "       [0.99239191, 0.00760809],\n",
       "       [0.95080714, 0.04919286]])"
      ]
     },
     "execution_count": 35,
     "metadata": {},
     "output_type": "execute_result"
    }
   ],
   "source": [
    "log_reg_1.predict_proba(X_train_1)"
   ]
  },
  {
   "cell_type": "code",
   "execution_count": 36,
   "id": "ced23fb7",
   "metadata": {},
   "outputs": [
    {
     "name": "stderr",
     "output_type": "stream",
     "text": [
      "D:\\anaconda\\Lib\\site-packages\\sklearn\\metrics\\_classification.py:1469: UndefinedMetricWarning: Precision is ill-defined and being set to 0.0 due to no predicted samples. Use `zero_division` parameter to control this behavior.\n",
      "  _warn_prf(average, modifier, msg_start, len(result))\n",
      "D:\\anaconda\\Lib\\site-packages\\sklearn\\metrics\\_classification.py:1469: UndefinedMetricWarning: Precision is ill-defined and being set to 0.0 due to no predicted samples. Use `zero_division` parameter to control this behavior.\n",
      "  _warn_prf(average, modifier, msg_start, len(result))\n",
      "D:\\anaconda\\Lib\\site-packages\\sklearn\\metrics\\_classification.py:1469: UndefinedMetricWarning: Precision is ill-defined and being set to 0.0 due to no predicted samples. Use `zero_division` parameter to control this behavior.\n",
      "  _warn_prf(average, modifier, msg_start, len(result))\n",
      "D:\\anaconda\\Lib\\site-packages\\sklearn\\metrics\\_classification.py:1469: UndefinedMetricWarning: Precision is ill-defined and being set to 0.0 due to no predicted samples. Use `zero_division` parameter to control this behavior.\n",
      "  _warn_prf(average, modifier, msg_start, len(result))\n",
      "D:\\anaconda\\Lib\\site-packages\\sklearn\\metrics\\_classification.py:1469: UndefinedMetricWarning: Precision is ill-defined and being set to 0.0 due to no predicted samples. Use `zero_division` parameter to control this behavior.\n",
      "  _warn_prf(average, modifier, msg_start, len(result))\n",
      "D:\\anaconda\\Lib\\site-packages\\sklearn\\metrics\\_classification.py:1469: UndefinedMetricWarning: Precision is ill-defined and being set to 0.0 due to no predicted samples. Use `zero_division` parameter to control this behavior.\n",
      "  _warn_prf(average, modifier, msg_start, len(result))\n",
      "D:\\anaconda\\Lib\\site-packages\\sklearn\\metrics\\_classification.py:1469: UndefinedMetricWarning: Precision is ill-defined and being set to 0.0 due to no predicted samples. Use `zero_division` parameter to control this behavior.\n",
      "  _warn_prf(average, modifier, msg_start, len(result))\n",
      "D:\\anaconda\\Lib\\site-packages\\sklearn\\metrics\\_classification.py:1469: UndefinedMetricWarning: Precision is ill-defined and being set to 0.0 due to no predicted samples. Use `zero_division` parameter to control this behavior.\n",
      "  _warn_prf(average, modifier, msg_start, len(result))\n"
     ]
    }
   ],
   "source": [
    "p_list = np.linspace(0,1,10) # 10 значений порога вероятности\n",
    "precision_list = []\n",
    "recall_list = []\n",
    "f1_list = []\n",
    "for p_value in p_list:\n",
    "    y_pred_4 = [1 if i >= p_value else 0 for i in log_reg_1.predict_proba(X_train_1)[:,1]] # [:,1] - дать из списка списков только 2 значение каждого списка\n",
    "    precision_list.append(precision_score(y_train, y_pred_4))\n",
    "    recall_list.append(recall_score(y_train, y_pred_4))\n",
    "    f1_list.append(f1_score(y_train, y_pred_4))"
   ]
  },
  {
   "cell_type": "code",
   "execution_count": 37,
   "id": "51b578dd",
   "metadata": {},
   "outputs": [
    {
     "data": {
      "image/png": "[encoded data removed]",
      "text/plain": [
       "<Figure size 1500x500 with 1 Axes>"
      ]
     },
     "metadata": {},
     "output_type": "display_data"
    }
   ],
   "source": [
    "fig, ax = plt.subplots(figsize=(15, 5))\n",
    "\n",
    "ax.plot(p_list, precision_list, linewidth = 3,label = 'Precision')\n",
    "ax.plot(p_list, recall_list, linewidth = 3,label = 'Recall')\n",
    "ax.plot(p_list, f1_list, linewidth = 3,label = 'F1')\n",
    "\n",
    "plt.legend(loc = \"upper right\")\n",
    "plt.xlabel('p-value',fontsize = 12)\n",
    "plt.ylabel('metric value',fontsize = 12)\n",
    "plt.show()"
   ]
  },
  {
   "cell_type": "code",
   "execution_count": 38,
   "id": "e7c27b3d",
   "metadata": {},
   "outputs": [
    {
     "data": {
      "text/plain": [
       "0.1111111111111111"
      ]
     },
     "execution_count": 38,
     "metadata": {},
     "output_type": "execute_result"
    }
   ],
   "source": [
    "opt_loc = np.argmax(f1_list) \n",
    "opt_p =p_list[opt_loc]\n",
    "opt_p"
   ]
  },
  {
   "cell_type": "code",
   "execution_count": 39,
   "id": "1363f7a4",
   "metadata": {},
   "outputs": [],
   "source": [
    "y_approx_3 = [1 if i >= opt_p else 0 for i in log_reg_1.predict_proba(X_train_1)[:,1]] \n",
    "y_pred_3 =  [1 if i >= opt_p else 0 for i in log_reg_1.predict_proba(X_test_1)[:,1]]"
   ]
  },
  {
   "cell_type": "code",
   "execution_count": 40,
   "id": "af2335e6",
   "metadata": {},
   "outputs": [
    {
     "data": {
      "text/html": [
       "<div>\n",
       "<style scoped>\n",
       "    .dataframe tbody tr th:only-of-type {\n",
       "        vertical-align: middle;\n",
       "    }\n",
       "\n",
       "    .dataframe tbody tr th {\n",
       "        vertical-align: top;\n",
       "    }\n",
       "\n",
       "    .dataframe thead th {\n",
       "        text-align: right;\n",
       "    }\n",
       "</style>\n",
       "<table border=\"1\" class=\"dataframe\">\n",
       "  <thead>\n",
       "    <tr style=\"text-align: right;\">\n",
       "      <th></th>\n",
       "      <th>0</th>\n",
       "      <th>1</th>\n",
       "    </tr>\n",
       "  </thead>\n",
       "  <tbody>\n",
       "    <tr>\n",
       "      <th>0</th>\n",
       "      <td>205072</td>\n",
       "      <td>16372</td>\n",
       "    </tr>\n",
       "    <tr>\n",
       "      <th>1</th>\n",
       "      <td>8284</td>\n",
       "      <td>2225</td>\n",
       "    </tr>\n",
       "  </tbody>\n",
       "</table>\n",
       "</div>"
      ],
      "text/plain": [
       "        0      1\n",
       "0  205072  16372\n",
       "1    8284   2225"
      ]
     },
     "execution_count": 40,
     "metadata": {},
     "output_type": "execute_result"
    }
   ],
   "source": [
    "cm2 = confusion_matrix(y_test, y_pred_3, labels=log_reg_1.classes_)\n",
    "pd.DataFrame(cm2, index=log_reg_1.classes_, columns=log_reg_1.classes_)"
   ]
  },
  {
   "cell_type": "code",
   "execution_count": 41,
   "id": "1db68a1f",
   "metadata": {},
   "outputs": [
    {
     "data": {
      "image/png": "[encoded data removed]",
      "text/plain": [
       "<Figure size 640x480 with 2 Axes>"
      ]
     },
     "metadata": {},
     "output_type": "display_data"
    }
   ],
   "source": [
    "conf_matrix(y_test, y_pred_3)"
   ]
  },
  {
   "cell_type": "code",
   "execution_count": 42,
   "id": "ea857d1c",
   "metadata": {},
   "outputs": [
    {
     "name": "stdout",
     "output_type": "stream",
     "text": [
      "              precision    recall  f1-score   support\n",
      "\n",
      "           0       0.96      0.93      0.94    221444\n",
      "           1       0.12      0.21      0.15     10509\n",
      "\n",
      "    accuracy                           0.89    231953\n",
      "   macro avg       0.54      0.57      0.55    231953\n",
      "weighted avg       0.92      0.89      0.91    231953\n",
      "\n"
     ]
    }
   ],
   "source": [
    "print(classification_report(y_test, y_pred_3, labels=target_names))"
   ]
  },
  {
   "cell_type": "markdown",
   "id": "c5022a5c",
   "metadata": {},
   "source": [
    "Метрика precision для целевого класса незначительно возросла, но вместе с этим recall существенно снизился. Таким образом, изменение порога классификации - неудачный способ улучшения модели"
   ]
  },
  {
   "cell_type": "markdown",
   "id": "e627ef0d",
   "metadata": {},
   "source": [
    "# Задание 8"
   ]
  },
  {
   "cell_type": "markdown",
   "id": "d16a673b",
   "metadata": {},
   "source": [
    "**1. Оценить качество полученных в при выполнении прошлого домашнего задания моделей с помощью двух метрик:**   \n",
    "     - площади кривой Precision - Recall    \n",
    "     - площади под кривой ROC"
   ]
  },
  {
   "cell_type": "markdown",
   "id": "69ba6507",
   "metadata": {},
   "source": [
    "Для модели 0 вычислять метрики бессмысленно, поэтому начнем с модели 1 "
   ]
  },
  {
   "cell_type": "code",
   "execution_count": 43,
   "id": "ea37c9aa",
   "metadata": {},
   "outputs": [],
   "source": [
    "from sklearn.metrics import RocCurveDisplay, roc_curve, roc_auc_score"
   ]
  },
  {
   "cell_type": "markdown",
   "id": "0a021e4d",
   "metadata": {},
   "source": [
    "## Модель 1"
   ]
  },
  {
   "cell_type": "markdown",
   "id": "03486c46",
   "metadata": {},
   "source": [
    "### Precision-recall"
   ]
  },
  {
   "cell_type": "code",
   "execution_count": 44,
   "id": "0762172a",
   "metadata": {},
   "outputs": [
    {
     "data": {
      "text/plain": [
       "array([[0.45205994, 0.54794006],\n",
       "       [0.48226298, 0.51773702],\n",
       "       [0.65864503, 0.34135497],\n",
       "       ...,\n",
       "       [0.60217006, 0.39782994],\n",
       "       [0.85190504, 0.14809496],\n",
       "       [0.48226298, 0.51773702]])"
      ]
     },
     "execution_count": 44,
     "metadata": {},
     "output_type": "execute_result"
    }
   ],
   "source": [
    "probabilities_1 = log_reg_2.predict_proba(X_train_1)\n",
    "probabilities_1"
   ]
  },
  {
   "cell_type": "code",
   "execution_count": 45,
   "id": "63e29446",
   "metadata": {},
   "outputs": [
    {
     "data": {
      "text/plain": [
       "0.115188659070936"
      ]
     },
     "execution_count": 45,
     "metadata": {},
     "output_type": "execute_result"
    }
   ],
   "source": [
    "pres_1, recall_1, treshold_1 = precision_recall_curve(y_train, probabilities_1[:,1]) # для кажд recall оценивает значения precision \n",
    "mod_1_auc = auc(recall_1, pres_1)\n",
    "mod_1_auc"
   ]
  },
  {
   "cell_type": "code",
   "execution_count": 46,
   "id": "83a3d577",
   "metadata": {},
   "outputs": [],
   "source": [
    "pres_rec = pd.DataFrame(precision_recall_curve(y_train, probabilities_1[:,1])).transpose()\n",
    "pres_rec.columns = ['precision', 'recall', 'p-value']"
   ]
  },
  {
   "cell_type": "code",
   "execution_count": 47,
   "id": "65a0b7b3",
   "metadata": {},
   "outputs": [
    {
     "data": {
      "image/png": "[encoded data removed]",
      "text/plain": [
       "<Figure size 1500x500 with 1 Axes>"
      ]
     },
     "metadata": {},
     "output_type": "display_data"
    }
   ],
   "source": [
    "fig, ax = plt.subplots(figsize=(15, 5))\n",
    "ax.plot(pres_rec['recall'], pres_rec['precision'], linewidth = 3,label = 'Mod_0 (area = %0.2f)' % mod_1_auc)\n",
    "\n",
    "\n",
    "plt.legend(loc = \"upper right\")\n",
    "plt.xlabel('Recall',fontsize = 12)\n",
    "plt.ylabel('Precision',fontsize = 12)\n",
    "plt.show()"
   ]
  },
  {
   "cell_type": "markdown",
   "id": "c15f64c0",
   "metadata": {},
   "source": [
    "Площадь под кривой очень мала, модель имеет плохую прогностическую ценность"
   ]
  },
  {
   "cell_type": "markdown",
   "id": "5799fea2",
   "metadata": {},
   "source": [
    "### ROC"
   ]
  },
  {
   "cell_type": "code",
   "execution_count": 48,
   "id": "fd23a795",
   "metadata": {},
   "outputs": [
    {
     "data": {
      "text/html": [
       "<div>\n",
       "<style scoped>\n",
       "    .dataframe tbody tr th:only-of-type {\n",
       "        vertical-align: middle;\n",
       "    }\n",
       "\n",
       "    .dataframe tbody tr th {\n",
       "        vertical-align: top;\n",
       "    }\n",
       "\n",
       "    .dataframe thead th {\n",
       "        text-align: right;\n",
       "    }\n",
       "</style>\n",
       "<table border=\"1\" class=\"dataframe\">\n",
       "  <thead>\n",
       "    <tr style=\"text-align: right;\">\n",
       "      <th></th>\n",
       "      <th>0</th>\n",
       "      <th>1</th>\n",
       "      <th>2</th>\n",
       "    </tr>\n",
       "  </thead>\n",
       "  <tbody>\n",
       "    <tr>\n",
       "      <th>0</th>\n",
       "      <td>0.000000</td>\n",
       "      <td>0.000000</td>\n",
       "      <td>inf</td>\n",
       "    </tr>\n",
       "    <tr>\n",
       "      <th>1</th>\n",
       "      <td>0.032566</td>\n",
       "      <td>0.049622</td>\n",
       "      <td>0.739229</td>\n",
       "    </tr>\n",
       "    <tr>\n",
       "      <th>2</th>\n",
       "      <td>0.073231</td>\n",
       "      <td>0.209741</td>\n",
       "      <td>0.715162</td>\n",
       "    </tr>\n",
       "    <tr>\n",
       "      <th>3</th>\n",
       "      <td>0.116098</td>\n",
       "      <td>0.328123</td>\n",
       "      <td>0.689807</td>\n",
       "    </tr>\n",
       "    <tr>\n",
       "      <th>4</th>\n",
       "      <td>0.160989</td>\n",
       "      <td>0.427721</td>\n",
       "      <td>0.663257</td>\n",
       "    </tr>\n",
       "    <tr>\n",
       "      <th>5</th>\n",
       "      <td>0.207176</td>\n",
       "      <td>0.513359</td>\n",
       "      <td>0.635636</td>\n",
       "    </tr>\n",
       "    <tr>\n",
       "      <th>6</th>\n",
       "      <td>0.254365</td>\n",
       "      <td>0.592265</td>\n",
       "      <td>0.607090</td>\n",
       "    </tr>\n",
       "    <tr>\n",
       "      <th>7</th>\n",
       "      <td>0.302227</td>\n",
       "      <td>0.657211</td>\n",
       "      <td>0.577794</td>\n",
       "    </tr>\n",
       "    <tr>\n",
       "      <th>8</th>\n",
       "      <td>0.336873</td>\n",
       "      <td>0.695017</td>\n",
       "      <td>0.547940</td>\n",
       "    </tr>\n",
       "    <tr>\n",
       "      <th>9</th>\n",
       "      <td>0.381339</td>\n",
       "      <td>0.735034</td>\n",
       "      <td>0.517737</td>\n",
       "    </tr>\n",
       "    <tr>\n",
       "      <th>10</th>\n",
       "      <td>0.427805</td>\n",
       "      <td>0.767943</td>\n",
       "      <td>0.487404</td>\n",
       "    </tr>\n",
       "    <tr>\n",
       "      <th>11</th>\n",
       "      <td>0.474315</td>\n",
       "      <td>0.796662</td>\n",
       "      <td>0.457163</td>\n",
       "    </tr>\n",
       "    <tr>\n",
       "      <th>12</th>\n",
       "      <td>0.522653</td>\n",
       "      <td>0.822627</td>\n",
       "      <td>0.427235</td>\n",
       "    </tr>\n",
       "    <tr>\n",
       "      <th>13</th>\n",
       "      <td>0.563675</td>\n",
       "      <td>0.842683</td>\n",
       "      <td>0.397830</td>\n",
       "    </tr>\n",
       "    <tr>\n",
       "      <th>14</th>\n",
       "      <td>0.605323</td>\n",
       "      <td>0.861373</td>\n",
       "      <td>0.369145</td>\n",
       "    </tr>\n",
       "    <tr>\n",
       "      <th>15</th>\n",
       "      <td>0.646961</td>\n",
       "      <td>0.877969</td>\n",
       "      <td>0.341355</td>\n",
       "    </tr>\n",
       "    <tr>\n",
       "      <th>16</th>\n",
       "      <td>0.689046</td>\n",
       "      <td>0.893953</td>\n",
       "      <td>0.314614</td>\n",
       "    </tr>\n",
       "    <tr>\n",
       "      <th>17</th>\n",
       "      <td>0.729981</td>\n",
       "      <td>0.909395</td>\n",
       "      <td>0.289049</td>\n",
       "    </tr>\n",
       "    <tr>\n",
       "      <th>18</th>\n",
       "      <td>0.770358</td>\n",
       "      <td>0.924625</td>\n",
       "      <td>0.264758</td>\n",
       "    </tr>\n",
       "    <tr>\n",
       "      <th>19</th>\n",
       "      <td>0.809201</td>\n",
       "      <td>0.939220</td>\n",
       "      <td>0.241815</td>\n",
       "    </tr>\n",
       "    <tr>\n",
       "      <th>20</th>\n",
       "      <td>0.847669</td>\n",
       "      <td>0.953462</td>\n",
       "      <td>0.220264</td>\n",
       "    </tr>\n",
       "    <tr>\n",
       "      <th>21</th>\n",
       "      <td>0.885430</td>\n",
       "      <td>0.966385</td>\n",
       "      <td>0.200127</td>\n",
       "    </tr>\n",
       "    <tr>\n",
       "      <th>22</th>\n",
       "      <td>0.923033</td>\n",
       "      <td>0.978367</td>\n",
       "      <td>0.181402</td>\n",
       "    </tr>\n",
       "    <tr>\n",
       "      <th>23</th>\n",
       "      <td>0.960593</td>\n",
       "      <td>0.990231</td>\n",
       "      <td>0.164070</td>\n",
       "    </tr>\n",
       "    <tr>\n",
       "      <th>24</th>\n",
       "      <td>1.000000</td>\n",
       "      <td>1.000000</td>\n",
       "      <td>0.148095</td>\n",
       "    </tr>\n",
       "  </tbody>\n",
       "</table>\n",
       "</div>"
      ],
      "text/plain": [
       "           0         1         2\n",
       "0   0.000000  0.000000       inf\n",
       "1   0.032566  0.049622  0.739229\n",
       "2   0.073231  0.209741  0.715162\n",
       "3   0.116098  0.328123  0.689807\n",
       "4   0.160989  0.427721  0.663257\n",
       "5   0.207176  0.513359  0.635636\n",
       "6   0.254365  0.592265  0.607090\n",
       "7   0.302227  0.657211  0.577794\n",
       "8   0.336873  0.695017  0.547940\n",
       "9   0.381339  0.735034  0.517737\n",
       "10  0.427805  0.767943  0.487404\n",
       "11  0.474315  0.796662  0.457163\n",
       "12  0.522653  0.822627  0.427235\n",
       "13  0.563675  0.842683  0.397830\n",
       "14  0.605323  0.861373  0.369145\n",
       "15  0.646961  0.877969  0.341355\n",
       "16  0.689046  0.893953  0.314614\n",
       "17  0.729981  0.909395  0.289049\n",
       "18  0.770358  0.924625  0.264758\n",
       "19  0.809201  0.939220  0.241815\n",
       "20  0.847669  0.953462  0.220264\n",
       "21  0.885430  0.966385  0.200127\n",
       "22  0.923033  0.978367  0.181402\n",
       "23  0.960593  0.990231  0.164070\n",
       "24  1.000000  1.000000  0.148095"
      ]
     },
     "execution_count": 48,
     "metadata": {},
     "output_type": "execute_result"
    }
   ],
   "source": [
    "roc_ds = pd.DataFrame(roc_curve(y_train, probabilities_1[:,1])).transpose()\n",
    "roc_ds"
   ]
  },
  {
   "cell_type": "code",
   "execution_count": 49,
   "id": "81000db6",
   "metadata": {},
   "outputs": [],
   "source": [
    "mod_1_roc_auc = auc(roc_ds[0], roc_ds[1])"
   ]
  },
  {
   "cell_type": "code",
   "execution_count": 50,
   "id": "8fd8627b",
   "metadata": {},
   "outputs": [
    {
     "data": {
      "image/png": "[encoded data removed]",
      "text/plain": [
       "<Figure size 800x500 with 1 Axes>"
      ]
     },
     "metadata": {},
     "output_type": "display_data"
    }
   ],
   "source": [
    "fig, ax = plt.subplots(figsize=(8, 5))\n",
    "ax.plot(roc_ds[0], roc_ds[1], linewidth = 3,label = 'Mod_0 (area = %0.2f)' % mod_1_roc_auc)\n",
    "plt.plot([[0,0],[1,1]], linewidth=0.5, color='gray')\n",
    "plt.legend(loc = \"upper right\")\n",
    "plt.xlabel('False Positive Rate',fontsize = 12)\n",
    "plt.ylabel('Recall',fontsize = 12) # TPR\n",
    "plt.show()"
   ]
  },
  {
   "cell_type": "markdown",
   "id": "7723ed6e",
   "metadata": {},
   "source": [
    "## Модель 2 "
   ]
  },
  {
   "cell_type": "markdown",
   "id": "c9df3c6c",
   "metadata": {},
   "source": [
    "### Precision-recall"
   ]
  },
  {
   "cell_type": "code",
   "execution_count": 51,
   "id": "106ebe7b",
   "metadata": {},
   "outputs": [],
   "source": [
    "probabilities_2 = log_reg_3.predict_proba(downsampled_data[:, :-1])"
   ]
  },
  {
   "cell_type": "code",
   "execution_count": 52,
   "id": "5ef1cf6e",
   "metadata": {},
   "outputs": [],
   "source": [
    "pres_2, recall_2, treshold_2 = precision_recall_curve(downsampled_data[:, -1], probabilities_2[:,1])\n",
    "mod_2_auc = auc(recall_2, pres_2)"
   ]
  },
  {
   "cell_type": "code",
   "execution_count": 53,
   "id": "1dc893ab",
   "metadata": {},
   "outputs": [
    {
     "data": {
      "text/html": [
       "<div>\n",
       "<style scoped>\n",
       "    .dataframe tbody tr th:only-of-type {\n",
       "        vertical-align: middle;\n",
       "    }\n",
       "\n",
       "    .dataframe tbody tr th {\n",
       "        vertical-align: top;\n",
       "    }\n",
       "\n",
       "    .dataframe thead th {\n",
       "        text-align: right;\n",
       "    }\n",
       "</style>\n",
       "<table border=\"1\" class=\"dataframe\">\n",
       "  <thead>\n",
       "    <tr style=\"text-align: right;\">\n",
       "      <th></th>\n",
       "      <th>precision</th>\n",
       "      <th>recall</th>\n",
       "      <th>p-value</th>\n",
       "    </tr>\n",
       "  </thead>\n",
       "  <tbody>\n",
       "    <tr>\n",
       "      <th>0</th>\n",
       "      <td>0.489711</td>\n",
       "      <td>1.000000</td>\n",
       "      <td>0.143667</td>\n",
       "    </tr>\n",
       "    <tr>\n",
       "      <th>1</th>\n",
       "      <td>0.497258</td>\n",
       "      <td>0.990231</td>\n",
       "      <td>0.159181</td>\n",
       "    </tr>\n",
       "    <tr>\n",
       "      <th>2</th>\n",
       "      <td>0.504277</td>\n",
       "      <td>0.978367</td>\n",
       "      <td>0.176025</td>\n",
       "    </tr>\n",
       "    <tr>\n",
       "      <th>3</th>\n",
       "      <td>0.511551</td>\n",
       "      <td>0.966385</td>\n",
       "      <td>0.194240</td>\n",
       "    </tr>\n",
       "    <tr>\n",
       "      <th>4</th>\n",
       "      <td>0.519315</td>\n",
       "      <td>0.953462</td>\n",
       "      <td>0.213851</td>\n",
       "    </tr>\n",
       "    <tr>\n",
       "      <th>5</th>\n",
       "      <td>0.527019</td>\n",
       "      <td>0.939220</td>\n",
       "      <td>0.234865</td>\n",
       "    </tr>\n",
       "    <tr>\n",
       "      <th>6</th>\n",
       "      <td>0.535034</td>\n",
       "      <td>0.924625</td>\n",
       "      <td>0.257268</td>\n",
       "    </tr>\n",
       "    <tr>\n",
       "      <th>7</th>\n",
       "      <td>0.543783</td>\n",
       "      <td>0.909395</td>\n",
       "      <td>0.281022</td>\n",
       "    </tr>\n",
       "    <tr>\n",
       "      <th>8</th>\n",
       "      <td>0.553296</td>\n",
       "      <td>0.893953</td>\n",
       "      <td>0.306067</td>\n",
       "    </tr>\n",
       "    <tr>\n",
       "      <th>9</th>\n",
       "      <td>0.564311</td>\n",
       "      <td>0.877969</td>\n",
       "      <td>0.332312</td>\n",
       "    </tr>\n",
       "    <tr>\n",
       "      <th>10</th>\n",
       "      <td>0.575283</td>\n",
       "      <td>0.861373</td>\n",
       "      <td>0.359640</td>\n",
       "    </tr>\n",
       "    <tr>\n",
       "      <th>11</th>\n",
       "      <td>0.586526</td>\n",
       "      <td>0.842683</td>\n",
       "      <td>0.387911</td>\n",
       "    </tr>\n",
       "    <tr>\n",
       "      <th>12</th>\n",
       "      <td>0.599612</td>\n",
       "      <td>0.822627</td>\n",
       "      <td>0.416957</td>\n",
       "    </tr>\n",
       "    <tr>\n",
       "      <th>13</th>\n",
       "      <td>0.615104</td>\n",
       "      <td>0.796662</td>\n",
       "      <td>0.446591</td>\n",
       "    </tr>\n",
       "    <tr>\n",
       "      <th>14</th>\n",
       "      <td>0.630396</td>\n",
       "      <td>0.767943</td>\n",
       "      <td>0.476609</td>\n",
       "    </tr>\n",
       "    <tr>\n",
       "      <th>15</th>\n",
       "      <td>0.647311</td>\n",
       "      <td>0.735034</td>\n",
       "      <td>0.506798</td>\n",
       "    </tr>\n",
       "    <tr>\n",
       "      <th>16</th>\n",
       "      <td>0.663468</td>\n",
       "      <td>0.695017</td>\n",
       "      <td>0.536937</td>\n",
       "    </tr>\n",
       "    <tr>\n",
       "      <th>17</th>\n",
       "      <td>0.675596</td>\n",
       "      <td>0.657211</td>\n",
       "      <td>0.566808</td>\n",
       "    </tr>\n",
       "    <tr>\n",
       "      <th>18</th>\n",
       "      <td>0.691038</td>\n",
       "      <td>0.592265</td>\n",
       "      <td>0.596202</td>\n",
       "    </tr>\n",
       "    <tr>\n",
       "      <th>19</th>\n",
       "      <td>0.705692</td>\n",
       "      <td>0.513359</td>\n",
       "      <td>0.624921</td>\n",
       "    </tr>\n",
       "    <tr>\n",
       "      <th>20</th>\n",
       "      <td>0.718665</td>\n",
       "      <td>0.427721</td>\n",
       "      <td>0.652786</td>\n",
       "    </tr>\n",
       "    <tr>\n",
       "      <th>21</th>\n",
       "      <td>0.728646</td>\n",
       "      <td>0.328123</td>\n",
       "      <td>0.679643</td>\n",
       "    </tr>\n",
       "    <tr>\n",
       "      <th>22</th>\n",
       "      <td>0.728775</td>\n",
       "      <td>0.209741</td>\n",
       "      <td>0.705361</td>\n",
       "    </tr>\n",
       "    <tr>\n",
       "      <th>23</th>\n",
       "      <td>0.594640</td>\n",
       "      <td>0.049622</td>\n",
       "      <td>0.729834</td>\n",
       "    </tr>\n",
       "    <tr>\n",
       "      <th>24</th>\n",
       "      <td>1.000000</td>\n",
       "      <td>0.000000</td>\n",
       "      <td>NaN</td>\n",
       "    </tr>\n",
       "  </tbody>\n",
       "</table>\n",
       "</div>"
      ],
      "text/plain": [
       "    precision    recall   p-value\n",
       "0    0.489711  1.000000  0.143667\n",
       "1    0.497258  0.990231  0.159181\n",
       "2    0.504277  0.978367  0.176025\n",
       "3    0.511551  0.966385  0.194240\n",
       "4    0.519315  0.953462  0.213851\n",
       "5    0.527019  0.939220  0.234865\n",
       "6    0.535034  0.924625  0.257268\n",
       "7    0.543783  0.909395  0.281022\n",
       "8    0.553296  0.893953  0.306067\n",
       "9    0.564311  0.877969  0.332312\n",
       "10   0.575283  0.861373  0.359640\n",
       "11   0.586526  0.842683  0.387911\n",
       "12   0.599612  0.822627  0.416957\n",
       "13   0.615104  0.796662  0.446591\n",
       "14   0.630396  0.767943  0.476609\n",
       "15   0.647311  0.735034  0.506798\n",
       "16   0.663468  0.695017  0.536937\n",
       "17   0.675596  0.657211  0.566808\n",
       "18   0.691038  0.592265  0.596202\n",
       "19   0.705692  0.513359  0.624921\n",
       "20   0.718665  0.427721  0.652786\n",
       "21   0.728646  0.328123  0.679643\n",
       "22   0.728775  0.209741  0.705361\n",
       "23   0.594640  0.049622  0.729834\n",
       "24   1.000000  0.000000       NaN"
      ]
     },
     "execution_count": 53,
     "metadata": {},
     "output_type": "execute_result"
    }
   ],
   "source": [
    "pres_rec_1 = pd.DataFrame(precision_recall_curve(downsampled_data[:, -1], probabilities_2[:,1])).transpose()\n",
    "pres_rec_1.columns = ['precision', 'recall', 'p-value'] # такое чувство, что либо здесь, либо в подписях графика precision и recall поменяны местами\n",
    "pres_rec_1"
   ]
  },
  {
   "cell_type": "code",
   "execution_count": 54,
   "id": "bb8325e8",
   "metadata": {},
   "outputs": [
    {
     "data": {
      "image/png": "[encoded data removed]",
      "text/plain": [
       "<Figure size 1500x500 with 1 Axes>"
      ]
     },
     "metadata": {},
     "output_type": "display_data"
    }
   ],
   "source": [
    "fig, ax = plt.subplots(figsize=(15, 5))\n",
    "ax.plot(pres_rec_1['recall'], pres_rec_1['precision'], linewidth = 3,label = 'Mod_2 (area = %0.2f)' % mod_2_auc) # чем выше \n",
    "\n",
    "\n",
    "plt.legend(loc = \"upper right\")\n",
    "plt.xlabel('Recall',fontsize = 12)\n",
    "plt.ylabel('Precision',fontsize = 12)\n",
    "plt.show()"
   ]
  },
  {
   "cell_type": "markdown",
   "id": "cca46f7a",
   "metadata": {},
   "source": [
    "Вторая модель имеет лучшее предсказательное качество согласно метрике AUC"
   ]
  },
  {
   "cell_type": "markdown",
   "id": "3a480034",
   "metadata": {},
   "source": [
    "### ROC"
   ]
  },
  {
   "cell_type": "code",
   "execution_count": 55,
   "id": "f9c6543a",
   "metadata": {},
   "outputs": [],
   "source": [
    "roc_ds = pd.DataFrame(roc_curve(downsampled_data[:, -1], probabilities_2[:,1])).transpose()\n",
    "mod_2_roc_auc = auc(roc_ds[0], roc_ds[1])"
   ]
  },
  {
   "cell_type": "code",
   "execution_count": 56,
   "id": "a92fb63b",
   "metadata": {},
   "outputs": [
    {
     "data": {
      "image/png": "[encoded data removed]",
      "text/plain": [
       "<Figure size 800x500 with 1 Axes>"
      ]
     },
     "metadata": {},
     "output_type": "display_data"
    }
   ],
   "source": [
    "fig, ax = plt.subplots(figsize=(8, 5))\n",
    "ax.plot(roc_ds[0], roc_ds[1], linewidth = 3,label = 'Mod_0 (area = %0.2f)' % mod_2_roc_auc)\n",
    "plt.plot([[0,0],[1,1]], linewidth=0.5, color='gray')\n",
    "plt.legend(loc = \"upper right\")\n",
    "plt.xlabel('False Positive Rate',fontsize = 12)\n",
    "plt.ylabel('Recall',fontsize = 12) # TPR\n",
    "plt.show()"
   ]
  },
  {
   "cell_type": "markdown",
   "id": "8415d07c",
   "metadata": {},
   "source": [
    "# Модель 3"
   ]
  },
  {
   "cell_type": "markdown",
   "id": "35b87ed8",
   "metadata": {},
   "source": [
    "### Precision-recall"
   ]
  },
  {
   "cell_type": "code",
   "execution_count": 57,
   "id": "72b0ae2d",
   "metadata": {},
   "outputs": [],
   "source": [
    "probabilities_3 = log_reg_1.predict_proba(X_train_1)"
   ]
  },
  {
   "cell_type": "code",
   "execution_count": 58,
   "id": "3a701897",
   "metadata": {},
   "outputs": [],
   "source": [
    "pres_3, recall_3, treshold_3 = precision_recall_curve(y_train, probabilities_3[:,1])\n",
    "mod_3_auc = auc(recall_3, pres_3)"
   ]
  },
  {
   "cell_type": "code",
   "execution_count": 59,
   "id": "0e9d90ba",
   "metadata": {},
   "outputs": [
    {
     "data": {
      "image/png": "[encoded data removed]",
      "text/plain": [
       "<Figure size 1500x500 with 1 Axes>"
      ]
     },
     "metadata": {},
     "output_type": "display_data"
    }
   ],
   "source": [
    "fig, ax = plt.subplots(figsize=(15, 5))\n",
    "ax.plot(recall_3, pres_3, linewidth = 3,label = 'Mod_0 (area = %0.2f)' % mod_3_auc)\n",
    "\n",
    "\n",
    "plt.legend(loc = \"upper right\")\n",
    "plt.xlabel('Recall',fontsize = 12)\n",
    "plt.ylabel('Precision',fontsize = 12)\n",
    "plt.show()"
   ]
  },
  {
   "cell_type": "markdown",
   "id": "8e49d8cc",
   "metadata": {},
   "source": [
    "График модели 3 совпадает с первой моделью, так как в обоих случаях мы используем одинаковую X_train"
   ]
  },
  {
   "cell_type": "markdown",
   "id": "ae750360",
   "metadata": {},
   "source": [
    "### ROC"
   ]
  },
  {
   "cell_type": "code",
   "execution_count": 60,
   "id": "11dbea7d",
   "metadata": {},
   "outputs": [],
   "source": [
    "roc_ds = pd.DataFrame(roc_curve(y_train, probabilities_3[:,1])).transpose()\n",
    "mod_3_roc_auc = auc(roc_ds[0], roc_ds[1])"
   ]
  },
  {
   "cell_type": "code",
   "execution_count": 61,
   "id": "11b4644d",
   "metadata": {},
   "outputs": [
    {
     "data": {
      "image/png": "[encoded data removed]",
      "text/plain": [
       "<Figure size 800x500 with 1 Axes>"
      ]
     },
     "metadata": {},
     "output_type": "display_data"
    }
   ],
   "source": [
    "fig, ax = plt.subplots(figsize=(8, 5))\n",
    "ax.plot(roc_ds[0], roc_ds[1], linewidth = 3,label = 'Mod_0 (area = %0.2f)' % mod_3_roc_auc)\n",
    "plt.plot([[0,0],[1,1]], linewidth=0.5, color='gray')\n",
    "plt.legend(loc = \"upper right\")\n",
    "plt.xlabel('False Positive Rate',fontsize = 12)\n",
    "plt.ylabel('Recall',fontsize = 12) # TPR\n",
    "plt.show()"
   ]
  },
  {
   "cell_type": "markdown",
   "id": "9f9092ff",
   "metadata": {},
   "source": [
    "**2. Обучить новые модели логистические регрессии на всех отобранных признаках с 4 вариантами дополнительных штрафов:**   \n",
    "    - none   \n",
    "    - l1   \n",
    "    - l2   \n",
    "    - elasticnet   "
   ]
  },
  {
   "cell_type": "code",
   "execution_count": 62,
   "id": "d6541f40",
   "metadata": {},
   "outputs": [
    {
     "data": {
      "text/html": [
       "<div>\n",
       "<style scoped>\n",
       "    .dataframe tbody tr th:only-of-type {\n",
       "        vertical-align: middle;\n",
       "    }\n",
       "\n",
       "    .dataframe tbody tr th {\n",
       "        vertical-align: top;\n",
       "    }\n",
       "\n",
       "    .dataframe thead th {\n",
       "        text-align: right;\n",
       "    }\n",
       "</style>\n",
       "<table border=\"1\" class=\"dataframe\">\n",
       "  <thead>\n",
       "    <tr style=\"text-align: right;\">\n",
       "      <th></th>\n",
       "      <th>artist_name</th>\n",
       "      <th>track_name</th>\n",
       "      <th>track_id</th>\n",
       "      <th>popularity</th>\n",
       "      <th>year</th>\n",
       "      <th>genre</th>\n",
       "      <th>danceability</th>\n",
       "      <th>energy</th>\n",
       "      <th>key</th>\n",
       "      <th>loudness</th>\n",
       "      <th>...</th>\n",
       "      <th>acousticness</th>\n",
       "      <th>instrumentalness</th>\n",
       "      <th>liveness</th>\n",
       "      <th>valence</th>\n",
       "      <th>tempo</th>\n",
       "      <th>duration_ms</th>\n",
       "      <th>time_signature</th>\n",
       "      <th>age</th>\n",
       "      <th>duration_min</th>\n",
       "      <th>mode_1</th>\n",
       "    </tr>\n",
       "  </thead>\n",
       "  <tbody>\n",
       "    <tr>\n",
       "      <th>0</th>\n",
       "      <td>Jason Mraz</td>\n",
       "      <td>I Won't Give Up</td>\n",
       "      <td>53QF56cjZA9RTuuMZDrSA6</td>\n",
       "      <td>1</td>\n",
       "      <td>2012</td>\n",
       "      <td>acoustic</td>\n",
       "      <td>0.483</td>\n",
       "      <td>0.303</td>\n",
       "      <td>4</td>\n",
       "      <td>-10.058</td>\n",
       "      <td>...</td>\n",
       "      <td>0.6940</td>\n",
       "      <td>0.000000</td>\n",
       "      <td>0.1150</td>\n",
       "      <td>0.1390</td>\n",
       "      <td>133.406</td>\n",
       "      <td>240166</td>\n",
       "      <td>3</td>\n",
       "      <td>11</td>\n",
       "      <td>4</td>\n",
       "      <td>1</td>\n",
       "    </tr>\n",
       "    <tr>\n",
       "      <th>1</th>\n",
       "      <td>Jason Mraz</td>\n",
       "      <td>93 Million Miles</td>\n",
       "      <td>1s8tP3jP4GZcyHDsjvw218</td>\n",
       "      <td>1</td>\n",
       "      <td>2012</td>\n",
       "      <td>acoustic</td>\n",
       "      <td>0.572</td>\n",
       "      <td>0.454</td>\n",
       "      <td>3</td>\n",
       "      <td>-10.286</td>\n",
       "      <td>...</td>\n",
       "      <td>0.4770</td>\n",
       "      <td>0.000014</td>\n",
       "      <td>0.0974</td>\n",
       "      <td>0.5150</td>\n",
       "      <td>140.182</td>\n",
       "      <td>216387</td>\n",
       "      <td>4</td>\n",
       "      <td>11</td>\n",
       "      <td>3</td>\n",
       "      <td>1</td>\n",
       "    </tr>\n",
       "    <tr>\n",
       "      <th>2</th>\n",
       "      <td>Joshua Hyslop</td>\n",
       "      <td>Do Not Let Me Go</td>\n",
       "      <td>7BRCa8MPiyuvr2VU3O9W0F</td>\n",
       "      <td>1</td>\n",
       "      <td>2012</td>\n",
       "      <td>acoustic</td>\n",
       "      <td>0.409</td>\n",
       "      <td>0.234</td>\n",
       "      <td>3</td>\n",
       "      <td>-13.711</td>\n",
       "      <td>...</td>\n",
       "      <td>0.3380</td>\n",
       "      <td>0.000050</td>\n",
       "      <td>0.0895</td>\n",
       "      <td>0.1450</td>\n",
       "      <td>139.832</td>\n",
       "      <td>158960</td>\n",
       "      <td>4</td>\n",
       "      <td>11</td>\n",
       "      <td>2</td>\n",
       "      <td>1</td>\n",
       "    </tr>\n",
       "    <tr>\n",
       "      <th>3</th>\n",
       "      <td>Boyce Avenue</td>\n",
       "      <td>Fast Car</td>\n",
       "      <td>63wsZUhUZLlh1OsyrZq7sz</td>\n",
       "      <td>1</td>\n",
       "      <td>2012</td>\n",
       "      <td>acoustic</td>\n",
       "      <td>0.392</td>\n",
       "      <td>0.251</td>\n",
       "      <td>10</td>\n",
       "      <td>-9.845</td>\n",
       "      <td>...</td>\n",
       "      <td>0.8070</td>\n",
       "      <td>0.000000</td>\n",
       "      <td>0.0797</td>\n",
       "      <td>0.5080</td>\n",
       "      <td>204.961</td>\n",
       "      <td>304293</td>\n",
       "      <td>4</td>\n",
       "      <td>11</td>\n",
       "      <td>5</td>\n",
       "      <td>1</td>\n",
       "    </tr>\n",
       "    <tr>\n",
       "      <th>4</th>\n",
       "      <td>Andrew Belle</td>\n",
       "      <td>Sky's Still Blue</td>\n",
       "      <td>6nXIYClvJAfi6ujLiKqEq8</td>\n",
       "      <td>1</td>\n",
       "      <td>2012</td>\n",
       "      <td>acoustic</td>\n",
       "      <td>0.430</td>\n",
       "      <td>0.791</td>\n",
       "      <td>6</td>\n",
       "      <td>-5.419</td>\n",
       "      <td>...</td>\n",
       "      <td>0.0726</td>\n",
       "      <td>0.019300</td>\n",
       "      <td>0.1100</td>\n",
       "      <td>0.2170</td>\n",
       "      <td>171.864</td>\n",
       "      <td>244320</td>\n",
       "      <td>4</td>\n",
       "      <td>11</td>\n",
       "      <td>4</td>\n",
       "      <td>0</td>\n",
       "    </tr>\n",
       "    <tr>\n",
       "      <th>...</th>\n",
       "      <td>...</td>\n",
       "      <td>...</td>\n",
       "      <td>...</td>\n",
       "      <td>...</td>\n",
       "      <td>...</td>\n",
       "      <td>...</td>\n",
       "      <td>...</td>\n",
       "      <td>...</td>\n",
       "      <td>...</td>\n",
       "      <td>...</td>\n",
       "      <td>...</td>\n",
       "      <td>...</td>\n",
       "      <td>...</td>\n",
       "      <td>...</td>\n",
       "      <td>...</td>\n",
       "      <td>...</td>\n",
       "      <td>...</td>\n",
       "      <td>...</td>\n",
       "      <td>...</td>\n",
       "      <td>...</td>\n",
       "      <td>...</td>\n",
       "    </tr>\n",
       "    <tr>\n",
       "      <th>1473391</th>\n",
       "      <td>Nicola Conte</td>\n",
       "      <td>Black Spirits</td>\n",
       "      <td>0m27F0IGHLGAWhqd6ccYst</td>\n",
       "      <td>0</td>\n",
       "      <td>2011</td>\n",
       "      <td>trip-hop</td>\n",
       "      <td>0.373</td>\n",
       "      <td>0.742</td>\n",
       "      <td>10</td>\n",
       "      <td>-6.453</td>\n",
       "      <td>...</td>\n",
       "      <td>0.3250</td>\n",
       "      <td>0.000141</td>\n",
       "      <td>0.1590</td>\n",
       "      <td>0.5220</td>\n",
       "      <td>107.951</td>\n",
       "      <td>344013</td>\n",
       "      <td>3</td>\n",
       "      <td>12</td>\n",
       "      <td>5</td>\n",
       "      <td>0</td>\n",
       "    </tr>\n",
       "    <tr>\n",
       "      <th>1473392</th>\n",
       "      <td>Nicola Conte</td>\n",
       "      <td>Quiet Dawn</td>\n",
       "      <td>6er9p611eHEcUCU50j7D57</td>\n",
       "      <td>0</td>\n",
       "      <td>2011</td>\n",
       "      <td>trip-hop</td>\n",
       "      <td>0.516</td>\n",
       "      <td>0.675</td>\n",
       "      <td>7</td>\n",
       "      <td>-7.588</td>\n",
       "      <td>...</td>\n",
       "      <td>0.7880</td>\n",
       "      <td>0.000129</td>\n",
       "      <td>0.1300</td>\n",
       "      <td>0.2640</td>\n",
       "      <td>119.897</td>\n",
       "      <td>285067</td>\n",
       "      <td>4</td>\n",
       "      <td>12</td>\n",
       "      <td>4</td>\n",
       "      <td>0</td>\n",
       "    </tr>\n",
       "    <tr>\n",
       "      <th>1473393</th>\n",
       "      <td>Amon Tobin</td>\n",
       "      <td>Morning Ms Candis</td>\n",
       "      <td>7jsMMqxy1tt0rH5FzYcZTQ</td>\n",
       "      <td>0</td>\n",
       "      <td>2011</td>\n",
       "      <td>trip-hop</td>\n",
       "      <td>0.491</td>\n",
       "      <td>0.440</td>\n",
       "      <td>5</td>\n",
       "      <td>-8.512</td>\n",
       "      <td>...</td>\n",
       "      <td>0.4770</td>\n",
       "      <td>0.003130</td>\n",
       "      <td>0.0936</td>\n",
       "      <td>0.0351</td>\n",
       "      <td>100.076</td>\n",
       "      <td>214253</td>\n",
       "      <td>4</td>\n",
       "      <td>12</td>\n",
       "      <td>3</td>\n",
       "      <td>1</td>\n",
       "    </tr>\n",
       "    <tr>\n",
       "      <th>1473394</th>\n",
       "      <td>Peace Orchestra</td>\n",
       "      <td>Happy Christmas (War Is Over)</td>\n",
       "      <td>77lA1InUaXztuRk2vOzD1S</td>\n",
       "      <td>0</td>\n",
       "      <td>2011</td>\n",
       "      <td>trip-hop</td>\n",
       "      <td>0.480</td>\n",
       "      <td>0.405</td>\n",
       "      <td>0</td>\n",
       "      <td>-13.343</td>\n",
       "      <td>...</td>\n",
       "      <td>0.4310</td>\n",
       "      <td>0.000063</td>\n",
       "      <td>0.1250</td>\n",
       "      <td>0.2020</td>\n",
       "      <td>133.885</td>\n",
       "      <td>239133</td>\n",
       "      <td>3</td>\n",
       "      <td>12</td>\n",
       "      <td>3</td>\n",
       "      <td>1</td>\n",
       "    </tr>\n",
       "    <tr>\n",
       "      <th>1473395</th>\n",
       "      <td>Mo' Horizons</td>\n",
       "      <td>Hit the Road Jack (Pé Na Éstrada)</td>\n",
       "      <td>4oMiOwhDZEdBuzAfhzRHbi</td>\n",
       "      <td>0</td>\n",
       "      <td>2011</td>\n",
       "      <td>trip-hop</td>\n",
       "      <td>0.782</td>\n",
       "      <td>0.861</td>\n",
       "      <td>1</td>\n",
       "      <td>-7.292</td>\n",
       "      <td>...</td>\n",
       "      <td>0.2200</td>\n",
       "      <td>0.000008</td>\n",
       "      <td>0.0581</td>\n",
       "      <td>0.8570</td>\n",
       "      <td>89.987</td>\n",
       "      <td>212227</td>\n",
       "      <td>4</td>\n",
       "      <td>12</td>\n",
       "      <td>3</td>\n",
       "      <td>0</td>\n",
       "    </tr>\n",
       "  </tbody>\n",
       "</table>\n",
       "<p>1159764 rows × 21 columns</p>\n",
       "</div>"
      ],
      "text/plain": [
       "             artist_name                         track_name  \\\n",
       "0             Jason Mraz                    I Won't Give Up   \n",
       "1             Jason Mraz                   93 Million Miles   \n",
       "2          Joshua Hyslop                   Do Not Let Me Go   \n",
       "3           Boyce Avenue                           Fast Car   \n",
       "4           Andrew Belle                   Sky's Still Blue   \n",
       "...                  ...                                ...   \n",
       "1473391     Nicola Conte                      Black Spirits   \n",
       "1473392     Nicola Conte                         Quiet Dawn   \n",
       "1473393       Amon Tobin                  Morning Ms Candis   \n",
       "1473394  Peace Orchestra      Happy Christmas (War Is Over)   \n",
       "1473395     Mo' Horizons  Hit the Road Jack (Pé Na Éstrada)   \n",
       "\n",
       "                       track_id  popularity  year     genre  danceability  \\\n",
       "0        53QF56cjZA9RTuuMZDrSA6           1  2012  acoustic         0.483   \n",
       "1        1s8tP3jP4GZcyHDsjvw218           1  2012  acoustic         0.572   \n",
       "2        7BRCa8MPiyuvr2VU3O9W0F           1  2012  acoustic         0.409   \n",
       "3        63wsZUhUZLlh1OsyrZq7sz           1  2012  acoustic         0.392   \n",
       "4        6nXIYClvJAfi6ujLiKqEq8           1  2012  acoustic         0.430   \n",
       "...                         ...         ...   ...       ...           ...   \n",
       "1473391  0m27F0IGHLGAWhqd6ccYst           0  2011  trip-hop         0.373   \n",
       "1473392  6er9p611eHEcUCU50j7D57           0  2011  trip-hop         0.516   \n",
       "1473393  7jsMMqxy1tt0rH5FzYcZTQ           0  2011  trip-hop         0.491   \n",
       "1473394  77lA1InUaXztuRk2vOzD1S           0  2011  trip-hop         0.480   \n",
       "1473395  4oMiOwhDZEdBuzAfhzRHbi           0  2011  trip-hop         0.782   \n",
       "\n",
       "         energy  key  loudness  ...  acousticness  instrumentalness  liveness  \\\n",
       "0         0.303    4   -10.058  ...        0.6940          0.000000    0.1150   \n",
       "1         0.454    3   -10.286  ...        0.4770          0.000014    0.0974   \n",
       "2         0.234    3   -13.711  ...        0.3380          0.000050    0.0895   \n",
       "3         0.251   10    -9.845  ...        0.8070          0.000000    0.0797   \n",
       "4         0.791    6    -5.419  ...        0.0726          0.019300    0.1100   \n",
       "...         ...  ...       ...  ...           ...               ...       ...   \n",
       "1473391   0.742   10    -6.453  ...        0.3250          0.000141    0.1590   \n",
       "1473392   0.675    7    -7.588  ...        0.7880          0.000129    0.1300   \n",
       "1473393   0.440    5    -8.512  ...        0.4770          0.003130    0.0936   \n",
       "1473394   0.405    0   -13.343  ...        0.4310          0.000063    0.1250   \n",
       "1473395   0.861    1    -7.292  ...        0.2200          0.000008    0.0581   \n",
       "\n",
       "         valence    tempo  duration_ms  time_signature  age  duration_min  \\\n",
       "0         0.1390  133.406       240166               3   11             4   \n",
       "1         0.5150  140.182       216387               4   11             3   \n",
       "2         0.1450  139.832       158960               4   11             2   \n",
       "3         0.5080  204.961       304293               4   11             5   \n",
       "4         0.2170  171.864       244320               4   11             4   \n",
       "...          ...      ...          ...             ...  ...           ...   \n",
       "1473391   0.5220  107.951       344013               3   12             5   \n",
       "1473392   0.2640  119.897       285067               4   12             4   \n",
       "1473393   0.0351  100.076       214253               4   12             3   \n",
       "1473394   0.2020  133.885       239133               3   12             3   \n",
       "1473395   0.8570   89.987       212227               4   12             3   \n",
       "\n",
       "         mode_1  \n",
       "0             1  \n",
       "1             1  \n",
       "2             1  \n",
       "3             1  \n",
       "4             0  \n",
       "...         ...  \n",
       "1473391       0  \n",
       "1473392       0  \n",
       "1473393       1  \n",
       "1473394       1  \n",
       "1473395       0  \n",
       "\n",
       "[1159764 rows x 21 columns]"
      ]
     },
     "execution_count": 62,
     "metadata": {},
     "output_type": "execute_result"
    }
   ],
   "source": [
    "ds_new = pd.get_dummies(ds, columns = ['mode'], drop_first = True)\n",
    "ds_new"
   ]
  },
  {
   "cell_type": "code",
   "execution_count": 63,
   "id": "c041dd3d",
   "metadata": {},
   "outputs": [],
   "source": [
    "columns = ['age', 'liveness', 'acousticness' , 'valence']"
   ]
  },
  {
   "cell_type": "code",
   "execution_count": 64,
   "id": "2f5e8022",
   "metadata": {},
   "outputs": [],
   "source": [
    "ds_n = MinMaxScaler().fit_transform(ds_new[columns])\n",
    "ds_n = pd.DataFrame(ds_n, columns=columns)"
   ]
  },
  {
   "cell_type": "code",
   "execution_count": 65,
   "id": "b7d7e2aa",
   "metadata": {},
   "outputs": [
    {
     "data": {
      "text/plain": [
       "<matplotlib.legend.Legend at 0x278135c4310>"
      ]
     },
     "execution_count": 65,
     "metadata": {},
     "output_type": "execute_result"
    },
    {
     "data": {
      "image/png": "[encoded data removed]",
      "text/plain": [
       "<Figure size 1000x800 with 1 Axes>"
      ]
     },
     "metadata": {},
     "output_type": "display_data"
    }
   ],
   "source": [
    "fig, (ax1) = plt.subplots(ncols=1, figsize=(10, 8))\n",
    "ax1.set_title('After Scaler')\n",
    "\n",
    "for col in columns: \n",
    "    sns.kdeplot(ds_n[col], ax=ax1, label=col )\n",
    "    \n",
    "ax1.legend()"
   ]
  },
  {
   "cell_type": "code",
   "execution_count": 66,
   "id": "8293a33b",
   "metadata": {},
   "outputs": [],
   "source": [
    "ds_n['popularity'] = ds_new.reset_index()['popularity']\n",
    "ds_n['mode'] = ds_new.reset_index()['mode_1']"
   ]
  },
  {
   "cell_type": "code",
   "execution_count": 67,
   "id": "04bd5257",
   "metadata": {},
   "outputs": [],
   "source": [
    "new_X_train, new_X_test, new_y_train, new_y_test = train_test_split(\n",
    "    ds_n.drop('popularity', axis=1), \n",
    "    ds_n['popularity'], \n",
    "    test_size=0.2, \n",
    "    random_state=21)"
   ]
  },
  {
   "cell_type": "code",
   "execution_count": 87,
   "id": "bd89e39f",
   "metadata": {},
   "outputs": [
    {
     "name": "stderr",
     "output_type": "stream",
     "text": [
      "D:\\anaconda\\Lib\\site-packages\\sklearn\\linear_model\\_logistic.py:1182: FutureWarning: `penalty='none'`has been deprecated in 1.2 and will be removed in 1.4. To keep the past behaviour, set `penalty=None`.\n",
      "  warnings.warn(\n"
     ]
    },
    {
     "data": {
      "text/plain": [
       "array([[-2.85684895, -1.05427623, -0.42476485,  0.73077756, -0.05078121]])"
      ]
     },
     "execution_count": 87,
     "metadata": {},
     "output_type": "execute_result"
    }
   ],
   "source": [
    "new_log_reg_1 = LogisticRegression(penalty='none', class_weight = 'balanced')                        #, class_weight = 'balanced'\n",
    "new_log_reg_1.fit(new_X_train, new_y_train)\n",
    "new_y_approx_1 = new_log_reg_1.predict(new_X_train)\n",
    "new_y_pred_1 = new_log_reg_1.predict(new_X_test)\n",
    "new_log_reg_1.coef_"
   ]
  },
  {
   "cell_type": "markdown",
   "id": "3b12d817",
   "metadata": {},
   "source": [
    "Добавление признаков не сильно улучшило модель, поэтому оставим параметр, дающий классам веса"
   ]
  },
  {
   "cell_type": "code",
   "execution_count": 81,
   "id": "ac0f5511",
   "metadata": {},
   "outputs": [],
   "source": [
    "target_names = new_y_train.unique()"
   ]
  },
  {
   "cell_type": "code",
   "execution_count": 82,
   "id": "0c0201ed",
   "metadata": {},
   "outputs": [
    {
     "data": {
      "text/html": [
       "<div>\n",
       "<style scoped>\n",
       "    .dataframe tbody tr th:only-of-type {\n",
       "        vertical-align: middle;\n",
       "    }\n",
       "\n",
       "    .dataframe tbody tr th {\n",
       "        vertical-align: top;\n",
       "    }\n",
       "\n",
       "    .dataframe thead th {\n",
       "        text-align: right;\n",
       "    }\n",
       "</style>\n",
       "<table border=\"1\" class=\"dataframe\">\n",
       "  <thead>\n",
       "    <tr style=\"text-align: right;\">\n",
       "      <th></th>\n",
       "      <th>0</th>\n",
       "      <th>1</th>\n",
       "    </tr>\n",
       "  </thead>\n",
       "  <tbody>\n",
       "    <tr>\n",
       "      <th>0</th>\n",
       "      <td>138382</td>\n",
       "      <td>83062</td>\n",
       "    </tr>\n",
       "    <tr>\n",
       "      <th>1</th>\n",
       "      <td>2744</td>\n",
       "      <td>7765</td>\n",
       "    </tr>\n",
       "  </tbody>\n",
       "</table>\n",
       "</div>"
      ],
      "text/plain": [
       "        0      1\n",
       "0  138382  83062\n",
       "1    2744   7765"
      ]
     },
     "execution_count": 82,
     "metadata": {},
     "output_type": "execute_result"
    }
   ],
   "source": [
    "cm = confusion_matrix(new_y_test, new_y_pred_1, labels=new_log_reg_1.classes_)\n",
    "pd.DataFrame(cm, index=new_log_reg_1.classes_, columns=new_log_reg_1.classes_)"
   ]
  },
  {
   "cell_type": "code",
   "execution_count": 84,
   "id": "bf29aa11",
   "metadata": {},
   "outputs": [
    {
     "data": {
      "image/png": "[encoded data removed]",
      "text/plain": [
       "<Figure size 640x480 with 2 Axes>"
      ]
     },
     "metadata": {},
     "output_type": "display_data"
    }
   ],
   "source": [
    "conf_matrix(new_y_test, new_y_pred_1)"
   ]
  },
  {
   "cell_type": "code",
   "execution_count": 85,
   "id": "1de1b096",
   "metadata": {},
   "outputs": [
    {
     "name": "stdout",
     "output_type": "stream",
     "text": [
      "              precision    recall  f1-score   support\n",
      "\n",
      "           0       0.96      0.93      0.95    221444\n",
      "           1       0.13      0.21      0.16     10509\n",
      "\n",
      "    accuracy                           0.90    231953\n",
      "   macro avg       0.55      0.57      0.55    231953\n",
      "weighted avg       0.92      0.90      0.91    231953\n",
      "\n"
     ]
    }
   ],
   "source": [
    "print(classification_report(new_y_test, new_y_pred_3, labels=target_names))"
   ]
  },
  {
   "cell_type": "markdown",
   "id": "948e42de",
   "metadata": {},
   "source": [
    "### Ridge "
   ]
  },
  {
   "cell_type": "code",
   "execution_count": 86,
   "id": "fc674943",
   "metadata": {},
   "outputs": [
    {
     "data": {
      "text/plain": [
       "array([[-2.85663639, -1.0540935 , -0.42473805,  0.73068983, -0.05078576]])"
      ]
     },
     "execution_count": 86,
     "metadata": {},
     "output_type": "execute_result"
    }
   ],
   "source": [
    "log_reg_l2 = LogisticRegression(penalty='l2', class_weight = 'balanced')\n",
    "\n",
    "log_reg_l2.fit(new_X_train, new_y_train)\n",
    "\n",
    "y_approx_l2 = log_reg_l2.predict(new_X_train)\n",
    "y_pred_l2 = log_reg_l2.predict(new_X_test)\n",
    "\n",
    "log_reg_l2.coef_"
   ]
  },
  {
   "cell_type": "code",
   "execution_count": 88,
   "id": "debdb90b",
   "metadata": {},
   "outputs": [
    {
     "data": {
      "text/html": [
       "<div>\n",
       "<style scoped>\n",
       "    .dataframe tbody tr th:only-of-type {\n",
       "        vertical-align: middle;\n",
       "    }\n",
       "\n",
       "    .dataframe tbody tr th {\n",
       "        vertical-align: top;\n",
       "    }\n",
       "\n",
       "    .dataframe thead th {\n",
       "        text-align: right;\n",
       "    }\n",
       "</style>\n",
       "<table border=\"1\" class=\"dataframe\">\n",
       "  <thead>\n",
       "    <tr style=\"text-align: right;\">\n",
       "      <th></th>\n",
       "      <th>0</th>\n",
       "      <th>1</th>\n",
       "    </tr>\n",
       "  </thead>\n",
       "  <tbody>\n",
       "    <tr>\n",
       "      <th>0</th>\n",
       "      <td>138383</td>\n",
       "      <td>83061</td>\n",
       "    </tr>\n",
       "    <tr>\n",
       "      <th>1</th>\n",
       "      <td>2744</td>\n",
       "      <td>7765</td>\n",
       "    </tr>\n",
       "  </tbody>\n",
       "</table>\n",
       "</div>"
      ],
      "text/plain": [
       "        0      1\n",
       "0  138383  83061\n",
       "1    2744   7765"
      ]
     },
     "execution_count": 88,
     "metadata": {},
     "output_type": "execute_result"
    }
   ],
   "source": [
    "cm = confusion_matrix(new_y_test, y_pred_l2, labels=log_reg_l2.classes_)\n",
    "pd.DataFrame(cm, index=log_reg_l2.classes_, columns=log_reg_l2.classes_)"
   ]
  },
  {
   "cell_type": "code",
   "execution_count": 90,
   "id": "08234f3e",
   "metadata": {},
   "outputs": [
    {
     "name": "stdout",
     "output_type": "stream",
     "text": [
      "              precision    recall  f1-score   support\n",
      "\n",
      "           0       0.98      0.62      0.76    221444\n",
      "           1       0.09      0.74      0.15     10509\n",
      "\n",
      "    accuracy                           0.63    231953\n",
      "   macro avg       0.53      0.68      0.46    231953\n",
      "weighted avg       0.94      0.63      0.74    231953\n",
      "\n"
     ]
    }
   ],
   "source": [
    "print(classification_report(new_y_test, y_pred_l2, labels=target_names))"
   ]
  },
  {
   "cell_type": "markdown",
   "id": "d248c727",
   "metadata": {},
   "source": [
    "Метрика precision для целевого признака 1 снизилась, L2 регуляризация не увенчалась успехом"
   ]
  },
  {
   "cell_type": "markdown",
   "id": "03ac3cfe",
   "metadata": {},
   "source": [
    "### Lasso"
   ]
  },
  {
   "cell_type": "code",
   "execution_count": 102,
   "id": "d66ecbd6",
   "metadata": {},
   "outputs": [
    {
     "data": {
      "text/plain": [
       "array([[-2.85673422, -1.05405606, -0.42469952,  0.73072592, -0.05075391]])"
      ]
     },
     "execution_count": 102,
     "metadata": {},
     "output_type": "execute_result"
    }
   ],
   "source": [
    "log_reg_l1 = LogisticRegression(penalty='l1', class_weight = 'balanced', solver='liblinear')\n",
    "\n",
    "log_reg_l1.fit(new_X_train, new_y_train)\n",
    "\n",
    "y_approx_l1 = log_reg_l1.predict(new_X_train)\n",
    "y_pred_l1 = log_reg_l1.predict(new_X_test)\n",
    "\n",
    "log_reg_l1.coef_"
   ]
  },
  {
   "cell_type": "code",
   "execution_count": 101,
   "id": "eacb0f79",
   "metadata": {},
   "outputs": [
    {
     "data": {
      "text/html": [
       "<div>\n",
       "<style scoped>\n",
       "    .dataframe tbody tr th:only-of-type {\n",
       "        vertical-align: middle;\n",
       "    }\n",
       "\n",
       "    .dataframe tbody tr th {\n",
       "        vertical-align: top;\n",
       "    }\n",
       "\n",
       "    .dataframe thead th {\n",
       "        text-align: right;\n",
       "    }\n",
       "</style>\n",
       "<table border=\"1\" class=\"dataframe\">\n",
       "  <thead>\n",
       "    <tr style=\"text-align: right;\">\n",
       "      <th></th>\n",
       "      <th>0</th>\n",
       "      <th>1</th>\n",
       "    </tr>\n",
       "  </thead>\n",
       "  <tbody>\n",
       "    <tr>\n",
       "      <th>0</th>\n",
       "      <td>138382</td>\n",
       "      <td>83062</td>\n",
       "    </tr>\n",
       "    <tr>\n",
       "      <th>1</th>\n",
       "      <td>2744</td>\n",
       "      <td>7765</td>\n",
       "    </tr>\n",
       "  </tbody>\n",
       "</table>\n",
       "</div>"
      ],
      "text/plain": [
       "        0      1\n",
       "0  138382  83062\n",
       "1    2744   7765"
      ]
     },
     "execution_count": 101,
     "metadata": {},
     "output_type": "execute_result"
    }
   ],
   "source": [
    "cm = confusion_matrix(new_y_test, y_pred_l1, labels=log_reg_l1.classes_)\n",
    "pd.DataFrame(cm, index=log_reg_l1.classes_, columns=log_reg_l1.classes_)"
   ]
  },
  {
   "cell_type": "code",
   "execution_count": 103,
   "id": "378a3456",
   "metadata": {},
   "outputs": [
    {
     "name": "stdout",
     "output_type": "stream",
     "text": [
      "              precision    recall  f1-score   support\n",
      "\n",
      "           0       0.98      0.62      0.76    221444\n",
      "           1       0.09      0.74      0.15     10509\n",
      "\n",
      "    accuracy                           0.63    231953\n",
      "   macro avg       0.53      0.68      0.46    231953\n",
      "weighted avg       0.94      0.63      0.74    231953\n",
      "\n"
     ]
    }
   ],
   "source": [
    "print(classification_report(new_y_test, y_pred_l1, labels=target_names))"
   ]
  },
  {
   "cell_type": "markdown",
   "id": "29dafc1e",
   "metadata": {},
   "source": [
    "Лассо-регуляризация дала те же результаты"
   ]
  },
  {
   "cell_type": "markdown",
   "id": "6e6f4fbc",
   "metadata": {},
   "source": [
    "### ElasticNet"
   ]
  },
  {
   "cell_type": "code",
   "execution_count": 104,
   "id": "a727a51a",
   "metadata": {},
   "outputs": [
    {
     "data": {
      "text/plain": [
       "array([[-2.85668522, -1.0540311 , -0.42475924,  0.73062778, -0.05086629]])"
      ]
     },
     "execution_count": 104,
     "metadata": {},
     "output_type": "execute_result"
    }
   ],
   "source": [
    "log_reg_el = LogisticRegression(penalty='elasticnet', class_weight = 'balanced', solver='saga', l1_ratio=0.5)\n",
    "\n",
    "log_reg_el.fit(new_X_train, new_y_train)\n",
    "\n",
    "y_approx_el = log_reg_el.predict(new_X_train)\n",
    "y_pred_el = log_reg_el.predict(new_X_test)\n",
    "\n",
    "log_reg_el.coef_"
   ]
  },
  {
   "cell_type": "code",
   "execution_count": 105,
   "id": "30d6d0ed",
   "metadata": {},
   "outputs": [
    {
     "data": {
      "text/html": [
       "<div>\n",
       "<style scoped>\n",
       "    .dataframe tbody tr th:only-of-type {\n",
       "        vertical-align: middle;\n",
       "    }\n",
       "\n",
       "    .dataframe tbody tr th {\n",
       "        vertical-align: top;\n",
       "    }\n",
       "\n",
       "    .dataframe thead th {\n",
       "        text-align: right;\n",
       "    }\n",
       "</style>\n",
       "<table border=\"1\" class=\"dataframe\">\n",
       "  <thead>\n",
       "    <tr style=\"text-align: right;\">\n",
       "      <th></th>\n",
       "      <th>0</th>\n",
       "      <th>1</th>\n",
       "    </tr>\n",
       "  </thead>\n",
       "  <tbody>\n",
       "    <tr>\n",
       "      <th>0</th>\n",
       "      <td>138399</td>\n",
       "      <td>83045</td>\n",
       "    </tr>\n",
       "    <tr>\n",
       "      <th>1</th>\n",
       "      <td>2744</td>\n",
       "      <td>7765</td>\n",
       "    </tr>\n",
       "  </tbody>\n",
       "</table>\n",
       "</div>"
      ],
      "text/plain": [
       "        0      1\n",
       "0  138399  83045\n",
       "1    2744   7765"
      ]
     },
     "execution_count": 105,
     "metadata": {},
     "output_type": "execute_result"
    }
   ],
   "source": [
    "cm = confusion_matrix(new_y_test, y_pred_el, labels=log_reg_el.classes_)\n",
    "pd.DataFrame(cm, index=log_reg_el.classes_, columns=log_reg_el.classes_)"
   ]
  },
  {
   "cell_type": "code",
   "execution_count": 106,
   "id": "2d56259b",
   "metadata": {},
   "outputs": [
    {
     "name": "stdout",
     "output_type": "stream",
     "text": [
      "              precision    recall  f1-score   support\n",
      "\n",
      "           0       0.98      0.62      0.76    221444\n",
      "           1       0.09      0.74      0.15     10509\n",
      "\n",
      "    accuracy                           0.63    231953\n",
      "   macro avg       0.53      0.68      0.46    231953\n",
      "weighted avg       0.94      0.63      0.74    231953\n",
      "\n"
     ]
    }
   ],
   "source": [
    "print(classification_report(new_y_test, y_pred_el, labels=target_names))"
   ]
  },
  {
   "cell_type": "markdown",
   "id": "6f3d3580",
   "metadata": {},
   "source": [
    "Метрики для класса 1 также никак не изменились. "
   ]
  },
  {
   "cell_type": "markdown",
   "id": "e4c49ca4",
   "metadata": {},
   "source": [
    "Общий вывод: регуляризация не влияет на модель, это может быть связано с тем, что модель не является переобученной, в ней просто мало факторов/ факторы неподходящие"
   ]
  },
  {
   "cell_type": "markdown",
   "id": "a19841c9",
   "metadata": {},
   "source": [
    "#### 3. Выбрать с помощью grid search модель (определить тип штрафа и величину штрафа), которая даст лучшее решение с точки зрения величины roc_auc.    \n",
    "**Подобрать оптимальный с вашей точки зрения порог классификации.**"
   ]
  },
  {
   "cell_type": "markdown",
   "id": "855ac3d9",
   "metadata": {},
   "source": [
    "Валидировать параметры сложно, тк для каждого типа штрафа есть свой солвер и доп. параметры, поэтому необходимо разбирать их по отдельности "
   ]
  },
  {
   "cell_type": "code",
   "execution_count": 135,
   "id": "83f7eb76",
   "metadata": {},
   "outputs": [],
   "source": [
    "from sklearn.model_selection import GridSearchCV"
   ]
  },
  {
   "cell_type": "code",
   "execution_count": 139,
   "id": "8239eb19",
   "metadata": {},
   "outputs": [],
   "source": [
    "grid_space={'penalty':['l1', 'l2'],\n",
    "              'C': [0.00001, 0.001, 0.01, 1, 100, 10000]}"
   ]
  },
  {
   "cell_type": "code",
   "execution_count": 140,
   "id": "c8fe1e9b",
   "metadata": {},
   "outputs": [
    {
     "name": "stderr",
     "output_type": "stream",
     "text": [
      "D:\\anaconda\\Lib\\site-packages\\sklearn\\model_selection\\_validation.py:425: FitFailedWarning: \n",
      "18 fits failed out of a total of 36.\n",
      "The score on these train-test partitions for these parameters will be set to nan.\n",
      "If these failures are not expected, you can try to debug them by setting error_score='raise'.\n",
      "\n",
      "Below are more details about the failures:\n",
      "--------------------------------------------------------------------------------\n",
      "18 fits failed with the following error:\n",
      "Traceback (most recent call last):\n",
      "  File \"D:\\anaconda\\Lib\\site-packages\\sklearn\\model_selection\\_validation.py\", line 732, in _fit_and_score\n",
      "    estimator.fit(X_train, y_train, **fit_params)\n",
      "  File \"D:\\anaconda\\Lib\\site-packages\\sklearn\\base.py\", line 1151, in wrapper\n",
      "    return fit_method(estimator, *args, **kwargs)\n",
      "           ^^^^^^^^^^^^^^^^^^^^^^^^^^^^^^^^^^^^^^\n",
      "  File \"D:\\anaconda\\Lib\\site-packages\\sklearn\\linear_model\\_logistic.py\", line 1168, in fit\n",
      "    solver = _check_solver(self.solver, self.penalty, self.dual)\n",
      "             ^^^^^^^^^^^^^^^^^^^^^^^^^^^^^^^^^^^^^^^^^^^^^^^^^^^\n",
      "  File \"D:\\anaconda\\Lib\\site-packages\\sklearn\\linear_model\\_logistic.py\", line 56, in _check_solver\n",
      "    raise ValueError(\n",
      "ValueError: Solver lbfgs supports only 'l2' or 'none' penalties, got l1 penalty.\n",
      "\n",
      "  warnings.warn(some_fits_failed_message, FitFailedWarning)\n",
      "D:\\anaconda\\Lib\\site-packages\\sklearn\\model_selection\\_search.py:976: UserWarning: One or more of the test scores are non-finite: [       nan 0.7238408         nan 0.72917872        nan 0.72916949\n",
      "        nan 0.72915781        nan 0.72915764        nan 0.72915764]\n",
      "  warnings.warn(\n"
     ]
    }
   ],
   "source": [
    "grid = GridSearchCV(LogisticRegression(class_weight = 'balanced'),param_grid=grid_space,cv=3,scoring='roc_auc')\n",
    "model_grid = grid.fit(new_X_train, new_y_train)"
   ]
  },
  {
   "cell_type": "code",
   "execution_count": 142,
   "id": "b29985b0",
   "metadata": {},
   "outputs": [
    {
     "name": "stdout",
     "output_type": "stream",
     "text": [
      "Best hyperparameters are: {'C': 0.001, 'penalty': 'l2'}\n",
      "Best roc_auc is: 0.7291787168575151\n"
     ]
    }
   ],
   "source": [
    "print('Best hyperparameters are: '+str(model_grid.best_params_))\n",
    "print('Best roc_auc is: '+str(model_grid.best_score_))"
   ]
  },
  {
   "cell_type": "markdown",
   "id": "fd3ceb6a",
   "metadata": {},
   "source": [
    "GridSearch для ElasticNet (код запускается сверхдолго)"
   ]
  },
  {
   "cell_type": "code",
   "execution_count": 131,
   "id": "ce2ad860",
   "metadata": {},
   "outputs": [],
   "source": [
    "grid_space={'C': [0.0001, 0.01, 1, 100, 10000],\n",
    "           'l1_ratio': np.linspace(0.0001,0.9999,5)}"
   ]
  },
  {
   "cell_type": "code",
   "execution_count": 132,
   "id": "451a8326",
   "metadata": {},
   "outputs": [
    {
     "name": "stderr",
     "output_type": "stream",
     "text": [
      "D:\\anaconda\\Lib\\site-packages\\sklearn\\linear_model\\_sag.py:350: ConvergenceWarning: The max_iter was reached which means the coef_ did not converge\n",
      "  warnings.warn(\n",
      "D:\\anaconda\\Lib\\site-packages\\sklearn\\linear_model\\_sag.py:350: ConvergenceWarning: The max_iter was reached which means the coef_ did not converge\n",
      "  warnings.warn(\n",
      "D:\\anaconda\\Lib\\site-packages\\sklearn\\linear_model\\_sag.py:350: ConvergenceWarning: The max_iter was reached which means the coef_ did not converge\n",
      "  warnings.warn(\n",
      "D:\\anaconda\\Lib\\site-packages\\sklearn\\linear_model\\_sag.py:350: ConvergenceWarning: The max_iter was reached which means the coef_ did not converge\n",
      "  warnings.warn(\n",
      "D:\\anaconda\\Lib\\site-packages\\sklearn\\linear_model\\_sag.py:350: ConvergenceWarning: The max_iter was reached which means the coef_ did not converge\n",
      "  warnings.warn(\n",
      "D:\\anaconda\\Lib\\site-packages\\sklearn\\linear_model\\_sag.py:350: ConvergenceWarning: The max_iter was reached which means the coef_ did not converge\n",
      "  warnings.warn(\n",
      "D:\\anaconda\\Lib\\site-packages\\sklearn\\linear_model\\_sag.py:350: ConvergenceWarning: The max_iter was reached which means the coef_ did not converge\n",
      "  warnings.warn(\n",
      "D:\\anaconda\\Lib\\site-packages\\sklearn\\linear_model\\_sag.py:350: ConvergenceWarning: The max_iter was reached which means the coef_ did not converge\n",
      "  warnings.warn(\n",
      "D:\\anaconda\\Lib\\site-packages\\sklearn\\linear_model\\_sag.py:350: ConvergenceWarning: The max_iter was reached which means the coef_ did not converge\n",
      "  warnings.warn(\n",
      "D:\\anaconda\\Lib\\site-packages\\sklearn\\linear_model\\_sag.py:350: ConvergenceWarning: The max_iter was reached which means the coef_ did not converge\n",
      "  warnings.warn(\n",
      "D:\\anaconda\\Lib\\site-packages\\sklearn\\linear_model\\_sag.py:350: ConvergenceWarning: The max_iter was reached which means the coef_ did not converge\n",
      "  warnings.warn(\n",
      "D:\\anaconda\\Lib\\site-packages\\sklearn\\linear_model\\_sag.py:350: ConvergenceWarning: The max_iter was reached which means the coef_ did not converge\n",
      "  warnings.warn(\n",
      "D:\\anaconda\\Lib\\site-packages\\sklearn\\linear_model\\_sag.py:350: ConvergenceWarning: The max_iter was reached which means the coef_ did not converge\n",
      "  warnings.warn(\n",
      "D:\\anaconda\\Lib\\site-packages\\sklearn\\linear_model\\_sag.py:350: ConvergenceWarning: The max_iter was reached which means the coef_ did not converge\n",
      "  warnings.warn(\n",
      "D:\\anaconda\\Lib\\site-packages\\sklearn\\linear_model\\_sag.py:350: ConvergenceWarning: The max_iter was reached which means the coef_ did not converge\n",
      "  warnings.warn(\n",
      "D:\\anaconda\\Lib\\site-packages\\sklearn\\linear_model\\_sag.py:350: ConvergenceWarning: The max_iter was reached which means the coef_ did not converge\n",
      "  warnings.warn(\n",
      "D:\\anaconda\\Lib\\site-packages\\sklearn\\linear_model\\_sag.py:350: ConvergenceWarning: The max_iter was reached which means the coef_ did not converge\n",
      "  warnings.warn(\n",
      "D:\\anaconda\\Lib\\site-packages\\sklearn\\linear_model\\_sag.py:350: ConvergenceWarning: The max_iter was reached which means the coef_ did not converge\n",
      "  warnings.warn(\n",
      "D:\\anaconda\\Lib\\site-packages\\sklearn\\linear_model\\_sag.py:350: ConvergenceWarning: The max_iter was reached which means the coef_ did not converge\n",
      "  warnings.warn(\n",
      "D:\\anaconda\\Lib\\site-packages\\sklearn\\linear_model\\_sag.py:350: ConvergenceWarning: The max_iter was reached which means the coef_ did not converge\n",
      "  warnings.warn(\n",
      "D:\\anaconda\\Lib\\site-packages\\sklearn\\linear_model\\_sag.py:350: ConvergenceWarning: The max_iter was reached which means the coef_ did not converge\n",
      "  warnings.warn(\n",
      "D:\\anaconda\\Lib\\site-packages\\sklearn\\linear_model\\_sag.py:350: ConvergenceWarning: The max_iter was reached which means the coef_ did not converge\n",
      "  warnings.warn(\n",
      "D:\\anaconda\\Lib\\site-packages\\sklearn\\linear_model\\_sag.py:350: ConvergenceWarning: The max_iter was reached which means the coef_ did not converge\n",
      "  warnings.warn(\n",
      "D:\\anaconda\\Lib\\site-packages\\sklearn\\linear_model\\_sag.py:350: ConvergenceWarning: The max_iter was reached which means the coef_ did not converge\n",
      "  warnings.warn(\n",
      "D:\\anaconda\\Lib\\site-packages\\sklearn\\linear_model\\_sag.py:350: ConvergenceWarning: The max_iter was reached which means the coef_ did not converge\n",
      "  warnings.warn(\n",
      "D:\\anaconda\\Lib\\site-packages\\sklearn\\linear_model\\_sag.py:350: ConvergenceWarning: The max_iter was reached which means the coef_ did not converge\n",
      "  warnings.warn(\n",
      "D:\\anaconda\\Lib\\site-packages\\sklearn\\linear_model\\_sag.py:350: ConvergenceWarning: The max_iter was reached which means the coef_ did not converge\n",
      "  warnings.warn(\n",
      "D:\\anaconda\\Lib\\site-packages\\sklearn\\linear_model\\_sag.py:350: ConvergenceWarning: The max_iter was reached which means the coef_ did not converge\n",
      "  warnings.warn(\n"
     ]
    },
    {
     "ename": "KeyboardInterrupt",
     "evalue": "",
     "output_type": "error",
     "traceback": [
      "\u001b[1;31m---------------------------------------------------------------------------\u001b[0m",
      "\u001b[1;31mKeyboardInterrupt\u001b[0m                         Traceback (most recent call last)",
      "Cell \u001b[1;32mIn[132], line 2\u001b[0m\n\u001b[0;32m      1\u001b[0m grid \u001b[38;5;241m=\u001b[39m GridSearchCV(LogisticRegression(class_weight \u001b[38;5;241m=\u001b[39m \u001b[38;5;124m'\u001b[39m\u001b[38;5;124mbalanced\u001b[39m\u001b[38;5;124m'\u001b[39m, penalty \u001b[38;5;241m=\u001b[39m \u001b[38;5;124m'\u001b[39m\u001b[38;5;124melasticnet\u001b[39m\u001b[38;5;124m'\u001b[39m, solver \u001b[38;5;241m=\u001b[39m \u001b[38;5;124m'\u001b[39m\u001b[38;5;124msaga\u001b[39m\u001b[38;5;124m'\u001b[39m),param_grid\u001b[38;5;241m=\u001b[39mgrid_space,cv\u001b[38;5;241m=\u001b[39m\u001b[38;5;241m3\u001b[39m,scoring\u001b[38;5;241m=\u001b[39m\u001b[38;5;124m'\u001b[39m\u001b[38;5;124mroc_auc\u001b[39m\u001b[38;5;124m'\u001b[39m)\n\u001b[1;32m----> 2\u001b[0m model_grid \u001b[38;5;241m=\u001b[39m grid\u001b[38;5;241m.\u001b[39mfit(new_X_train, new_y_train)\n",
      "File \u001b[1;32mD:\\anaconda\\Lib\\site-packages\\sklearn\\base.py:1151\u001b[0m, in \u001b[0;36m_fit_context.<locals>.decorator.<locals>.wrapper\u001b[1;34m(estimator, *args, **kwargs)\u001b[0m\n\u001b[0;32m   1144\u001b[0m     estimator\u001b[38;5;241m.\u001b[39m_validate_params()\n\u001b[0;32m   1146\u001b[0m \u001b[38;5;28;01mwith\u001b[39;00m config_context(\n\u001b[0;32m   1147\u001b[0m     skip_parameter_validation\u001b[38;5;241m=\u001b[39m(\n\u001b[0;32m   1148\u001b[0m         prefer_skip_nested_validation \u001b[38;5;129;01mor\u001b[39;00m global_skip_validation\n\u001b[0;32m   1149\u001b[0m     )\n\u001b[0;32m   1150\u001b[0m ):\n\u001b[1;32m-> 1151\u001b[0m     \u001b[38;5;28;01mreturn\u001b[39;00m fit_method(estimator, \u001b[38;5;241m*\u001b[39margs, \u001b[38;5;241m*\u001b[39m\u001b[38;5;241m*\u001b[39mkwargs)\n",
      "File \u001b[1;32mD:\\anaconda\\Lib\\site-packages\\sklearn\\model_selection\\_search.py:898\u001b[0m, in \u001b[0;36mBaseSearchCV.fit\u001b[1;34m(self, X, y, groups, **fit_params)\u001b[0m\n\u001b[0;32m    892\u001b[0m     results \u001b[38;5;241m=\u001b[39m \u001b[38;5;28mself\u001b[39m\u001b[38;5;241m.\u001b[39m_format_results(\n\u001b[0;32m    893\u001b[0m         all_candidate_params, n_splits, all_out, all_more_results\n\u001b[0;32m    894\u001b[0m     )\n\u001b[0;32m    896\u001b[0m     \u001b[38;5;28;01mreturn\u001b[39;00m results\n\u001b[1;32m--> 898\u001b[0m \u001b[38;5;28mself\u001b[39m\u001b[38;5;241m.\u001b[39m_run_search(evaluate_candidates)\n\u001b[0;32m    900\u001b[0m \u001b[38;5;66;03m# multimetric is determined here because in the case of a callable\u001b[39;00m\n\u001b[0;32m    901\u001b[0m \u001b[38;5;66;03m# self.scoring the return type is only known after calling\u001b[39;00m\n\u001b[0;32m    902\u001b[0m first_test_score \u001b[38;5;241m=\u001b[39m all_out[\u001b[38;5;241m0\u001b[39m][\u001b[38;5;124m\"\u001b[39m\u001b[38;5;124mtest_scores\u001b[39m\u001b[38;5;124m\"\u001b[39m]\n",
      "File \u001b[1;32mD:\\anaconda\\Lib\\site-packages\\sklearn\\model_selection\\_search.py:1419\u001b[0m, in \u001b[0;36mGridSearchCV._run_search\u001b[1;34m(self, evaluate_candidates)\u001b[0m\n\u001b[0;32m   1417\u001b[0m \u001b[38;5;28;01mdef\u001b[39;00m \u001b[38;5;21m_run_search\u001b[39m(\u001b[38;5;28mself\u001b[39m, evaluate_candidates):\n\u001b[0;32m   1418\u001b[0m \u001b[38;5;250m    \u001b[39m\u001b[38;5;124;03m\"\"\"Search all candidates in param_grid\"\"\"\u001b[39;00m\n\u001b[1;32m-> 1419\u001b[0m     evaluate_candidates(ParameterGrid(\u001b[38;5;28mself\u001b[39m\u001b[38;5;241m.\u001b[39mparam_grid))\n",
      "File \u001b[1;32mD:\\anaconda\\Lib\\site-packages\\sklearn\\model_selection\\_search.py:845\u001b[0m, in \u001b[0;36mBaseSearchCV.fit.<locals>.evaluate_candidates\u001b[1;34m(candidate_params, cv, more_results)\u001b[0m\n\u001b[0;32m    837\u001b[0m \u001b[38;5;28;01mif\u001b[39;00m \u001b[38;5;28mself\u001b[39m\u001b[38;5;241m.\u001b[39mverbose \u001b[38;5;241m>\u001b[39m \u001b[38;5;241m0\u001b[39m:\n\u001b[0;32m    838\u001b[0m     \u001b[38;5;28mprint\u001b[39m(\n\u001b[0;32m    839\u001b[0m         \u001b[38;5;124m\"\u001b[39m\u001b[38;5;124mFitting \u001b[39m\u001b[38;5;132;01m{0}\u001b[39;00m\u001b[38;5;124m folds for each of \u001b[39m\u001b[38;5;132;01m{1}\u001b[39;00m\u001b[38;5;124m candidates,\u001b[39m\u001b[38;5;124m\"\u001b[39m\n\u001b[0;32m    840\u001b[0m         \u001b[38;5;124m\"\u001b[39m\u001b[38;5;124m totalling \u001b[39m\u001b[38;5;132;01m{2}\u001b[39;00m\u001b[38;5;124m fits\u001b[39m\u001b[38;5;124m\"\u001b[39m\u001b[38;5;241m.\u001b[39mformat(\n\u001b[0;32m    841\u001b[0m             n_splits, n_candidates, n_candidates \u001b[38;5;241m*\u001b[39m n_splits\n\u001b[0;32m    842\u001b[0m         )\n\u001b[0;32m    843\u001b[0m     )\n\u001b[1;32m--> 845\u001b[0m out \u001b[38;5;241m=\u001b[39m parallel(\n\u001b[0;32m    846\u001b[0m     delayed(_fit_and_score)(\n\u001b[0;32m    847\u001b[0m         clone(base_estimator),\n\u001b[0;32m    848\u001b[0m         X,\n\u001b[0;32m    849\u001b[0m         y,\n\u001b[0;32m    850\u001b[0m         train\u001b[38;5;241m=\u001b[39mtrain,\n\u001b[0;32m    851\u001b[0m         test\u001b[38;5;241m=\u001b[39mtest,\n\u001b[0;32m    852\u001b[0m         parameters\u001b[38;5;241m=\u001b[39mparameters,\n\u001b[0;32m    853\u001b[0m         split_progress\u001b[38;5;241m=\u001b[39m(split_idx, n_splits),\n\u001b[0;32m    854\u001b[0m         candidate_progress\u001b[38;5;241m=\u001b[39m(cand_idx, n_candidates),\n\u001b[0;32m    855\u001b[0m         \u001b[38;5;241m*\u001b[39m\u001b[38;5;241m*\u001b[39mfit_and_score_kwargs,\n\u001b[0;32m    856\u001b[0m     )\n\u001b[0;32m    857\u001b[0m     \u001b[38;5;28;01mfor\u001b[39;00m (cand_idx, parameters), (split_idx, (train, test)) \u001b[38;5;129;01min\u001b[39;00m product(\n\u001b[0;32m    858\u001b[0m         \u001b[38;5;28menumerate\u001b[39m(candidate_params), \u001b[38;5;28menumerate\u001b[39m(cv\u001b[38;5;241m.\u001b[39msplit(X, y, groups))\n\u001b[0;32m    859\u001b[0m     )\n\u001b[0;32m    860\u001b[0m )\n\u001b[0;32m    862\u001b[0m \u001b[38;5;28;01mif\u001b[39;00m \u001b[38;5;28mlen\u001b[39m(out) \u001b[38;5;241m<\u001b[39m \u001b[38;5;241m1\u001b[39m:\n\u001b[0;32m    863\u001b[0m     \u001b[38;5;28;01mraise\u001b[39;00m \u001b[38;5;167;01mValueError\u001b[39;00m(\n\u001b[0;32m    864\u001b[0m         \u001b[38;5;124m\"\u001b[39m\u001b[38;5;124mNo fits were performed. \u001b[39m\u001b[38;5;124m\"\u001b[39m\n\u001b[0;32m    865\u001b[0m         \u001b[38;5;124m\"\u001b[39m\u001b[38;5;124mWas the CV iterator empty? \u001b[39m\u001b[38;5;124m\"\u001b[39m\n\u001b[0;32m    866\u001b[0m         \u001b[38;5;124m\"\u001b[39m\u001b[38;5;124mWere there no candidates?\u001b[39m\u001b[38;5;124m\"\u001b[39m\n\u001b[0;32m    867\u001b[0m     )\n",
      "File \u001b[1;32mD:\\anaconda\\Lib\\site-packages\\sklearn\\utils\\parallel.py:65\u001b[0m, in \u001b[0;36mParallel.__call__\u001b[1;34m(self, iterable)\u001b[0m\n\u001b[0;32m     60\u001b[0m config \u001b[38;5;241m=\u001b[39m get_config()\n\u001b[0;32m     61\u001b[0m iterable_with_config \u001b[38;5;241m=\u001b[39m (\n\u001b[0;32m     62\u001b[0m     (_with_config(delayed_func, config), args, kwargs)\n\u001b[0;32m     63\u001b[0m     \u001b[38;5;28;01mfor\u001b[39;00m delayed_func, args, kwargs \u001b[38;5;129;01min\u001b[39;00m iterable\n\u001b[0;32m     64\u001b[0m )\n\u001b[1;32m---> 65\u001b[0m \u001b[38;5;28;01mreturn\u001b[39;00m \u001b[38;5;28msuper\u001b[39m()\u001b[38;5;241m.\u001b[39m\u001b[38;5;21m__call__\u001b[39m(iterable_with_config)\n",
      "File \u001b[1;32mD:\\anaconda\\Lib\\site-packages\\joblib\\parallel.py:1088\u001b[0m, in \u001b[0;36mParallel.__call__\u001b[1;34m(self, iterable)\u001b[0m\n\u001b[0;32m   1085\u001b[0m \u001b[38;5;28;01mif\u001b[39;00m \u001b[38;5;28mself\u001b[39m\u001b[38;5;241m.\u001b[39mdispatch_one_batch(iterator):\n\u001b[0;32m   1086\u001b[0m     \u001b[38;5;28mself\u001b[39m\u001b[38;5;241m.\u001b[39m_iterating \u001b[38;5;241m=\u001b[39m \u001b[38;5;28mself\u001b[39m\u001b[38;5;241m.\u001b[39m_original_iterator \u001b[38;5;129;01mis\u001b[39;00m \u001b[38;5;129;01mnot\u001b[39;00m \u001b[38;5;28;01mNone\u001b[39;00m\n\u001b[1;32m-> 1088\u001b[0m \u001b[38;5;28;01mwhile\u001b[39;00m \u001b[38;5;28mself\u001b[39m\u001b[38;5;241m.\u001b[39mdispatch_one_batch(iterator):\n\u001b[0;32m   1089\u001b[0m     \u001b[38;5;28;01mpass\u001b[39;00m\n\u001b[0;32m   1091\u001b[0m \u001b[38;5;28;01mif\u001b[39;00m pre_dispatch \u001b[38;5;241m==\u001b[39m \u001b[38;5;124m\"\u001b[39m\u001b[38;5;124mall\u001b[39m\u001b[38;5;124m\"\u001b[39m \u001b[38;5;129;01mor\u001b[39;00m n_jobs \u001b[38;5;241m==\u001b[39m \u001b[38;5;241m1\u001b[39m:\n\u001b[0;32m   1092\u001b[0m     \u001b[38;5;66;03m# The iterable was consumed all at once by the above for loop.\u001b[39;00m\n\u001b[0;32m   1093\u001b[0m     \u001b[38;5;66;03m# No need to wait for async callbacks to trigger to\u001b[39;00m\n\u001b[0;32m   1094\u001b[0m     \u001b[38;5;66;03m# consumption.\u001b[39;00m\n",
      "File \u001b[1;32mD:\\anaconda\\Lib\\site-packages\\joblib\\parallel.py:901\u001b[0m, in \u001b[0;36mParallel.dispatch_one_batch\u001b[1;34m(self, iterator)\u001b[0m\n\u001b[0;32m    899\u001b[0m     \u001b[38;5;28;01mreturn\u001b[39;00m \u001b[38;5;28;01mFalse\u001b[39;00m\n\u001b[0;32m    900\u001b[0m \u001b[38;5;28;01melse\u001b[39;00m:\n\u001b[1;32m--> 901\u001b[0m     \u001b[38;5;28mself\u001b[39m\u001b[38;5;241m.\u001b[39m_dispatch(tasks)\n\u001b[0;32m    902\u001b[0m     \u001b[38;5;28;01mreturn\u001b[39;00m \u001b[38;5;28;01mTrue\u001b[39;00m\n",
      "File \u001b[1;32mD:\\anaconda\\Lib\\site-packages\\joblib\\parallel.py:819\u001b[0m, in \u001b[0;36mParallel._dispatch\u001b[1;34m(self, batch)\u001b[0m\n\u001b[0;32m    817\u001b[0m \u001b[38;5;28;01mwith\u001b[39;00m \u001b[38;5;28mself\u001b[39m\u001b[38;5;241m.\u001b[39m_lock:\n\u001b[0;32m    818\u001b[0m     job_idx \u001b[38;5;241m=\u001b[39m \u001b[38;5;28mlen\u001b[39m(\u001b[38;5;28mself\u001b[39m\u001b[38;5;241m.\u001b[39m_jobs)\n\u001b[1;32m--> 819\u001b[0m     job \u001b[38;5;241m=\u001b[39m \u001b[38;5;28mself\u001b[39m\u001b[38;5;241m.\u001b[39m_backend\u001b[38;5;241m.\u001b[39mapply_async(batch, callback\u001b[38;5;241m=\u001b[39mcb)\n\u001b[0;32m    820\u001b[0m     \u001b[38;5;66;03m# A job can complete so quickly than its callback is\u001b[39;00m\n\u001b[0;32m    821\u001b[0m     \u001b[38;5;66;03m# called before we get here, causing self._jobs to\u001b[39;00m\n\u001b[0;32m    822\u001b[0m     \u001b[38;5;66;03m# grow. To ensure correct results ordering, .insert is\u001b[39;00m\n\u001b[0;32m    823\u001b[0m     \u001b[38;5;66;03m# used (rather than .append) in the following line\u001b[39;00m\n\u001b[0;32m    824\u001b[0m     \u001b[38;5;28mself\u001b[39m\u001b[38;5;241m.\u001b[39m_jobs\u001b[38;5;241m.\u001b[39minsert(job_idx, job)\n",
      "File \u001b[1;32mD:\\anaconda\\Lib\\site-packages\\joblib\\_parallel_backends.py:208\u001b[0m, in \u001b[0;36mSequentialBackend.apply_async\u001b[1;34m(self, func, callback)\u001b[0m\n\u001b[0;32m    206\u001b[0m \u001b[38;5;28;01mdef\u001b[39;00m \u001b[38;5;21mapply_async\u001b[39m(\u001b[38;5;28mself\u001b[39m, func, callback\u001b[38;5;241m=\u001b[39m\u001b[38;5;28;01mNone\u001b[39;00m):\n\u001b[0;32m    207\u001b[0m \u001b[38;5;250m    \u001b[39m\u001b[38;5;124;03m\"\"\"Schedule a func to be run\"\"\"\u001b[39;00m\n\u001b[1;32m--> 208\u001b[0m     result \u001b[38;5;241m=\u001b[39m ImmediateResult(func)\n\u001b[0;32m    209\u001b[0m     \u001b[38;5;28;01mif\u001b[39;00m callback:\n\u001b[0;32m    210\u001b[0m         callback(result)\n",
      "File \u001b[1;32mD:\\anaconda\\Lib\\site-packages\\joblib\\_parallel_backends.py:597\u001b[0m, in \u001b[0;36mImmediateResult.__init__\u001b[1;34m(self, batch)\u001b[0m\n\u001b[0;32m    594\u001b[0m \u001b[38;5;28;01mdef\u001b[39;00m \u001b[38;5;21m__init__\u001b[39m(\u001b[38;5;28mself\u001b[39m, batch):\n\u001b[0;32m    595\u001b[0m     \u001b[38;5;66;03m# Don't delay the application, to avoid keeping the input\u001b[39;00m\n\u001b[0;32m    596\u001b[0m     \u001b[38;5;66;03m# arguments in memory\u001b[39;00m\n\u001b[1;32m--> 597\u001b[0m     \u001b[38;5;28mself\u001b[39m\u001b[38;5;241m.\u001b[39mresults \u001b[38;5;241m=\u001b[39m batch()\n",
      "File \u001b[1;32mD:\\anaconda\\Lib\\site-packages\\joblib\\parallel.py:288\u001b[0m, in \u001b[0;36mBatchedCalls.__call__\u001b[1;34m(self)\u001b[0m\n\u001b[0;32m    284\u001b[0m \u001b[38;5;28;01mdef\u001b[39;00m \u001b[38;5;21m__call__\u001b[39m(\u001b[38;5;28mself\u001b[39m):\n\u001b[0;32m    285\u001b[0m     \u001b[38;5;66;03m# Set the default nested backend to self._backend but do not set the\u001b[39;00m\n\u001b[0;32m    286\u001b[0m     \u001b[38;5;66;03m# change the default number of processes to -1\u001b[39;00m\n\u001b[0;32m    287\u001b[0m     \u001b[38;5;28;01mwith\u001b[39;00m parallel_backend(\u001b[38;5;28mself\u001b[39m\u001b[38;5;241m.\u001b[39m_backend, n_jobs\u001b[38;5;241m=\u001b[39m\u001b[38;5;28mself\u001b[39m\u001b[38;5;241m.\u001b[39m_n_jobs):\n\u001b[1;32m--> 288\u001b[0m         \u001b[38;5;28;01mreturn\u001b[39;00m [func(\u001b[38;5;241m*\u001b[39margs, \u001b[38;5;241m*\u001b[39m\u001b[38;5;241m*\u001b[39mkwargs)\n\u001b[0;32m    289\u001b[0m                 \u001b[38;5;28;01mfor\u001b[39;00m func, args, kwargs \u001b[38;5;129;01min\u001b[39;00m \u001b[38;5;28mself\u001b[39m\u001b[38;5;241m.\u001b[39mitems]\n",
      "File \u001b[1;32mD:\\anaconda\\Lib\\site-packages\\joblib\\parallel.py:288\u001b[0m, in \u001b[0;36m<listcomp>\u001b[1;34m(.0)\u001b[0m\n\u001b[0;32m    284\u001b[0m \u001b[38;5;28;01mdef\u001b[39;00m \u001b[38;5;21m__call__\u001b[39m(\u001b[38;5;28mself\u001b[39m):\n\u001b[0;32m    285\u001b[0m     \u001b[38;5;66;03m# Set the default nested backend to self._backend but do not set the\u001b[39;00m\n\u001b[0;32m    286\u001b[0m     \u001b[38;5;66;03m# change the default number of processes to -1\u001b[39;00m\n\u001b[0;32m    287\u001b[0m     \u001b[38;5;28;01mwith\u001b[39;00m parallel_backend(\u001b[38;5;28mself\u001b[39m\u001b[38;5;241m.\u001b[39m_backend, n_jobs\u001b[38;5;241m=\u001b[39m\u001b[38;5;28mself\u001b[39m\u001b[38;5;241m.\u001b[39m_n_jobs):\n\u001b[1;32m--> 288\u001b[0m         \u001b[38;5;28;01mreturn\u001b[39;00m [func(\u001b[38;5;241m*\u001b[39margs, \u001b[38;5;241m*\u001b[39m\u001b[38;5;241m*\u001b[39mkwargs)\n\u001b[0;32m    289\u001b[0m                 \u001b[38;5;28;01mfor\u001b[39;00m func, args, kwargs \u001b[38;5;129;01min\u001b[39;00m \u001b[38;5;28mself\u001b[39m\u001b[38;5;241m.\u001b[39mitems]\n",
      "File \u001b[1;32mD:\\anaconda\\Lib\\site-packages\\sklearn\\utils\\parallel.py:127\u001b[0m, in \u001b[0;36m_FuncWrapper.__call__\u001b[1;34m(self, *args, **kwargs)\u001b[0m\n\u001b[0;32m    125\u001b[0m     config \u001b[38;5;241m=\u001b[39m {}\n\u001b[0;32m    126\u001b[0m \u001b[38;5;28;01mwith\u001b[39;00m config_context(\u001b[38;5;241m*\u001b[39m\u001b[38;5;241m*\u001b[39mconfig):\n\u001b[1;32m--> 127\u001b[0m     \u001b[38;5;28;01mreturn\u001b[39;00m \u001b[38;5;28mself\u001b[39m\u001b[38;5;241m.\u001b[39mfunction(\u001b[38;5;241m*\u001b[39margs, \u001b[38;5;241m*\u001b[39m\u001b[38;5;241m*\u001b[39mkwargs)\n",
      "File \u001b[1;32mD:\\anaconda\\Lib\\site-packages\\sklearn\\model_selection\\_validation.py:732\u001b[0m, in \u001b[0;36m_fit_and_score\u001b[1;34m(estimator, X, y, scorer, train, test, verbose, parameters, fit_params, return_train_score, return_parameters, return_n_test_samples, return_times, return_estimator, split_progress, candidate_progress, error_score)\u001b[0m\n\u001b[0;32m    730\u001b[0m         estimator\u001b[38;5;241m.\u001b[39mfit(X_train, \u001b[38;5;241m*\u001b[39m\u001b[38;5;241m*\u001b[39mfit_params)\n\u001b[0;32m    731\u001b[0m     \u001b[38;5;28;01melse\u001b[39;00m:\n\u001b[1;32m--> 732\u001b[0m         estimator\u001b[38;5;241m.\u001b[39mfit(X_train, y_train, \u001b[38;5;241m*\u001b[39m\u001b[38;5;241m*\u001b[39mfit_params)\n\u001b[0;32m    734\u001b[0m \u001b[38;5;28;01mexcept\u001b[39;00m \u001b[38;5;167;01mException\u001b[39;00m:\n\u001b[0;32m    735\u001b[0m     \u001b[38;5;66;03m# Note fit time as time until error\u001b[39;00m\n\u001b[0;32m    736\u001b[0m     fit_time \u001b[38;5;241m=\u001b[39m time\u001b[38;5;241m.\u001b[39mtime() \u001b[38;5;241m-\u001b[39m start_time\n",
      "File \u001b[1;32mD:\\anaconda\\Lib\\site-packages\\sklearn\\base.py:1151\u001b[0m, in \u001b[0;36m_fit_context.<locals>.decorator.<locals>.wrapper\u001b[1;34m(estimator, *args, **kwargs)\u001b[0m\n\u001b[0;32m   1144\u001b[0m     estimator\u001b[38;5;241m.\u001b[39m_validate_params()\n\u001b[0;32m   1146\u001b[0m \u001b[38;5;28;01mwith\u001b[39;00m config_context(\n\u001b[0;32m   1147\u001b[0m     skip_parameter_validation\u001b[38;5;241m=\u001b[39m(\n\u001b[0;32m   1148\u001b[0m         prefer_skip_nested_validation \u001b[38;5;129;01mor\u001b[39;00m global_skip_validation\n\u001b[0;32m   1149\u001b[0m     )\n\u001b[0;32m   1150\u001b[0m ):\n\u001b[1;32m-> 1151\u001b[0m     \u001b[38;5;28;01mreturn\u001b[39;00m fit_method(estimator, \u001b[38;5;241m*\u001b[39margs, \u001b[38;5;241m*\u001b[39m\u001b[38;5;241m*\u001b[39mkwargs)\n",
      "File \u001b[1;32mD:\\anaconda\\Lib\\site-packages\\sklearn\\linear_model\\_logistic.py:1302\u001b[0m, in \u001b[0;36mLogisticRegression.fit\u001b[1;34m(self, X, y, sample_weight)\u001b[0m\n\u001b[0;32m   1299\u001b[0m \u001b[38;5;28;01melse\u001b[39;00m:\n\u001b[0;32m   1300\u001b[0m     n_threads \u001b[38;5;241m=\u001b[39m \u001b[38;5;241m1\u001b[39m\n\u001b[1;32m-> 1302\u001b[0m fold_coefs_ \u001b[38;5;241m=\u001b[39m Parallel(n_jobs\u001b[38;5;241m=\u001b[39m\u001b[38;5;28mself\u001b[39m\u001b[38;5;241m.\u001b[39mn_jobs, verbose\u001b[38;5;241m=\u001b[39m\u001b[38;5;28mself\u001b[39m\u001b[38;5;241m.\u001b[39mverbose, prefer\u001b[38;5;241m=\u001b[39mprefer)(\n\u001b[0;32m   1303\u001b[0m     path_func(\n\u001b[0;32m   1304\u001b[0m         X,\n\u001b[0;32m   1305\u001b[0m         y,\n\u001b[0;32m   1306\u001b[0m         pos_class\u001b[38;5;241m=\u001b[39mclass_,\n\u001b[0;32m   1307\u001b[0m         Cs\u001b[38;5;241m=\u001b[39m[C_],\n\u001b[0;32m   1308\u001b[0m         l1_ratio\u001b[38;5;241m=\u001b[39m\u001b[38;5;28mself\u001b[39m\u001b[38;5;241m.\u001b[39ml1_ratio,\n\u001b[0;32m   1309\u001b[0m         fit_intercept\u001b[38;5;241m=\u001b[39m\u001b[38;5;28mself\u001b[39m\u001b[38;5;241m.\u001b[39mfit_intercept,\n\u001b[0;32m   1310\u001b[0m         tol\u001b[38;5;241m=\u001b[39m\u001b[38;5;28mself\u001b[39m\u001b[38;5;241m.\u001b[39mtol,\n\u001b[0;32m   1311\u001b[0m         verbose\u001b[38;5;241m=\u001b[39m\u001b[38;5;28mself\u001b[39m\u001b[38;5;241m.\u001b[39mverbose,\n\u001b[0;32m   1312\u001b[0m         solver\u001b[38;5;241m=\u001b[39msolver,\n\u001b[0;32m   1313\u001b[0m         multi_class\u001b[38;5;241m=\u001b[39mmulti_class,\n\u001b[0;32m   1314\u001b[0m         max_iter\u001b[38;5;241m=\u001b[39m\u001b[38;5;28mself\u001b[39m\u001b[38;5;241m.\u001b[39mmax_iter,\n\u001b[0;32m   1315\u001b[0m         class_weight\u001b[38;5;241m=\u001b[39m\u001b[38;5;28mself\u001b[39m\u001b[38;5;241m.\u001b[39mclass_weight,\n\u001b[0;32m   1316\u001b[0m         check_input\u001b[38;5;241m=\u001b[39m\u001b[38;5;28;01mFalse\u001b[39;00m,\n\u001b[0;32m   1317\u001b[0m         random_state\u001b[38;5;241m=\u001b[39m\u001b[38;5;28mself\u001b[39m\u001b[38;5;241m.\u001b[39mrandom_state,\n\u001b[0;32m   1318\u001b[0m         coef\u001b[38;5;241m=\u001b[39mwarm_start_coef_,\n\u001b[0;32m   1319\u001b[0m         penalty\u001b[38;5;241m=\u001b[39mpenalty,\n\u001b[0;32m   1320\u001b[0m         max_squared_sum\u001b[38;5;241m=\u001b[39mmax_squared_sum,\n\u001b[0;32m   1321\u001b[0m         sample_weight\u001b[38;5;241m=\u001b[39msample_weight,\n\u001b[0;32m   1322\u001b[0m         n_threads\u001b[38;5;241m=\u001b[39mn_threads,\n\u001b[0;32m   1323\u001b[0m     )\n\u001b[0;32m   1324\u001b[0m     \u001b[38;5;28;01mfor\u001b[39;00m class_, warm_start_coef_ \u001b[38;5;129;01min\u001b[39;00m \u001b[38;5;28mzip\u001b[39m(classes_, warm_start_coef)\n\u001b[0;32m   1325\u001b[0m )\n\u001b[0;32m   1327\u001b[0m fold_coefs_, _, n_iter_ \u001b[38;5;241m=\u001b[39m \u001b[38;5;28mzip\u001b[39m(\u001b[38;5;241m*\u001b[39mfold_coefs_)\n\u001b[0;32m   1328\u001b[0m \u001b[38;5;28mself\u001b[39m\u001b[38;5;241m.\u001b[39mn_iter_ \u001b[38;5;241m=\u001b[39m np\u001b[38;5;241m.\u001b[39masarray(n_iter_, dtype\u001b[38;5;241m=\u001b[39mnp\u001b[38;5;241m.\u001b[39mint32)[:, \u001b[38;5;241m0\u001b[39m]\n",
      "File \u001b[1;32mD:\\anaconda\\Lib\\site-packages\\sklearn\\utils\\parallel.py:65\u001b[0m, in \u001b[0;36mParallel.__call__\u001b[1;34m(self, iterable)\u001b[0m\n\u001b[0;32m     60\u001b[0m config \u001b[38;5;241m=\u001b[39m get_config()\n\u001b[0;32m     61\u001b[0m iterable_with_config \u001b[38;5;241m=\u001b[39m (\n\u001b[0;32m     62\u001b[0m     (_with_config(delayed_func, config), args, kwargs)\n\u001b[0;32m     63\u001b[0m     \u001b[38;5;28;01mfor\u001b[39;00m delayed_func, args, kwargs \u001b[38;5;129;01min\u001b[39;00m iterable\n\u001b[0;32m     64\u001b[0m )\n\u001b[1;32m---> 65\u001b[0m \u001b[38;5;28;01mreturn\u001b[39;00m \u001b[38;5;28msuper\u001b[39m()\u001b[38;5;241m.\u001b[39m\u001b[38;5;21m__call__\u001b[39m(iterable_with_config)\n",
      "File \u001b[1;32mD:\\anaconda\\Lib\\site-packages\\joblib\\parallel.py:1085\u001b[0m, in \u001b[0;36mParallel.__call__\u001b[1;34m(self, iterable)\u001b[0m\n\u001b[0;32m   1076\u001b[0m \u001b[38;5;28;01mtry\u001b[39;00m:\n\u001b[0;32m   1077\u001b[0m     \u001b[38;5;66;03m# Only set self._iterating to True if at least a batch\u001b[39;00m\n\u001b[0;32m   1078\u001b[0m     \u001b[38;5;66;03m# was dispatched. In particular this covers the edge\u001b[39;00m\n\u001b[1;32m   (...)\u001b[0m\n\u001b[0;32m   1082\u001b[0m     \u001b[38;5;66;03m# was very quick and its callback already dispatched all the\u001b[39;00m\n\u001b[0;32m   1083\u001b[0m     \u001b[38;5;66;03m# remaining jobs.\u001b[39;00m\n\u001b[0;32m   1084\u001b[0m     \u001b[38;5;28mself\u001b[39m\u001b[38;5;241m.\u001b[39m_iterating \u001b[38;5;241m=\u001b[39m \u001b[38;5;28;01mFalse\u001b[39;00m\n\u001b[1;32m-> 1085\u001b[0m     \u001b[38;5;28;01mif\u001b[39;00m \u001b[38;5;28mself\u001b[39m\u001b[38;5;241m.\u001b[39mdispatch_one_batch(iterator):\n\u001b[0;32m   1086\u001b[0m         \u001b[38;5;28mself\u001b[39m\u001b[38;5;241m.\u001b[39m_iterating \u001b[38;5;241m=\u001b[39m \u001b[38;5;28mself\u001b[39m\u001b[38;5;241m.\u001b[39m_original_iterator \u001b[38;5;129;01mis\u001b[39;00m \u001b[38;5;129;01mnot\u001b[39;00m \u001b[38;5;28;01mNone\u001b[39;00m\n\u001b[0;32m   1088\u001b[0m     \u001b[38;5;28;01mwhile\u001b[39;00m \u001b[38;5;28mself\u001b[39m\u001b[38;5;241m.\u001b[39mdispatch_one_batch(iterator):\n",
      "File \u001b[1;32mD:\\anaconda\\Lib\\site-packages\\joblib\\parallel.py:901\u001b[0m, in \u001b[0;36mParallel.dispatch_one_batch\u001b[1;34m(self, iterator)\u001b[0m\n\u001b[0;32m    899\u001b[0m     \u001b[38;5;28;01mreturn\u001b[39;00m \u001b[38;5;28;01mFalse\u001b[39;00m\n\u001b[0;32m    900\u001b[0m \u001b[38;5;28;01melse\u001b[39;00m:\n\u001b[1;32m--> 901\u001b[0m     \u001b[38;5;28mself\u001b[39m\u001b[38;5;241m.\u001b[39m_dispatch(tasks)\n\u001b[0;32m    902\u001b[0m     \u001b[38;5;28;01mreturn\u001b[39;00m \u001b[38;5;28;01mTrue\u001b[39;00m\n",
      "File \u001b[1;32mD:\\anaconda\\Lib\\site-packages\\joblib\\parallel.py:819\u001b[0m, in \u001b[0;36mParallel._dispatch\u001b[1;34m(self, batch)\u001b[0m\n\u001b[0;32m    817\u001b[0m \u001b[38;5;28;01mwith\u001b[39;00m \u001b[38;5;28mself\u001b[39m\u001b[38;5;241m.\u001b[39m_lock:\n\u001b[0;32m    818\u001b[0m     job_idx \u001b[38;5;241m=\u001b[39m \u001b[38;5;28mlen\u001b[39m(\u001b[38;5;28mself\u001b[39m\u001b[38;5;241m.\u001b[39m_jobs)\n\u001b[1;32m--> 819\u001b[0m     job \u001b[38;5;241m=\u001b[39m \u001b[38;5;28mself\u001b[39m\u001b[38;5;241m.\u001b[39m_backend\u001b[38;5;241m.\u001b[39mapply_async(batch, callback\u001b[38;5;241m=\u001b[39mcb)\n\u001b[0;32m    820\u001b[0m     \u001b[38;5;66;03m# A job can complete so quickly than its callback is\u001b[39;00m\n\u001b[0;32m    821\u001b[0m     \u001b[38;5;66;03m# called before we get here, causing self._jobs to\u001b[39;00m\n\u001b[0;32m    822\u001b[0m     \u001b[38;5;66;03m# grow. To ensure correct results ordering, .insert is\u001b[39;00m\n\u001b[0;32m    823\u001b[0m     \u001b[38;5;66;03m# used (rather than .append) in the following line\u001b[39;00m\n\u001b[0;32m    824\u001b[0m     \u001b[38;5;28mself\u001b[39m\u001b[38;5;241m.\u001b[39m_jobs\u001b[38;5;241m.\u001b[39minsert(job_idx, job)\n",
      "File \u001b[1;32mD:\\anaconda\\Lib\\site-packages\\joblib\\_parallel_backends.py:208\u001b[0m, in \u001b[0;36mSequentialBackend.apply_async\u001b[1;34m(self, func, callback)\u001b[0m\n\u001b[0;32m    206\u001b[0m \u001b[38;5;28;01mdef\u001b[39;00m \u001b[38;5;21mapply_async\u001b[39m(\u001b[38;5;28mself\u001b[39m, func, callback\u001b[38;5;241m=\u001b[39m\u001b[38;5;28;01mNone\u001b[39;00m):\n\u001b[0;32m    207\u001b[0m \u001b[38;5;250m    \u001b[39m\u001b[38;5;124;03m\"\"\"Schedule a func to be run\"\"\"\u001b[39;00m\n\u001b[1;32m--> 208\u001b[0m     result \u001b[38;5;241m=\u001b[39m ImmediateResult(func)\n\u001b[0;32m    209\u001b[0m     \u001b[38;5;28;01mif\u001b[39;00m callback:\n\u001b[0;32m    210\u001b[0m         callback(result)\n",
      "File \u001b[1;32mD:\\anaconda\\Lib\\site-packages\\joblib\\_parallel_backends.py:597\u001b[0m, in \u001b[0;36mImmediateResult.__init__\u001b[1;34m(self, batch)\u001b[0m\n\u001b[0;32m    594\u001b[0m \u001b[38;5;28;01mdef\u001b[39;00m \u001b[38;5;21m__init__\u001b[39m(\u001b[38;5;28mself\u001b[39m, batch):\n\u001b[0;32m    595\u001b[0m     \u001b[38;5;66;03m# Don't delay the application, to avoid keeping the input\u001b[39;00m\n\u001b[0;32m    596\u001b[0m     \u001b[38;5;66;03m# arguments in memory\u001b[39;00m\n\u001b[1;32m--> 597\u001b[0m     \u001b[38;5;28mself\u001b[39m\u001b[38;5;241m.\u001b[39mresults \u001b[38;5;241m=\u001b[39m batch()\n",
      "File \u001b[1;32mD:\\anaconda\\Lib\\site-packages\\joblib\\parallel.py:288\u001b[0m, in \u001b[0;36mBatchedCalls.__call__\u001b[1;34m(self)\u001b[0m\n\u001b[0;32m    284\u001b[0m \u001b[38;5;28;01mdef\u001b[39;00m \u001b[38;5;21m__call__\u001b[39m(\u001b[38;5;28mself\u001b[39m):\n\u001b[0;32m    285\u001b[0m     \u001b[38;5;66;03m# Set the default nested backend to self._backend but do not set the\u001b[39;00m\n\u001b[0;32m    286\u001b[0m     \u001b[38;5;66;03m# change the default number of processes to -1\u001b[39;00m\n\u001b[0;32m    287\u001b[0m     \u001b[38;5;28;01mwith\u001b[39;00m parallel_backend(\u001b[38;5;28mself\u001b[39m\u001b[38;5;241m.\u001b[39m_backend, n_jobs\u001b[38;5;241m=\u001b[39m\u001b[38;5;28mself\u001b[39m\u001b[38;5;241m.\u001b[39m_n_jobs):\n\u001b[1;32m--> 288\u001b[0m         \u001b[38;5;28;01mreturn\u001b[39;00m [func(\u001b[38;5;241m*\u001b[39margs, \u001b[38;5;241m*\u001b[39m\u001b[38;5;241m*\u001b[39mkwargs)\n\u001b[0;32m    289\u001b[0m                 \u001b[38;5;28;01mfor\u001b[39;00m func, args, kwargs \u001b[38;5;129;01min\u001b[39;00m \u001b[38;5;28mself\u001b[39m\u001b[38;5;241m.\u001b[39mitems]\n",
      "File \u001b[1;32mD:\\anaconda\\Lib\\site-packages\\joblib\\parallel.py:288\u001b[0m, in \u001b[0;36m<listcomp>\u001b[1;34m(.0)\u001b[0m\n\u001b[0;32m    284\u001b[0m \u001b[38;5;28;01mdef\u001b[39;00m \u001b[38;5;21m__call__\u001b[39m(\u001b[38;5;28mself\u001b[39m):\n\u001b[0;32m    285\u001b[0m     \u001b[38;5;66;03m# Set the default nested backend to self._backend but do not set the\u001b[39;00m\n\u001b[0;32m    286\u001b[0m     \u001b[38;5;66;03m# change the default number of processes to -1\u001b[39;00m\n\u001b[0;32m    287\u001b[0m     \u001b[38;5;28;01mwith\u001b[39;00m parallel_backend(\u001b[38;5;28mself\u001b[39m\u001b[38;5;241m.\u001b[39m_backend, n_jobs\u001b[38;5;241m=\u001b[39m\u001b[38;5;28mself\u001b[39m\u001b[38;5;241m.\u001b[39m_n_jobs):\n\u001b[1;32m--> 288\u001b[0m         \u001b[38;5;28;01mreturn\u001b[39;00m [func(\u001b[38;5;241m*\u001b[39margs, \u001b[38;5;241m*\u001b[39m\u001b[38;5;241m*\u001b[39mkwargs)\n\u001b[0;32m    289\u001b[0m                 \u001b[38;5;28;01mfor\u001b[39;00m func, args, kwargs \u001b[38;5;129;01min\u001b[39;00m \u001b[38;5;28mself\u001b[39m\u001b[38;5;241m.\u001b[39mitems]\n",
      "File \u001b[1;32mD:\\anaconda\\Lib\\site-packages\\sklearn\\utils\\parallel.py:127\u001b[0m, in \u001b[0;36m_FuncWrapper.__call__\u001b[1;34m(self, *args, **kwargs)\u001b[0m\n\u001b[0;32m    125\u001b[0m     config \u001b[38;5;241m=\u001b[39m {}\n\u001b[0;32m    126\u001b[0m \u001b[38;5;28;01mwith\u001b[39;00m config_context(\u001b[38;5;241m*\u001b[39m\u001b[38;5;241m*\u001b[39mconfig):\n\u001b[1;32m--> 127\u001b[0m     \u001b[38;5;28;01mreturn\u001b[39;00m \u001b[38;5;28mself\u001b[39m\u001b[38;5;241m.\u001b[39mfunction(\u001b[38;5;241m*\u001b[39margs, \u001b[38;5;241m*\u001b[39m\u001b[38;5;241m*\u001b[39mkwargs)\n",
      "File \u001b[1;32mD:\\anaconda\\Lib\\site-packages\\sklearn\\linear_model\\_logistic.py:533\u001b[0m, in \u001b[0;36m_logistic_regression_path\u001b[1;34m(X, y, pos_class, Cs, fit_intercept, max_iter, tol, verbose, solver, coef, class_weight, dual, penalty, intercept_scaling, multi_class, random_state, check_input, max_squared_sum, sample_weight, l1_ratio, n_threads)\u001b[0m\n\u001b[0;32m    530\u001b[0m         alpha \u001b[38;5;241m=\u001b[39m (\u001b[38;5;241m1.0\u001b[39m \u001b[38;5;241m/\u001b[39m C) \u001b[38;5;241m*\u001b[39m (\u001b[38;5;241m1\u001b[39m \u001b[38;5;241m-\u001b[39m l1_ratio)\n\u001b[0;32m    531\u001b[0m         beta \u001b[38;5;241m=\u001b[39m (\u001b[38;5;241m1.0\u001b[39m \u001b[38;5;241m/\u001b[39m C) \u001b[38;5;241m*\u001b[39m l1_ratio\n\u001b[1;32m--> 533\u001b[0m     w0, n_iter_i, warm_start_sag \u001b[38;5;241m=\u001b[39m sag_solver(\n\u001b[0;32m    534\u001b[0m         X,\n\u001b[0;32m    535\u001b[0m         target,\n\u001b[0;32m    536\u001b[0m         sample_weight,\n\u001b[0;32m    537\u001b[0m         loss,\n\u001b[0;32m    538\u001b[0m         alpha,\n\u001b[0;32m    539\u001b[0m         beta,\n\u001b[0;32m    540\u001b[0m         max_iter,\n\u001b[0;32m    541\u001b[0m         tol,\n\u001b[0;32m    542\u001b[0m         verbose,\n\u001b[0;32m    543\u001b[0m         random_state,\n\u001b[0;32m    544\u001b[0m         \u001b[38;5;28;01mFalse\u001b[39;00m,\n\u001b[0;32m    545\u001b[0m         max_squared_sum,\n\u001b[0;32m    546\u001b[0m         warm_start_sag,\n\u001b[0;32m    547\u001b[0m         is_saga\u001b[38;5;241m=\u001b[39m(solver \u001b[38;5;241m==\u001b[39m \u001b[38;5;124m\"\u001b[39m\u001b[38;5;124msaga\u001b[39m\u001b[38;5;124m\"\u001b[39m),\n\u001b[0;32m    548\u001b[0m     )\n\u001b[0;32m    550\u001b[0m \u001b[38;5;28;01melse\u001b[39;00m:\n\u001b[0;32m    551\u001b[0m     \u001b[38;5;28;01mraise\u001b[39;00m \u001b[38;5;167;01mValueError\u001b[39;00m(\n\u001b[0;32m    552\u001b[0m         \u001b[38;5;124m\"\u001b[39m\u001b[38;5;124msolver must be one of \u001b[39m\u001b[38;5;124m{\u001b[39m\u001b[38;5;124m'\u001b[39m\u001b[38;5;124mliblinear\u001b[39m\u001b[38;5;124m'\u001b[39m\u001b[38;5;124m, \u001b[39m\u001b[38;5;124m'\u001b[39m\u001b[38;5;124mlbfgs\u001b[39m\u001b[38;5;124m'\u001b[39m\u001b[38;5;124m, \u001b[39m\u001b[38;5;124m\"\u001b[39m\n\u001b[0;32m    553\u001b[0m         \u001b[38;5;124m\"\u001b[39m\u001b[38;5;124m'\u001b[39m\u001b[38;5;124mnewton-cg\u001b[39m\u001b[38;5;124m'\u001b[39m\u001b[38;5;124m, \u001b[39m\u001b[38;5;124m'\u001b[39m\u001b[38;5;124msag\u001b[39m\u001b[38;5;124m'\u001b[39m\u001b[38;5;124m}, got \u001b[39m\u001b[38;5;124m'\u001b[39m\u001b[38;5;132;01m%s\u001b[39;00m\u001b[38;5;124m'\u001b[39m\u001b[38;5;124m instead\u001b[39m\u001b[38;5;124m\"\u001b[39m \u001b[38;5;241m%\u001b[39m solver\n\u001b[0;32m    554\u001b[0m     )\n",
      "File \u001b[1;32mD:\\anaconda\\Lib\\site-packages\\sklearn\\linear_model\\_sag.py:325\u001b[0m, in \u001b[0;36msag_solver\u001b[1;34m(X, y, sample_weight, loss, alpha, beta, max_iter, tol, verbose, random_state, check_input, max_squared_sum, warm_start_mem, is_saga)\u001b[0m\n\u001b[0;32m    319\u001b[0m     \u001b[38;5;28;01mraise\u001b[39;00m \u001b[38;5;167;01mZeroDivisionError\u001b[39;00m(\n\u001b[0;32m    320\u001b[0m         \u001b[38;5;124m\"\u001b[39m\u001b[38;5;124mCurrent sag implementation does not handle \u001b[39m\u001b[38;5;124m\"\u001b[39m\n\u001b[0;32m    321\u001b[0m         \u001b[38;5;124m\"\u001b[39m\u001b[38;5;124mthe case step_size * alpha_scaled == 1\u001b[39m\u001b[38;5;124m\"\u001b[39m\n\u001b[0;32m    322\u001b[0m     )\n\u001b[0;32m    324\u001b[0m sag \u001b[38;5;241m=\u001b[39m sag64 \u001b[38;5;28;01mif\u001b[39;00m X\u001b[38;5;241m.\u001b[39mdtype \u001b[38;5;241m==\u001b[39m np\u001b[38;5;241m.\u001b[39mfloat64 \u001b[38;5;28;01melse\u001b[39;00m sag32\n\u001b[1;32m--> 325\u001b[0m num_seen, n_iter_ \u001b[38;5;241m=\u001b[39m sag(\n\u001b[0;32m    326\u001b[0m     dataset,\n\u001b[0;32m    327\u001b[0m     coef_init,\n\u001b[0;32m    328\u001b[0m     intercept_init,\n\u001b[0;32m    329\u001b[0m     n_samples,\n\u001b[0;32m    330\u001b[0m     n_features,\n\u001b[0;32m    331\u001b[0m     n_classes,\n\u001b[0;32m    332\u001b[0m     tol,\n\u001b[0;32m    333\u001b[0m     max_iter,\n\u001b[0;32m    334\u001b[0m     loss,\n\u001b[0;32m    335\u001b[0m     step_size,\n\u001b[0;32m    336\u001b[0m     alpha_scaled,\n\u001b[0;32m    337\u001b[0m     beta_scaled,\n\u001b[0;32m    338\u001b[0m     sum_gradient_init,\n\u001b[0;32m    339\u001b[0m     gradient_memory_init,\n\u001b[0;32m    340\u001b[0m     seen_init,\n\u001b[0;32m    341\u001b[0m     num_seen_init,\n\u001b[0;32m    342\u001b[0m     fit_intercept,\n\u001b[0;32m    343\u001b[0m     intercept_sum_gradient,\n\u001b[0;32m    344\u001b[0m     intercept_decay,\n\u001b[0;32m    345\u001b[0m     is_saga,\n\u001b[0;32m    346\u001b[0m     verbose,\n\u001b[0;32m    347\u001b[0m )\n\u001b[0;32m    349\u001b[0m \u001b[38;5;28;01mif\u001b[39;00m n_iter_ \u001b[38;5;241m==\u001b[39m max_iter:\n\u001b[0;32m    350\u001b[0m     warnings\u001b[38;5;241m.\u001b[39mwarn(\n\u001b[0;32m    351\u001b[0m         \u001b[38;5;124m\"\u001b[39m\u001b[38;5;124mThe max_iter was reached which means the coef_ did not converge\u001b[39m\u001b[38;5;124m\"\u001b[39m,\n\u001b[0;32m    352\u001b[0m         ConvergenceWarning,\n\u001b[0;32m    353\u001b[0m     )\n",
      "\u001b[1;31mKeyboardInterrupt\u001b[0m: "
     ]
    }
   ],
   "source": [
    "grid = GridSearchCV(LogisticRegression(class_weight = 'balanced', penalty = 'elasticnet', solver = 'saga'),param_grid=grid_space,cv=3,scoring='roc_auc')\n",
    "model_grid = grid.fit(new_X_train, new_y_train)"
   ]
  },
  {
   "cell_type": "code",
   "execution_count": 133,
   "id": "b5fa6a71",
   "metadata": {},
   "outputs": [
    {
     "name": "stdout",
     "output_type": "stream",
     "text": [
      "Best hyperparameters are: {'C': 1, 'l1_ratio': 0.9}\n",
      "Best score is: 0.7294721775952735\n"
     ]
    }
   ],
   "source": [
    "print('Best hyperparameters are: '+str(model_grid.best_params_))\n",
    "print('Best score is: '+str(model_grid.best_score_))"
   ]
  },
  {
   "cell_type": "code",
   "execution_count": null,
   "id": "9e55e4bc",
   "metadata": {},
   "outputs": [],
   "source": []
  }
 ],
 "metadata": {
  "hide_input": false,
  "kernelspec": {
   "display_name": "Python 3 (ipykernel)",
   "language": "python",
   "name": "python3"
  },
  "language_info": {
   "codemirror_mode": {
    "name": "ipython",
    "version": 3
   },
   "file_extension": ".py",
   "mimetype": "text/x-python",
   "name": "python",
   "nbconvert_exporter": "python",
   "pygments_lexer": "ipython3",
   "version": "3.11.4"
  }
 },
 "nbformat": 4,
 "nbformat_minor": 5
}
