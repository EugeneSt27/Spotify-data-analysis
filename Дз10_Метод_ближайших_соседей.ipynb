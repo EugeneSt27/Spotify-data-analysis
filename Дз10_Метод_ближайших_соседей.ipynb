{
 "cells": [
  {
   "cell_type": "markdown",
   "id": "9ed7acaa",
   "metadata": {
    "heading_collapsed": true
   },
   "source": [
    "## 0. Импорт библиотек, определение функций"
   ]
  },
  {
   "cell_type": "code",
   "execution_count": 1,
   "id": "f6939530",
   "metadata": {
    "hidden": true
   },
   "outputs": [],
   "source": [
    "import pandas as pd\n",
    "\n",
    "import seaborn as sns\n",
    "\n",
    "import matplotlib\n",
    "import matplotlib.pyplot as plt\n",
    "%matplotlib inline\n",
    "matplotlib.style.use('ggplot')\n",
    "\n",
    "import numpy as np\n",
    "from scipy.stats import kstest, spearmanr, mannwhitneyu, levene, kruskal\n",
    "\n",
    "from sklearn.model_selection import train_test_split, GridSearchCV, KFold\n",
    "from sklearn.linear_model import LogisticRegression\n",
    "from sklearn.metrics import mean_absolute_percentage_error, mean_squared_error\n",
    "from sklearn.metrics import r2_score\n",
    "\n",
    "from sklearn.preprocessing import StandardScaler, MinMaxScaler,  PolynomialFeatures\n",
    "from sklearn.pipeline import make_pipeline\n",
    "from sklearn.model_selection import cross_val_score, cross_validate, KFold, StratifiedKFold\n",
    "import statsmodels.api as sm\n",
    "\n",
    "import operator\n",
    "\n",
    "from datetime import datetime\n",
    "\n",
    "from collections import Counter\n",
    "\n",
    "from matplotlib.colors import ListedColormap \n",
    "\n",
    "from sklearn.metrics import confusion_matrix, accuracy_score, precision_score, recall_score, f1_score, classification_report, auc, classification_report, precision_recall_curve, auc, classification_report\n",
    "from sklearn.utils import shuffle\n",
    "from sklearn.metrics import RocCurveDisplay, roc_curve, roc_auc_score"
   ]
  },
  {
   "cell_type": "code",
   "execution_count": 2,
   "id": "8e776a18",
   "metadata": {
    "hidden": true
   },
   "outputs": [],
   "source": [
    "def get_spearman(data_1, data_2):\n",
    "    correlation = spearmanr(data_1, data_2)\n",
    "    return '{0:.2f}\\n{1:.2f}'.format(*correlation)"
   ]
  },
  {
   "cell_type": "code",
   "execution_count": 3,
   "id": "43afac61",
   "metadata": {
    "hidden": true
   },
   "outputs": [],
   "source": [
    "def conf_matrix(fact, pred):\n",
    "    conf_test = confusion_matrix(fact, pred, normalize='true')\n",
    "    sns.heatmap(conf_test, annot=True, fmt='.2f', cmap='binary')\n",
    "    plt.xlabel('Predicted', size=14)\n",
    "    plt.ylabel('Actual', size=14)\n",
    "    plt.show()"
   ]
  },
  {
   "cell_type": "markdown",
   "id": "5645a729",
   "metadata": {
    "heading_collapsed": true
   },
   "source": [
    "## 1. Импорт данных и предобработка"
   ]
  },
  {
   "cell_type": "code",
   "execution_count": 4,
   "id": "02dbf9a2",
   "metadata": {
    "hidden": true
   },
   "outputs": [
    {
     "data": {
      "text/html": [
       "<div>\n",
       "<style scoped>\n",
       "    .dataframe tbody tr th:only-of-type {\n",
       "        vertical-align: middle;\n",
       "    }\n",
       "\n",
       "    .dataframe tbody tr th {\n",
       "        vertical-align: top;\n",
       "    }\n",
       "\n",
       "    .dataframe thead th {\n",
       "        text-align: right;\n",
       "    }\n",
       "</style>\n",
       "<table border=\"1\" class=\"dataframe\">\n",
       "  <thead>\n",
       "    <tr style=\"text-align: right;\">\n",
       "      <th></th>\n",
       "      <th>artist_name</th>\n",
       "      <th>track_name</th>\n",
       "      <th>track_id</th>\n",
       "      <th>popularity</th>\n",
       "      <th>year</th>\n",
       "      <th>genre</th>\n",
       "      <th>danceability</th>\n",
       "      <th>energy</th>\n",
       "      <th>key</th>\n",
       "      <th>loudness</th>\n",
       "      <th>mode</th>\n",
       "      <th>speechiness</th>\n",
       "      <th>acousticness</th>\n",
       "      <th>instrumentalness</th>\n",
       "      <th>liveness</th>\n",
       "      <th>valence</th>\n",
       "      <th>tempo</th>\n",
       "      <th>duration_ms</th>\n",
       "      <th>time_signature</th>\n",
       "    </tr>\n",
       "  </thead>\n",
       "  <tbody>\n",
       "    <tr>\n",
       "      <th>0</th>\n",
       "      <td>Jason Mraz</td>\n",
       "      <td>I Won't Give Up</td>\n",
       "      <td>53QF56cjZA9RTuuMZDrSA6</td>\n",
       "      <td>68</td>\n",
       "      <td>2012</td>\n",
       "      <td>acoustic</td>\n",
       "      <td>0.483</td>\n",
       "      <td>0.303</td>\n",
       "      <td>4</td>\n",
       "      <td>-10.058</td>\n",
       "      <td>1</td>\n",
       "      <td>0.0429</td>\n",
       "      <td>0.6940</td>\n",
       "      <td>0.000000</td>\n",
       "      <td>0.1150</td>\n",
       "      <td>0.139</td>\n",
       "      <td>133.406</td>\n",
       "      <td>240166</td>\n",
       "      <td>3</td>\n",
       "    </tr>\n",
       "    <tr>\n",
       "      <th>1</th>\n",
       "      <td>Jason Mraz</td>\n",
       "      <td>93 Million Miles</td>\n",
       "      <td>1s8tP3jP4GZcyHDsjvw218</td>\n",
       "      <td>50</td>\n",
       "      <td>2012</td>\n",
       "      <td>acoustic</td>\n",
       "      <td>0.572</td>\n",
       "      <td>0.454</td>\n",
       "      <td>3</td>\n",
       "      <td>-10.286</td>\n",
       "      <td>1</td>\n",
       "      <td>0.0258</td>\n",
       "      <td>0.4770</td>\n",
       "      <td>0.000014</td>\n",
       "      <td>0.0974</td>\n",
       "      <td>0.515</td>\n",
       "      <td>140.182</td>\n",
       "      <td>216387</td>\n",
       "      <td>4</td>\n",
       "    </tr>\n",
       "    <tr>\n",
       "      <th>2</th>\n",
       "      <td>Joshua Hyslop</td>\n",
       "      <td>Do Not Let Me Go</td>\n",
       "      <td>7BRCa8MPiyuvr2VU3O9W0F</td>\n",
       "      <td>57</td>\n",
       "      <td>2012</td>\n",
       "      <td>acoustic</td>\n",
       "      <td>0.409</td>\n",
       "      <td>0.234</td>\n",
       "      <td>3</td>\n",
       "      <td>-13.711</td>\n",
       "      <td>1</td>\n",
       "      <td>0.0323</td>\n",
       "      <td>0.3380</td>\n",
       "      <td>0.000050</td>\n",
       "      <td>0.0895</td>\n",
       "      <td>0.145</td>\n",
       "      <td>139.832</td>\n",
       "      <td>158960</td>\n",
       "      <td>4</td>\n",
       "    </tr>\n",
       "    <tr>\n",
       "      <th>3</th>\n",
       "      <td>Boyce Avenue</td>\n",
       "      <td>Fast Car</td>\n",
       "      <td>63wsZUhUZLlh1OsyrZq7sz</td>\n",
       "      <td>58</td>\n",
       "      <td>2012</td>\n",
       "      <td>acoustic</td>\n",
       "      <td>0.392</td>\n",
       "      <td>0.251</td>\n",
       "      <td>10</td>\n",
       "      <td>-9.845</td>\n",
       "      <td>1</td>\n",
       "      <td>0.0363</td>\n",
       "      <td>0.8070</td>\n",
       "      <td>0.000000</td>\n",
       "      <td>0.0797</td>\n",
       "      <td>0.508</td>\n",
       "      <td>204.961</td>\n",
       "      <td>304293</td>\n",
       "      <td>4</td>\n",
       "    </tr>\n",
       "    <tr>\n",
       "      <th>4</th>\n",
       "      <td>Andrew Belle</td>\n",
       "      <td>Sky's Still Blue</td>\n",
       "      <td>6nXIYClvJAfi6ujLiKqEq8</td>\n",
       "      <td>54</td>\n",
       "      <td>2012</td>\n",
       "      <td>acoustic</td>\n",
       "      <td>0.430</td>\n",
       "      <td>0.791</td>\n",
       "      <td>6</td>\n",
       "      <td>-5.419</td>\n",
       "      <td>0</td>\n",
       "      <td>0.0302</td>\n",
       "      <td>0.0726</td>\n",
       "      <td>0.019300</td>\n",
       "      <td>0.1100</td>\n",
       "      <td>0.217</td>\n",
       "      <td>171.864</td>\n",
       "      <td>244320</td>\n",
       "      <td>4</td>\n",
       "    </tr>\n",
       "  </tbody>\n",
       "</table>\n",
       "</div>"
      ],
      "text/plain": [
       "     artist_name        track_name                track_id  popularity  year  \\\n",
       "0     Jason Mraz   I Won't Give Up  53QF56cjZA9RTuuMZDrSA6          68  2012   \n",
       "1     Jason Mraz  93 Million Miles  1s8tP3jP4GZcyHDsjvw218          50  2012   \n",
       "2  Joshua Hyslop  Do Not Let Me Go  7BRCa8MPiyuvr2VU3O9W0F          57  2012   \n",
       "3   Boyce Avenue          Fast Car  63wsZUhUZLlh1OsyrZq7sz          58  2012   \n",
       "4   Andrew Belle  Sky's Still Blue  6nXIYClvJAfi6ujLiKqEq8          54  2012   \n",
       "\n",
       "      genre  danceability  energy  key  loudness  mode  speechiness  \\\n",
       "0  acoustic         0.483   0.303    4   -10.058     1       0.0429   \n",
       "1  acoustic         0.572   0.454    3   -10.286     1       0.0258   \n",
       "2  acoustic         0.409   0.234    3   -13.711     1       0.0323   \n",
       "3  acoustic         0.392   0.251   10    -9.845     1       0.0363   \n",
       "4  acoustic         0.430   0.791    6    -5.419     0       0.0302   \n",
       "\n",
       "   acousticness  instrumentalness  liveness  valence    tempo  duration_ms  \\\n",
       "0        0.6940          0.000000    0.1150    0.139  133.406       240166   \n",
       "1        0.4770          0.000014    0.0974    0.515  140.182       216387   \n",
       "2        0.3380          0.000050    0.0895    0.145  139.832       158960   \n",
       "3        0.8070          0.000000    0.0797    0.508  204.961       304293   \n",
       "4        0.0726          0.019300    0.1100    0.217  171.864       244320   \n",
       "\n",
       "   time_signature  \n",
       "0               3  \n",
       "1               4  \n",
       "2               4  \n",
       "3               4  \n",
       "4               4  "
      ]
     },
     "execution_count": 4,
     "metadata": {},
     "output_type": "execute_result"
    }
   ],
   "source": [
    "ds = pd.read_csv('data/spotify_data.csv', index_col='Unnamed: 0')\n",
    "ds.head()"
   ]
  },
  {
   "cell_type": "markdown",
   "id": "52c8fe4e",
   "metadata": {
    "hidden": true
   },
   "source": [
    "Создание новых признаков: \n",
    "- возраст трека;\n",
    "- длительность в минутах;\n",
    "- популярность, как качественный показатель: если исходная популярность больше 50, то трек считается популярным."
   ]
  },
  {
   "cell_type": "code",
   "execution_count": 5,
   "id": "e80da341",
   "metadata": {},
   "outputs": [
    {
     "data": {
      "text/plain": [
       "1159764"
      ]
     },
     "execution_count": 5,
     "metadata": {},
     "output_type": "execute_result"
    }
   ],
   "source": [
    "len(ds)"
   ]
  },
  {
   "cell_type": "code",
   "execution_count": 6,
   "id": "6c30ce71",
   "metadata": {
    "hidden": true
   },
   "outputs": [],
   "source": [
    "ds['age'] = (datetime.today().year - ds['year']).astype('int')"
   ]
  },
  {
   "cell_type": "code",
   "execution_count": 7,
   "id": "c61e20e9",
   "metadata": {
    "hidden": true
   },
   "outputs": [],
   "source": [
    "ds['duration_min'] = ds['duration_ms']//1000//60"
   ]
  },
  {
   "cell_type": "code",
   "execution_count": 8,
   "id": "5a810041",
   "metadata": {
    "hidden": true
   },
   "outputs": [],
   "source": [
    "ds['popularity'] = ds['popularity'].apply(lambda x: 1 if x>=50 else 0)"
   ]
  },
  {
   "cell_type": "markdown",
   "id": "4c6d18b9",
   "metadata": {
    "hidden": true
   },
   "source": [
    "Разделение признаков на группы."
   ]
  },
  {
   "cell_type": "code",
   "execution_count": 9,
   "id": "e4ee6601",
   "metadata": {
    "hidden": true
   },
   "outputs": [],
   "source": [
    "categorial_data = ['popularity','artist_name', 'track_name', 'track_id', 'year', 'genre', 'key', 'mode','time_signature']\n",
    "metric = ['danceability', 'energy', 'loudness','speechiness', 'acousticness', 'instrumentalness', 'liveness', 'valence', 'tempo', 'duration_min', 'age' ]"
   ]
  },
  {
   "cell_type": "markdown",
   "id": "9b144192",
   "metadata": {},
   "source": [
    "В качестве неинформативных категориальных признаков были выделены track_id, track_name и artist_name, поэтому они исключаются из дальнейшего рассмотрения"
   ]
  },
  {
   "cell_type": "markdown",
   "id": "c60c1b28",
   "metadata": {},
   "source": [
    "Обнаружена высокая достоверная корреляция между признаками:\n",
    "energy и acousticness (-0,73)   \n",
    "energy и loudness (0,73)   \n",
    "energy и speechiness (0,36)   \n",
    "loudness и acousticness (-0,57)   \n",
    "danceability и valence (0,51)   \n",
    "instrumentalness и valence (-0,35)   "
   ]
  },
  {
   "cell_type": "markdown",
   "id": "8a5b0a97",
   "metadata": {},
   "source": [
    "   Выберем age, liveness, acousticness и valence"
   ]
  },
  {
   "cell_type": "markdown",
   "id": "669cfd65",
   "metadata": {},
   "source": [
    "# Лучшая модель (из предыдущих)"
   ]
  },
  {
   "cell_type": "code",
   "execution_count": 10,
   "id": "97e2c900",
   "metadata": {},
   "outputs": [],
   "source": [
    "from sklearn import svm\n",
    "from sklearn.inspection import DecisionBoundaryDisplay\n",
    "from pactools.grid_search import GridSearchCVProgressBar"
   ]
  },
  {
   "cell_type": "code",
   "execution_count": 19,
   "id": "95a8a23d",
   "metadata": {},
   "outputs": [],
   "source": [
    "ds_new = ds[['popularity', 'age', 'liveness']]"
   ]
  },
  {
   "cell_type": "code",
   "execution_count": 12,
   "id": "10f30a18",
   "metadata": {},
   "outputs": [],
   "source": [
    "new_X_train, new_X_test, new_y_train, new_y_test = train_test_split(\n",
    "    ds_new.drop('popularity', axis =1), \n",
    "    ds_new['popularity'], \n",
    "    test_size=0.2, \n",
    "    random_state=21)"
   ]
  },
  {
   "cell_type": "code",
   "execution_count": 13,
   "id": "e0299c97",
   "metadata": {},
   "outputs": [],
   "source": [
    "np.random.seed(666)\n",
    "new_rand_index = np.random.choice(new_X_train.index,10000)\n",
    "new_X_train_learn = new_X_train.loc[new_rand_index]\n",
    "new_y_train_learn = new_y_train.loc[new_rand_index]"
   ]
  },
  {
   "cell_type": "code",
   "execution_count": 14,
   "id": "8e5aaa9f",
   "metadata": {},
   "outputs": [],
   "source": [
    "grid = {'C': [0.001, 0.1, 10, 100, 1000], 'kernel':['poly'], 'degree': [2,3]} #полином со степенями 2,3\n",
    "model_svm = svm.SVC(probability = True, class_weight = 'balanced')\n",
    "skf = StratifiedKFold(n_splits=4, shuffle=True, random_state=42)\n",
    "gs = GridSearchCVProgressBar(model_svm, grid, cv = skf, scoring = 'roc_auc', verbose=3)"
   ]
  },
  {
   "cell_type": "code",
   "execution_count": 15,
   "id": "c6eebaa6",
   "metadata": {},
   "outputs": [
    {
     "ename": "AttributeError",
     "evalue": "'GridSearchCVProgressBar' object has no attribute 'best_params_'",
     "output_type": "error",
     "traceback": [
      "\u001b[1;31m---------------------------------------------------------------------------\u001b[0m",
      "\u001b[1;31mAttributeError\u001b[0m                            Traceback (most recent call last)",
      "Cell \u001b[1;32mIn[15], line 1\u001b[0m\n\u001b[1;32m----> 1\u001b[0m gs\u001b[38;5;241m.\u001b[39mbest_params_\n",
      "\u001b[1;31mAttributeError\u001b[0m: 'GridSearchCVProgressBar' object has no attribute 'best_params_'"
     ]
    }
   ],
   "source": [
    "gs.best_params_"
   ]
  },
  {
   "cell_type": "code",
   "execution_count": null,
   "id": "49a4045e",
   "metadata": {},
   "outputs": [],
   "source": [
    "new_model = gs.best_estimator_ # удалил валидацию, чтобы не занимала места\n",
    "new_model"
   ]
  },
  {
   "cell_type": "code",
   "execution_count": 16,
   "id": "4f114381",
   "metadata": {},
   "outputs": [],
   "source": [
    "new_model = svm.SVC(C = 1000, probability = True, class_weight = 'balanced',  degree =  2, kernel= 'poly')\n"
   ]
  },
  {
   "cell_type": "code",
   "execution_count": 17,
   "id": "b4556cbe",
   "metadata": {},
   "outputs": [
    {
     "data": {
      "text/html": [
       "<style>#sk-container-id-1 {color: black;}#sk-container-id-1 pre{padding: 0;}#sk-container-id-1 div.sk-toggleable {background-color: white;}#sk-container-id-1 label.sk-toggleable__label {cursor: pointer;display: block;width: 100%;margin-bottom: 0;padding: 0.3em;box-sizing: border-box;text-align: center;}#sk-container-id-1 label.sk-toggleable__label-arrow:before {content: \"▸\";float: left;margin-right: 0.25em;color: #696969;}#sk-container-id-1 label.sk-toggleable__label-arrow:hover:before {color: black;}#sk-container-id-1 div.sk-estimator:hover label.sk-toggleable__label-arrow:before {color: black;}#sk-container-id-1 div.sk-toggleable__content {max-height: 0;max-width: 0;overflow: hidden;text-align: left;background-color: #f0f8ff;}#sk-container-id-1 div.sk-toggleable__content pre {margin: 0.2em;color: black;border-radius: 0.25em;background-color: #f0f8ff;}#sk-container-id-1 input.sk-toggleable__control:checked~div.sk-toggleable__content {max-height: 200px;max-width: 100%;overflow: auto;}#sk-container-id-1 input.sk-toggleable__control:checked~label.sk-toggleable__label-arrow:before {content: \"▾\";}#sk-container-id-1 div.sk-estimator input.sk-toggleable__control:checked~label.sk-toggleable__label {background-color: #d4ebff;}#sk-container-id-1 div.sk-label input.sk-toggleable__control:checked~label.sk-toggleable__label {background-color: #d4ebff;}#sk-container-id-1 input.sk-hidden--visually {border: 0;clip: rect(1px 1px 1px 1px);clip: rect(1px, 1px, 1px, 1px);height: 1px;margin: -1px;overflow: hidden;padding: 0;position: absolute;width: 1px;}#sk-container-id-1 div.sk-estimator {font-family: monospace;background-color: #f0f8ff;border: 1px dotted black;border-radius: 0.25em;box-sizing: border-box;margin-bottom: 0.5em;}#sk-container-id-1 div.sk-estimator:hover {background-color: #d4ebff;}#sk-container-id-1 div.sk-parallel-item::after {content: \"\";width: 100%;border-bottom: 1px solid gray;flex-grow: 1;}#sk-container-id-1 div.sk-label:hover label.sk-toggleable__label {background-color: #d4ebff;}#sk-container-id-1 div.sk-serial::before {content: \"\";position: absolute;border-left: 1px solid gray;box-sizing: border-box;top: 0;bottom: 0;left: 50%;z-index: 0;}#sk-container-id-1 div.sk-serial {display: flex;flex-direction: column;align-items: center;background-color: white;padding-right: 0.2em;padding-left: 0.2em;position: relative;}#sk-container-id-1 div.sk-item {position: relative;z-index: 1;}#sk-container-id-1 div.sk-parallel {display: flex;align-items: stretch;justify-content: center;background-color: white;position: relative;}#sk-container-id-1 div.sk-item::before, #sk-container-id-1 div.sk-parallel-item::before {content: \"\";position: absolute;border-left: 1px solid gray;box-sizing: border-box;top: 0;bottom: 0;left: 50%;z-index: -1;}#sk-container-id-1 div.sk-parallel-item {display: flex;flex-direction: column;z-index: 1;position: relative;background-color: white;}#sk-container-id-1 div.sk-parallel-item:first-child::after {align-self: flex-end;width: 50%;}#sk-container-id-1 div.sk-parallel-item:last-child::after {align-self: flex-start;width: 50%;}#sk-container-id-1 div.sk-parallel-item:only-child::after {width: 0;}#sk-container-id-1 div.sk-dashed-wrapped {border: 1px dashed gray;margin: 0 0.4em 0.5em 0.4em;box-sizing: border-box;padding-bottom: 0.4em;background-color: white;}#sk-container-id-1 div.sk-label label {font-family: monospace;font-weight: bold;display: inline-block;line-height: 1.2em;}#sk-container-id-1 div.sk-label-container {text-align: center;}#sk-container-id-1 div.sk-container {/* jupyter's `normalize.less` sets `[hidden] { display: none; }` but bootstrap.min.css set `[hidden] { display: none !important; }` so we also need the `!important` here to be able to override the default hidden behavior on the sphinx rendered scikit-learn.org. See: https://github.com/scikit-learn/scikit-learn/issues/21755 */display: inline-block !important;position: relative;}#sk-container-id-1 div.sk-text-repr-fallback {display: none;}</style><div id=\"sk-container-id-1\" class=\"sk-top-container\"><div class=\"sk-text-repr-fallback\"><pre>SVC(C=1000, class_weight=&#x27;balanced&#x27;, degree=2, kernel=&#x27;poly&#x27;, probability=True)</pre><b>In a Jupyter environment, please rerun this cell to show the HTML representation or trust the notebook. <br />On GitHub, the HTML representation is unable to render, please try loading this page with nbviewer.org.</b></div><div class=\"sk-container\" hidden><div class=\"sk-item\"><div class=\"sk-estimator sk-toggleable\"><input class=\"sk-toggleable__control sk-hidden--visually\" id=\"sk-estimator-id-1\" type=\"checkbox\" checked><label for=\"sk-estimator-id-1\" class=\"sk-toggleable__label sk-toggleable__label-arrow\">SVC</label><div class=\"sk-toggleable__content\"><pre>SVC(C=1000, class_weight=&#x27;balanced&#x27;, degree=2, kernel=&#x27;poly&#x27;, probability=True)</pre></div></div></div></div></div>"
      ],
      "text/plain": [
       "SVC(C=1000, class_weight='balanced', degree=2, kernel='poly', probability=True)"
      ]
     },
     "execution_count": 17,
     "metadata": {},
     "output_type": "execute_result"
    }
   ],
   "source": [
    "new_model.fit(new_X_train_learn, new_y_train_learn)"
   ]
  },
  {
   "cell_type": "code",
   "execution_count": 18,
   "id": "392052f6",
   "metadata": {},
   "outputs": [],
   "source": [
    "y_approx_new = new_model.predict(new_X_train_learn)\n",
    "y_pred_new = new_model.predict(new_X_test)"
   ]
  },
  {
   "cell_type": "code",
   "execution_count": 20,
   "id": "753f0fb8",
   "metadata": {},
   "outputs": [
    {
     "name": "stdout",
     "output_type": "stream",
     "text": [
      "              precision    recall  f1-score   support\n",
      "\n",
      "           0       0.98      0.58      0.73    221444\n",
      "           1       0.08      0.76      0.14     10509\n",
      "\n",
      "    accuracy                           0.59    231953\n",
      "   macro avg       0.53      0.67      0.44    231953\n",
      "weighted avg       0.94      0.59      0.71    231953\n",
      "\n"
     ]
    }
   ],
   "source": [
    "print(classification_report(new_y_test, y_pred_new))"
   ]
  },
  {
   "cell_type": "markdown",
   "id": "53ec0182",
   "metadata": {},
   "source": []
  },
  {
   "cell_type": "code",
   "execution_count": null,
   "id": "12845349",
   "metadata": {},
   "outputs": [],
   "source": [
    "probabilities_svc_new = new_model.predict_proba(new_X_train_learn)\n",
    "pr_new, rec_new, th_new = precision_recall_curve(new_y_train_learn, probabilities_svc_new[:,1])\n",
    "mod_n_auc = auc(rec_new[:-1], pr_new[:-1])"
   ]
  },
  {
   "cell_type": "code",
   "execution_count": null,
   "id": "52aa1c1b",
   "metadata": {},
   "outputs": [],
   "source": [
    "fpr_new, tpr_new, th_new = roc_curve(new_y_train_learn, probabilities_svc_new[:,1])\n",
    "mod_new_roc_auc = auc(fpr_new[:-1], tpr_new[:-1])"
   ]
  },
  {
   "cell_type": "code",
   "execution_count": null,
   "id": "1fb753a5",
   "metadata": {},
   "outputs": [],
   "source": []
  },
  {
   "cell_type": "code",
   "execution_count": null,
   "id": "2affee46",
   "metadata": {},
   "outputs": [],
   "source": []
  },
  {
   "cell_type": "code",
   "execution_count": null,
   "id": "c66561e8",
   "metadata": {},
   "outputs": [],
   "source": []
  },
  {
   "cell_type": "markdown",
   "id": "f1f958cd",
   "metadata": {},
   "source": [
    "# Метод ближайших соседей"
   ]
  },
  {
   "cell_type": "code",
   "execution_count": 36,
   "id": "87fe675b",
   "metadata": {},
   "outputs": [],
   "source": [
    "from sklearn.neighbors import KNeighborsClassifier"
   ]
  },
  {
   "cell_type": "markdown",
   "id": "3c463513",
   "metadata": {},
   "source": [
    "1. Провести классификация с помощью метода ближайших соседей по 2-м признакам. Подобрать оптимальное значения гиперпараметров: количество соседей, функция оценки расстояния, функция для оценки влияния $i$-го соседа. \n",
    "Оценить качество полученной модели. Сравнить с лучшим результатом, достигнутым ранее."
   ]
  },
  {
   "cell_type": "code",
   "execution_count": 30,
   "id": "c7943939",
   "metadata": {},
   "outputs": [],
   "source": [
    "X_train, X_test, y_train, y_test = train_test_split(\n",
    "    ds_new.drop('popularity', axis =1), \n",
    "    ds_new['popularity'], \n",
    "    test_size=0.2, \n",
    "    random_state=21)"
   ]
  },
  {
   "cell_type": "markdown",
   "id": "d12d9efe",
   "metadata": {},
   "source": [
    "Т.к. нет class weight, то будем даунсэмплить обучаюущую выборку"
   ]
  },
  {
   "cell_type": "code",
   "execution_count": 31,
   "id": "080c5677",
   "metadata": {},
   "outputs": [],
   "source": [
    "train_data = pd.concat([X_train, y_train], axis = 1)\n",
    "neg_class = train_data[train_data['popularity'] == 0]\n",
    "pos_class = train_data[train_data['popularity'] == 1]"
   ]
  },
  {
   "cell_type": "code",
   "execution_count": 32,
   "id": "b945bf12",
   "metadata": {},
   "outputs": [],
   "source": [
    "neg_downsampled = neg_class.sample(frac=0.05, random_state = 1) \n",
    "downsampled_data = np.concatenate((neg_downsampled, pos_class))"
   ]
  },
  {
   "cell_type": "code",
   "execution_count": 34,
   "id": "5de8daa7",
   "metadata": {},
   "outputs": [],
   "source": [
    "from pactools.grid_search import GridSearchCVProgressBar"
   ]
  },
  {
   "cell_type": "code",
   "execution_count": 45,
   "id": "18f8c340",
   "metadata": {},
   "outputs": [],
   "source": [
    "grid = {'n_neighbors': [20, 70, 120, 200, 300, 500], 'weights':['distance', 'uniform', None]}\n",
    "model_kn = KNeighborsClassifier()\n",
    "skf = StratifiedKFold(n_splits=4, shuffle=True, random_state=42)"
   ]
  },
  {
   "cell_type": "code",
   "execution_count": 46,
   "id": "a0244260",
   "metadata": {},
   "outputs": [],
   "source": [
    "gs = GridSearchCVProgressBar(model_kn, grid, cv = skf, scoring = 'roc_auc', verbose=3)"
   ]
  },
  {
   "cell_type": "code",
   "execution_count": 48,
   "id": "eefd4fa1",
   "metadata": {},
   "outputs": [
    {
     "name": "stdout",
     "output_type": "stream",
     "text": [
      "Fitting 4 folds for each of 18 candidates, totalling 72 fits\n",
      "[CV 1/4] END ..n_neighbors=20, weights=distance;, score=0.634 total time=   7.0s\n",
      "[CV 2/4] END ..n_neighbors=20, weights=distance;, score=0.636 total time=   6.9s\n",
      "[CV 3/4] END ..n_neighbors=20, weights=distance;, score=0.632 total time=   6.8s\n",
      "[CV 4/4] END ..n_neighbors=20, weights=distance;, score=0.641 total time=   6.9s\n",
      "[CV 1/4] END ...n_neighbors=20, weights=uniform;, score=0.643 total time=   6.8s\n",
      "[CV 2/4] END ...n_neighbors=20, weights=uniform;, score=0.645 total time=   6.8s\n",
      "[CV 3/4] END ...n_neighbors=20, weights=uniform;, score=0.641 total time=   7.0s\n",
      "[CV 4/4] END ...n_neighbors=20, weights=uniform;, score=0.651 total time=   6.9s\n",
      "[CV 1/4] END ......n_neighbors=20, weights=None;, score=0.643 total time=   6.8s\n",
      "[CV 2/4] END ......n_neighbors=20, weights=None;, score=0.645 total time=   6.8s\n",
      "[CV 3/4] END ......n_neighbors=20, weights=None;, score=0.641 total time=   6.8s\n",
      "[CV 4/4] END ......n_neighbors=20, weights=None;, score=0.651 total time=   6.9s\n",
      "[CV 1/4] END ..n_neighbors=70, weights=distance;, score=0.656 total time=  12.7s\n",
      "[CV 2/4] END ..n_neighbors=70, weights=distance;, score=0.658 total time=  12.6s\n",
      "[CV 3/4] END ..n_neighbors=70, weights=distance;, score=0.656 total time=  12.7s\n",
      "[CV 4/4] END ..n_neighbors=70, weights=distance;, score=0.660 total time=  12.6s\n",
      "[CV 1/4] END ...n_neighbors=70, weights=uniform;, score=0.693 total time=  12.7s\n",
      "[CV 2/4] END ...n_neighbors=70, weights=uniform;, score=0.696 total time=  12.7s\n",
      "[CV 3/4] END ...n_neighbors=70, weights=uniform;, score=0.693 total time=  13.0s\n",
      "[CV 4/4] END ...n_neighbors=70, weights=uniform;, score=0.700 total time=  12.5s\n",
      "[CV 1/4] END ......n_neighbors=70, weights=None;, score=0.693 total time=  12.7s\n",
      "[CV 2/4] END ......n_neighbors=70, weights=None;, score=0.696 total time=  13.0s\n",
      "[CV 3/4] END ......n_neighbors=70, weights=None;, score=0.693 total time=  12.8s\n",
      "[CV 4/4] END ......n_neighbors=70, weights=None;, score=0.700 total time=  12.6s\n",
      "[CV 1/4] END .n_neighbors=120, weights=distance;, score=0.658 total time=  20.3s\n",
      "[CV 2/4] END .n_neighbors=120, weights=distance;, score=0.661 total time=  20.2s\n",
      "[CV 3/4] END .n_neighbors=120, weights=distance;, score=0.658 total time=  20.6s\n",
      "[CV 4/4] END .n_neighbors=120, weights=distance;, score=0.663 total time=  20.1s\n",
      "[CV 1/4] END ..n_neighbors=120, weights=uniform;, score=0.705 total time=  20.0s\n",
      "[CV 2/4] END ..n_neighbors=120, weights=uniform;, score=0.709 total time=  20.0s\n",
      "[CV 3/4] END ..n_neighbors=120, weights=uniform;, score=0.705 total time=  20.2s\n",
      "[CV 4/4] END ..n_neighbors=120, weights=uniform;, score=0.712 total time=  19.9s\n",
      "[CV 1/4] END .....n_neighbors=120, weights=None;, score=0.705 total time=  20.3s\n",
      "[CV 2/4] END .....n_neighbors=120, weights=None;, score=0.709 total time=  20.1s\n",
      "[CV 3/4] END .....n_neighbors=120, weights=None;, score=0.705 total time=  20.2s\n",
      "[CV 4/4] END .....n_neighbors=120, weights=None;, score=0.712 total time=  20.0s\n",
      "[CV 1/4] END .n_neighbors=200, weights=distance;, score=0.659 total time=  31.7s\n",
      "[CV 2/4] END .n_neighbors=200, weights=distance;, score=0.662 total time=  31.2s\n",
      "[CV 3/4] END .n_neighbors=200, weights=distance;, score=0.659 total time=  31.2s\n",
      "[CV 4/4] END .n_neighbors=200, weights=distance;, score=0.664 total time=  30.9s\n",
      "[CV 1/4] END ..n_neighbors=200, weights=uniform;, score=0.713 total time=  30.9s\n",
      "[CV 2/4] END ..n_neighbors=200, weights=uniform;, score=0.716 total time=  30.9s\n",
      "[CV 3/4] END ..n_neighbors=200, weights=uniform;, score=0.713 total time=  31.1s\n",
      "[CV 4/4] END ..n_neighbors=200, weights=uniform;, score=0.719 total time=  30.9s\n",
      "[CV 1/4] END .....n_neighbors=200, weights=None;, score=0.713 total time=  31.1s\n",
      "[CV 2/4] END .....n_neighbors=200, weights=None;, score=0.716 total time=  31.3s\n",
      "[CV 3/4] END .....n_neighbors=200, weights=None;, score=0.713 total time=  31.2s\n",
      "[CV 4/4] END .....n_neighbors=200, weights=None;, score=0.719 total time=  30.8s\n",
      "[CV 1/4] END .n_neighbors=300, weights=distance;, score=0.659 total time=  44.6s\n",
      "[CV 2/4] END .n_neighbors=300, weights=distance;, score=0.662 total time=  44.2s\n",
      "[CV 3/4] END .n_neighbors=300, weights=distance;, score=0.660 total time=  44.7s\n",
      "[CV 4/4] END .n_neighbors=300, weights=distance;, score=0.664 total time=  43.9s\n",
      "[CV 1/4] END ..n_neighbors=300, weights=uniform;, score=0.717 total time=  44.5s\n",
      "[CV 2/4] END ..n_neighbors=300, weights=uniform;, score=0.719 total time=  43.4s\n",
      "[CV 3/4] END ..n_neighbors=300, weights=uniform;, score=0.718 total time=  43.9s\n",
      "[CV 4/4] END ..n_neighbors=300, weights=uniform;, score=0.722 total time=  43.6s\n",
      "[CV 1/4] END .....n_neighbors=300, weights=None;, score=0.717 total time=  44.5s\n",
      "[CV 2/4] END .....n_neighbors=300, weights=None;, score=0.719 total time=  44.2s\n",
      "[CV 3/4] END .....n_neighbors=300, weights=None;, score=0.718 total time=  45.4s\n",
      "[CV 4/4] END .....n_neighbors=300, weights=None;, score=0.722 total time=  44.6s\n",
      "[CV 1/4] END .n_neighbors=500, weights=distance;, score=0.660 total time= 1.2min\n",
      "[CV 2/4] END .n_neighbors=500, weights=distance;, score=0.662 total time= 1.2min\n",
      "[CV 3/4] END .n_neighbors=500, weights=distance;, score=0.660 total time= 1.2min\n",
      "[CV 4/4] END .n_neighbors=500, weights=distance;, score=0.664 total time= 1.2min\n",
      "[CV 1/4] END ..n_neighbors=500, weights=uniform;, score=0.722 total time= 1.2min\n",
      "[CV 2/4] END ..n_neighbors=500, weights=uniform;, score=0.724 total time= 1.2min\n",
      "[CV 3/4] END ..n_neighbors=500, weights=uniform;, score=0.722 total time= 1.2min\n",
      "[CV 4/4] END ..n_neighbors=500, weights=uniform;, score=0.726 total time= 1.2min\n",
      "[CV 1/4] END .....n_neighbors=500, weights=None;, score=0.722 total time= 1.2min\n",
      "[CV 2/4] END .....n_neighbors=500, weights=None;, score=0.724 total time= 1.2min\n",
      "[CV 3/4] END .....n_neighbors=500, weights=None;, score=0.722 total time= 1.2min\n",
      "[CV 4/4] END .....n_neighbors=500, weights=None;, score=0.726 total time= 1.2min\n"
     ]
    },
    {
     "data": {
      "text/html": [
       "<style>#sk-container-id-3 {color: black;}#sk-container-id-3 pre{padding: 0;}#sk-container-id-3 div.sk-toggleable {background-color: white;}#sk-container-id-3 label.sk-toggleable__label {cursor: pointer;display: block;width: 100%;margin-bottom: 0;padding: 0.3em;box-sizing: border-box;text-align: center;}#sk-container-id-3 label.sk-toggleable__label-arrow:before {content: \"▸\";float: left;margin-right: 0.25em;color: #696969;}#sk-container-id-3 label.sk-toggleable__label-arrow:hover:before {color: black;}#sk-container-id-3 div.sk-estimator:hover label.sk-toggleable__label-arrow:before {color: black;}#sk-container-id-3 div.sk-toggleable__content {max-height: 0;max-width: 0;overflow: hidden;text-align: left;background-color: #f0f8ff;}#sk-container-id-3 div.sk-toggleable__content pre {margin: 0.2em;color: black;border-radius: 0.25em;background-color: #f0f8ff;}#sk-container-id-3 input.sk-toggleable__control:checked~div.sk-toggleable__content {max-height: 200px;max-width: 100%;overflow: auto;}#sk-container-id-3 input.sk-toggleable__control:checked~label.sk-toggleable__label-arrow:before {content: \"▾\";}#sk-container-id-3 div.sk-estimator input.sk-toggleable__control:checked~label.sk-toggleable__label {background-color: #d4ebff;}#sk-container-id-3 div.sk-label input.sk-toggleable__control:checked~label.sk-toggleable__label {background-color: #d4ebff;}#sk-container-id-3 input.sk-hidden--visually {border: 0;clip: rect(1px 1px 1px 1px);clip: rect(1px, 1px, 1px, 1px);height: 1px;margin: -1px;overflow: hidden;padding: 0;position: absolute;width: 1px;}#sk-container-id-3 div.sk-estimator {font-family: monospace;background-color: #f0f8ff;border: 1px dotted black;border-radius: 0.25em;box-sizing: border-box;margin-bottom: 0.5em;}#sk-container-id-3 div.sk-estimator:hover {background-color: #d4ebff;}#sk-container-id-3 div.sk-parallel-item::after {content: \"\";width: 100%;border-bottom: 1px solid gray;flex-grow: 1;}#sk-container-id-3 div.sk-label:hover label.sk-toggleable__label {background-color: #d4ebff;}#sk-container-id-3 div.sk-serial::before {content: \"\";position: absolute;border-left: 1px solid gray;box-sizing: border-box;top: 0;bottom: 0;left: 50%;z-index: 0;}#sk-container-id-3 div.sk-serial {display: flex;flex-direction: column;align-items: center;background-color: white;padding-right: 0.2em;padding-left: 0.2em;position: relative;}#sk-container-id-3 div.sk-item {position: relative;z-index: 1;}#sk-container-id-3 div.sk-parallel {display: flex;align-items: stretch;justify-content: center;background-color: white;position: relative;}#sk-container-id-3 div.sk-item::before, #sk-container-id-3 div.sk-parallel-item::before {content: \"\";position: absolute;border-left: 1px solid gray;box-sizing: border-box;top: 0;bottom: 0;left: 50%;z-index: -1;}#sk-container-id-3 div.sk-parallel-item {display: flex;flex-direction: column;z-index: 1;position: relative;background-color: white;}#sk-container-id-3 div.sk-parallel-item:first-child::after {align-self: flex-end;width: 50%;}#sk-container-id-3 div.sk-parallel-item:last-child::after {align-self: flex-start;width: 50%;}#sk-container-id-3 div.sk-parallel-item:only-child::after {width: 0;}#sk-container-id-3 div.sk-dashed-wrapped {border: 1px dashed gray;margin: 0 0.4em 0.5em 0.4em;box-sizing: border-box;padding-bottom: 0.4em;background-color: white;}#sk-container-id-3 div.sk-label label {font-family: monospace;font-weight: bold;display: inline-block;line-height: 1.2em;}#sk-container-id-3 div.sk-label-container {text-align: center;}#sk-container-id-3 div.sk-container {/* jupyter's `normalize.less` sets `[hidden] { display: none; }` but bootstrap.min.css set `[hidden] { display: none !important; }` so we also need the `!important` here to be able to override the default hidden behavior on the sphinx rendered scikit-learn.org. See: https://github.com/scikit-learn/scikit-learn/issues/21755 */display: inline-block !important;position: relative;}#sk-container-id-3 div.sk-text-repr-fallback {display: none;}</style><div id=\"sk-container-id-3\" class=\"sk-top-container\"><div class=\"sk-text-repr-fallback\"><pre>GridSearchCVProgressBar(cv=StratifiedKFold(n_splits=4, random_state=42, shuffle=True),\n",
       "                        estimator=KNeighborsClassifier(),\n",
       "                        param_grid={&#x27;n_neighbors&#x27;: [20, 70, 120, 200, 300, 500],\n",
       "                                    &#x27;weights&#x27;: [&#x27;distance&#x27;, &#x27;uniform&#x27;, None]},\n",
       "                        scoring=&#x27;roc_auc&#x27;, verbose=3)</pre><b>In a Jupyter environment, please rerun this cell to show the HTML representation or trust the notebook. <br />On GitHub, the HTML representation is unable to render, please try loading this page with nbviewer.org.</b></div><div class=\"sk-container\" hidden><div class=\"sk-item sk-dashed-wrapped\"><div class=\"sk-label-container\"><div class=\"sk-label sk-toggleable\"><input class=\"sk-toggleable__control sk-hidden--visually\" id=\"sk-estimator-id-5\" type=\"checkbox\" ><label for=\"sk-estimator-id-5\" class=\"sk-toggleable__label sk-toggleable__label-arrow\">GridSearchCVProgressBar</label><div class=\"sk-toggleable__content\"><pre>GridSearchCVProgressBar(cv=StratifiedKFold(n_splits=4, random_state=42, shuffle=True),\n",
       "                        estimator=KNeighborsClassifier(),\n",
       "                        param_grid={&#x27;n_neighbors&#x27;: [20, 70, 120, 200, 300, 500],\n",
       "                                    &#x27;weights&#x27;: [&#x27;distance&#x27;, &#x27;uniform&#x27;, None]},\n",
       "                        scoring=&#x27;roc_auc&#x27;, verbose=3)</pre></div></div></div><div class=\"sk-parallel\"><div class=\"sk-parallel-item\"><div class=\"sk-item\"><div class=\"sk-label-container\"><div class=\"sk-label sk-toggleable\"><input class=\"sk-toggleable__control sk-hidden--visually\" id=\"sk-estimator-id-6\" type=\"checkbox\" ><label for=\"sk-estimator-id-6\" class=\"sk-toggleable__label sk-toggleable__label-arrow\">estimator: KNeighborsClassifier</label><div class=\"sk-toggleable__content\"><pre>KNeighborsClassifier()</pre></div></div></div><div class=\"sk-serial\"><div class=\"sk-item\"><div class=\"sk-estimator sk-toggleable\"><input class=\"sk-toggleable__control sk-hidden--visually\" id=\"sk-estimator-id-7\" type=\"checkbox\" ><label for=\"sk-estimator-id-7\" class=\"sk-toggleable__label sk-toggleable__label-arrow\">KNeighborsClassifier</label><div class=\"sk-toggleable__content\"><pre>KNeighborsClassifier()</pre></div></div></div></div></div></div></div></div></div></div>"
      ],
      "text/plain": [
       "GridSearchCVProgressBar(cv=StratifiedKFold(n_splits=4, random_state=42, shuffle=True),\n",
       "                        estimator=KNeighborsClassifier(),\n",
       "                        param_grid={'n_neighbors': [20, 70, 120, 200, 300, 500],\n",
       "                                    'weights': ['distance', 'uniform', None]},\n",
       "                        scoring='roc_auc', verbose=3)"
      ]
     },
     "execution_count": 48,
     "metadata": {},
     "output_type": "execute_result"
    }
   ],
   "source": [
    "gs.fit(X_train, y_train) #забыл сделать валидацию по урезанным данным"
   ]
  },
  {
   "cell_type": "code",
   "execution_count": 51,
   "id": "c9b754ef",
   "metadata": {},
   "outputs": [
    {
     "data": {
      "text/html": [
       "<style>#sk-container-id-5 {color: black;}#sk-container-id-5 pre{padding: 0;}#sk-container-id-5 div.sk-toggleable {background-color: white;}#sk-container-id-5 label.sk-toggleable__label {cursor: pointer;display: block;width: 100%;margin-bottom: 0;padding: 0.3em;box-sizing: border-box;text-align: center;}#sk-container-id-5 label.sk-toggleable__label-arrow:before {content: \"▸\";float: left;margin-right: 0.25em;color: #696969;}#sk-container-id-5 label.sk-toggleable__label-arrow:hover:before {color: black;}#sk-container-id-5 div.sk-estimator:hover label.sk-toggleable__label-arrow:before {color: black;}#sk-container-id-5 div.sk-toggleable__content {max-height: 0;max-width: 0;overflow: hidden;text-align: left;background-color: #f0f8ff;}#sk-container-id-5 div.sk-toggleable__content pre {margin: 0.2em;color: black;border-radius: 0.25em;background-color: #f0f8ff;}#sk-container-id-5 input.sk-toggleable__control:checked~div.sk-toggleable__content {max-height: 200px;max-width: 100%;overflow: auto;}#sk-container-id-5 input.sk-toggleable__control:checked~label.sk-toggleable__label-arrow:before {content: \"▾\";}#sk-container-id-5 div.sk-estimator input.sk-toggleable__control:checked~label.sk-toggleable__label {background-color: #d4ebff;}#sk-container-id-5 div.sk-label input.sk-toggleable__control:checked~label.sk-toggleable__label {background-color: #d4ebff;}#sk-container-id-5 input.sk-hidden--visually {border: 0;clip: rect(1px 1px 1px 1px);clip: rect(1px, 1px, 1px, 1px);height: 1px;margin: -1px;overflow: hidden;padding: 0;position: absolute;width: 1px;}#sk-container-id-5 div.sk-estimator {font-family: monospace;background-color: #f0f8ff;border: 1px dotted black;border-radius: 0.25em;box-sizing: border-box;margin-bottom: 0.5em;}#sk-container-id-5 div.sk-estimator:hover {background-color: #d4ebff;}#sk-container-id-5 div.sk-parallel-item::after {content: \"\";width: 100%;border-bottom: 1px solid gray;flex-grow: 1;}#sk-container-id-5 div.sk-label:hover label.sk-toggleable__label {background-color: #d4ebff;}#sk-container-id-5 div.sk-serial::before {content: \"\";position: absolute;border-left: 1px solid gray;box-sizing: border-box;top: 0;bottom: 0;left: 50%;z-index: 0;}#sk-container-id-5 div.sk-serial {display: flex;flex-direction: column;align-items: center;background-color: white;padding-right: 0.2em;padding-left: 0.2em;position: relative;}#sk-container-id-5 div.sk-item {position: relative;z-index: 1;}#sk-container-id-5 div.sk-parallel {display: flex;align-items: stretch;justify-content: center;background-color: white;position: relative;}#sk-container-id-5 div.sk-item::before, #sk-container-id-5 div.sk-parallel-item::before {content: \"\";position: absolute;border-left: 1px solid gray;box-sizing: border-box;top: 0;bottom: 0;left: 50%;z-index: -1;}#sk-container-id-5 div.sk-parallel-item {display: flex;flex-direction: column;z-index: 1;position: relative;background-color: white;}#sk-container-id-5 div.sk-parallel-item:first-child::after {align-self: flex-end;width: 50%;}#sk-container-id-5 div.sk-parallel-item:last-child::after {align-self: flex-start;width: 50%;}#sk-container-id-5 div.sk-parallel-item:only-child::after {width: 0;}#sk-container-id-5 div.sk-dashed-wrapped {border: 1px dashed gray;margin: 0 0.4em 0.5em 0.4em;box-sizing: border-box;padding-bottom: 0.4em;background-color: white;}#sk-container-id-5 div.sk-label label {font-family: monospace;font-weight: bold;display: inline-block;line-height: 1.2em;}#sk-container-id-5 div.sk-label-container {text-align: center;}#sk-container-id-5 div.sk-container {/* jupyter's `normalize.less` sets `[hidden] { display: none; }` but bootstrap.min.css set `[hidden] { display: none !important; }` so we also need the `!important` here to be able to override the default hidden behavior on the sphinx rendered scikit-learn.org. See: https://github.com/scikit-learn/scikit-learn/issues/21755 */display: inline-block !important;position: relative;}#sk-container-id-5 div.sk-text-repr-fallback {display: none;}</style><div id=\"sk-container-id-5\" class=\"sk-top-container\"><div class=\"sk-text-repr-fallback\"><pre>KNeighborsClassifier(n_neighbors=500)</pre><b>In a Jupyter environment, please rerun this cell to show the HTML representation or trust the notebook. <br />On GitHub, the HTML representation is unable to render, please try loading this page with nbviewer.org.</b></div><div class=\"sk-container\" hidden><div class=\"sk-item\"><div class=\"sk-estimator sk-toggleable\"><input class=\"sk-toggleable__control sk-hidden--visually\" id=\"sk-estimator-id-9\" type=\"checkbox\" checked><label for=\"sk-estimator-id-9\" class=\"sk-toggleable__label sk-toggleable__label-arrow\">KNeighborsClassifier</label><div class=\"sk-toggleable__content\"><pre>KNeighborsClassifier(n_neighbors=500)</pre></div></div></div></div></div>"
      ],
      "text/plain": [
       "KNeighborsClassifier(n_neighbors=500)"
      ]
     },
     "execution_count": 51,
     "metadata": {},
     "output_type": "execute_result"
    }
   ],
   "source": [
    "model = KNeighborsClassifier(n_neighbors=500)\n",
    "model.fit(downsampled_data[:, :-1], downsampled_data[:, -1])"
   ]
  },
  {
   "cell_type": "code",
   "execution_count": 52,
   "id": "f4c7f24b",
   "metadata": {},
   "outputs": [
    {
     "name": "stderr",
     "output_type": "stream",
     "text": [
      "D:\\anaconda\\Lib\\site-packages\\sklearn\\base.py:457: UserWarning: X has feature names, but KNeighborsClassifier was fitted without feature names\n",
      "  warnings.warn(\n"
     ]
    },
    {
     "name": "stdout",
     "output_type": "stream",
     "text": [
      "              precision    recall  f1-score   support\n",
      "\n",
      "           0       0.98      0.69      0.81    221444\n",
      "           1       0.09      0.68      0.16     10509\n",
      "\n",
      "    accuracy                           0.69    231953\n",
      "   macro avg       0.54      0.68      0.49    231953\n",
      "weighted avg       0.94      0.69      0.78    231953\n",
      "\n"
     ]
    }
   ],
   "source": [
    "knn_pred_1 = model.predict(X_test)\n",
    "target_names = new_y_train.unique()\n",
    "print(classification_report(y_test, knn_pred_1, labels=target_names))"
   ]
  },
  {
   "cell_type": "markdown",
   "id": "6ca00e9d",
   "metadata": {},
   "source": [
    "Сравнивая с моделью опорных векторов, метрика precision немного увеличилась, recall для класса 0 увеличился, но в то же время recall для класса 1 снизился."
   ]
  },
  {
   "cell_type": "markdown",
   "id": "b508025f",
   "metadata": {},
   "source": [
    "# Улучшение модели"
   ]
  },
  {
   "cell_type": "code",
   "execution_count": 53,
   "id": "afac4873",
   "metadata": {},
   "outputs": [],
   "source": [
    "ds_n = ds[['popularity', 'age', 'liveness', 'tempo', 'mode', 'danceability']]"
   ]
  },
  {
   "cell_type": "code",
   "execution_count": 54,
   "id": "809378a4",
   "metadata": {},
   "outputs": [],
   "source": [
    "X_train, X_test, y_train, y_test = train_test_split(\n",
    "    ds_n.drop('popularity', axis =1), \n",
    "    ds_n['popularity'], \n",
    "    test_size=0.2, \n",
    "    random_state=21)"
   ]
  },
  {
   "cell_type": "code",
   "execution_count": 55,
   "id": "138505c5",
   "metadata": {},
   "outputs": [],
   "source": [
    "train_data = pd.concat([X_train, y_train], axis = 1)\n",
    "neg_class = train_data[train_data['popularity'] == 0]\n",
    "pos_class = train_data[train_data['popularity'] == 1]\n",
    "neg_downsampled = neg_class.sample(frac=0.05, random_state = 1) \n",
    "downsampled_data = np.concatenate((neg_downsampled, pos_class))"
   ]
  },
  {
   "cell_type": "code",
   "execution_count": 56,
   "id": "8eced70f",
   "metadata": {},
   "outputs": [
    {
     "data": {
      "text/html": [
       "<style>#sk-container-id-6 {color: black;}#sk-container-id-6 pre{padding: 0;}#sk-container-id-6 div.sk-toggleable {background-color: white;}#sk-container-id-6 label.sk-toggleable__label {cursor: pointer;display: block;width: 100%;margin-bottom: 0;padding: 0.3em;box-sizing: border-box;text-align: center;}#sk-container-id-6 label.sk-toggleable__label-arrow:before {content: \"▸\";float: left;margin-right: 0.25em;color: #696969;}#sk-container-id-6 label.sk-toggleable__label-arrow:hover:before {color: black;}#sk-container-id-6 div.sk-estimator:hover label.sk-toggleable__label-arrow:before {color: black;}#sk-container-id-6 div.sk-toggleable__content {max-height: 0;max-width: 0;overflow: hidden;text-align: left;background-color: #f0f8ff;}#sk-container-id-6 div.sk-toggleable__content pre {margin: 0.2em;color: black;border-radius: 0.25em;background-color: #f0f8ff;}#sk-container-id-6 input.sk-toggleable__control:checked~div.sk-toggleable__content {max-height: 200px;max-width: 100%;overflow: auto;}#sk-container-id-6 input.sk-toggleable__control:checked~label.sk-toggleable__label-arrow:before {content: \"▾\";}#sk-container-id-6 div.sk-estimator input.sk-toggleable__control:checked~label.sk-toggleable__label {background-color: #d4ebff;}#sk-container-id-6 div.sk-label input.sk-toggleable__control:checked~label.sk-toggleable__label {background-color: #d4ebff;}#sk-container-id-6 input.sk-hidden--visually {border: 0;clip: rect(1px 1px 1px 1px);clip: rect(1px, 1px, 1px, 1px);height: 1px;margin: -1px;overflow: hidden;padding: 0;position: absolute;width: 1px;}#sk-container-id-6 div.sk-estimator {font-family: monospace;background-color: #f0f8ff;border: 1px dotted black;border-radius: 0.25em;box-sizing: border-box;margin-bottom: 0.5em;}#sk-container-id-6 div.sk-estimator:hover {background-color: #d4ebff;}#sk-container-id-6 div.sk-parallel-item::after {content: \"\";width: 100%;border-bottom: 1px solid gray;flex-grow: 1;}#sk-container-id-6 div.sk-label:hover label.sk-toggleable__label {background-color: #d4ebff;}#sk-container-id-6 div.sk-serial::before {content: \"\";position: absolute;border-left: 1px solid gray;box-sizing: border-box;top: 0;bottom: 0;left: 50%;z-index: 0;}#sk-container-id-6 div.sk-serial {display: flex;flex-direction: column;align-items: center;background-color: white;padding-right: 0.2em;padding-left: 0.2em;position: relative;}#sk-container-id-6 div.sk-item {position: relative;z-index: 1;}#sk-container-id-6 div.sk-parallel {display: flex;align-items: stretch;justify-content: center;background-color: white;position: relative;}#sk-container-id-6 div.sk-item::before, #sk-container-id-6 div.sk-parallel-item::before {content: \"\";position: absolute;border-left: 1px solid gray;box-sizing: border-box;top: 0;bottom: 0;left: 50%;z-index: -1;}#sk-container-id-6 div.sk-parallel-item {display: flex;flex-direction: column;z-index: 1;position: relative;background-color: white;}#sk-container-id-6 div.sk-parallel-item:first-child::after {align-self: flex-end;width: 50%;}#sk-container-id-6 div.sk-parallel-item:last-child::after {align-self: flex-start;width: 50%;}#sk-container-id-6 div.sk-parallel-item:only-child::after {width: 0;}#sk-container-id-6 div.sk-dashed-wrapped {border: 1px dashed gray;margin: 0 0.4em 0.5em 0.4em;box-sizing: border-box;padding-bottom: 0.4em;background-color: white;}#sk-container-id-6 div.sk-label label {font-family: monospace;font-weight: bold;display: inline-block;line-height: 1.2em;}#sk-container-id-6 div.sk-label-container {text-align: center;}#sk-container-id-6 div.sk-container {/* jupyter's `normalize.less` sets `[hidden] { display: none; }` but bootstrap.min.css set `[hidden] { display: none !important; }` so we also need the `!important` here to be able to override the default hidden behavior on the sphinx rendered scikit-learn.org. See: https://github.com/scikit-learn/scikit-learn/issues/21755 */display: inline-block !important;position: relative;}#sk-container-id-6 div.sk-text-repr-fallback {display: none;}</style><div id=\"sk-container-id-6\" class=\"sk-top-container\"><div class=\"sk-text-repr-fallback\"><pre>KNeighborsClassifier(n_neighbors=500)</pre><b>In a Jupyter environment, please rerun this cell to show the HTML representation or trust the notebook. <br />On GitHub, the HTML representation is unable to render, please try loading this page with nbviewer.org.</b></div><div class=\"sk-container\" hidden><div class=\"sk-item\"><div class=\"sk-estimator sk-toggleable\"><input class=\"sk-toggleable__control sk-hidden--visually\" id=\"sk-estimator-id-10\" type=\"checkbox\" checked><label for=\"sk-estimator-id-10\" class=\"sk-toggleable__label sk-toggleable__label-arrow\">KNeighborsClassifier</label><div class=\"sk-toggleable__content\"><pre>KNeighborsClassifier(n_neighbors=500)</pre></div></div></div></div></div>"
      ],
      "text/plain": [
       "KNeighborsClassifier(n_neighbors=500)"
      ]
     },
     "execution_count": 56,
     "metadata": {},
     "output_type": "execute_result"
    }
   ],
   "source": [
    "new_model = KNeighborsClassifier(n_neighbors=500)\n",
    "new_model.fit(downsampled_data[:, :-1], downsampled_data[:, -1])"
   ]
  },
  {
   "cell_type": "code",
   "execution_count": 58,
   "id": "19362ff0",
   "metadata": {},
   "outputs": [
    {
     "name": "stderr",
     "output_type": "stream",
     "text": [
      "D:\\anaconda\\Lib\\site-packages\\sklearn\\base.py:457: UserWarning: X has feature names, but KNeighborsClassifier was fitted without feature names\n",
      "  warnings.warn(\n"
     ]
    },
    {
     "name": "stdout",
     "output_type": "stream",
     "text": [
      "              precision    recall  f1-score   support\n",
      "\n",
      "           0       0.98      0.67      0.80    221444\n",
      "           1       0.09      0.69      0.16     10509\n",
      "\n",
      "    accuracy                           0.67    231953\n",
      "   macro avg       0.53      0.68      0.48    231953\n",
      "weighted avg       0.94      0.67      0.77    231953\n",
      "\n"
     ]
    }
   ],
   "source": [
    "knn_pred_1 = new_model.predict(X_test)\n",
    "target_names = new_y_train.unique()\n",
    "print(classification_report(y_test, knn_pred_1, labels=target_names))"
   ]
  },
  {
   "cell_type": "markdown",
   "id": "a79338d5",
   "metadata": {},
   "source": [
    "С добавлением признаков метрика precision никак не изменилась, метрика recall изменилась незначительно"
   ]
  },
  {
   "cell_type": "markdown",
   "id": "b649615b",
   "metadata": {},
   "source": [
    "# Выводы "
   ]
  },
  {
   "cell_type": "markdown",
   "id": "ed151e14",
   "metadata": {},
   "source": [
    "1) Метод ближайших соседей, с одной стороны, удобнее в реализации благодаря быстрой работе с большим количеством данных\n",
    "2) С другой стороны, его применение не очень удобно для сильного дисбаланса классов (тк нет возможности учесть это сразу при построении модели)\n",
    "3) Сильных изменений в метрике precision для класса 1 (которая являлась целевой для увеличения) не произошло. Необходимо дальше искать оптимальный набор факторов либо применять иную модель"
   ]
  },
  {
   "cell_type": "code",
   "execution_count": null,
   "id": "ed6ac488",
   "metadata": {},
   "outputs": [],
   "source": []
  }
 ],
 "metadata": {
  "hide_input": false,
  "kernelspec": {
   "display_name": "Python 3 (ipykernel)",
   "language": "python",
   "name": "python3"
  },
  "language_info": {
   "codemirror_mode": {
    "name": "ipython",
    "version": 3
   },
   "file_extension": ".py",
   "mimetype": "text/x-python",
   "name": "python",
   "nbconvert_exporter": "python",
   "pygments_lexer": "ipython3",
   "version": "3.11.4"
  }
 },
 "nbformat": 4,
 "nbformat_minor": 5
}
